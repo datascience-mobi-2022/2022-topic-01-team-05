{
 "cells": [
  {
   "cell_type": "code",
   "execution_count": 6,
   "metadata": {},
   "outputs": [],
   "source": [
    "from PIL import Image\n",
    "from PIL import ImageFilter\n",
    "import K_means\n",
    "import color\n"
   ]
  },
  {
   "cell_type": "code",
   "execution_count": 7,
   "metadata": {},
   "outputs": [],
   "source": [
    "img0 = Image.open(\"../data/human_ht29_colon_cancer_2_images/img0.tif\")\n",
    "img1 = Image.open(\"../data/human_ht29_colon_cancer_2_images/img1.tif\")\n",
    "img2 = Image.open(\"../data/human_ht29_colon_cancer_2_images/img2.tif\")\n",
    "img3 = Image.open(\"../data/human_ht29_colon_cancer_2_images/img3.tif\")\n",
    "img4 = Image.open(\"../data/human_ht29_colon_cancer_2_images/img4.tif\")\n",
    "img5 = Image.open(\"../data/human_ht29_colon_cancer_2_images/img5.tif\")\n",
    "img6 = Image.open(\"../data/human_ht29_colon_cancer_2_images/img6.tif\")\n",
    "img7 = Image.open(\"../data/human_ht29_colon_cancer_2_images/img7.tif\")\n",
    "img8 = Image.open(\"../data/human_ht29_colon_cancer_2_images/img8.tif\")\n",
    "img9 = Image.open(\"../data/human_ht29_colon_cancer_2_images/img9.tif\")\n",
    "img10 = Image.open(\"../data/human_ht29_colon_cancer_2_images/img10.tif\")\n",
    "img11 = Image.open(\"../data/human_ht29_colon_cancer_2_images/img11.tif\")\n",
    "img12 = Image.open(\"../data/human_ht29_colon_cancer_2_images/img12.tif\")\n",
    "img13 = Image.open(\"../data/human_ht29_colon_cancer_2_images/img13.tif\")\n",
    "img14 = Image.open(\"../data/human_ht29_colon_cancer_2_images/img14.tif\")\n",
    "img15 = Image.open(\"../data/human_ht29_colon_cancer_2_images/img15.tif\")\n",
    "img16 = Image.open(\"../data/human_ht29_colon_cancer_2_images/img16.tif\")\n",
    "img17 = Image.open(\"../data/human_ht29_colon_cancer_2_images/img17.tif\")\n",
    "img18 = Image.open(\"../data/human_ht29_colon_cancer_2_images/img18.tif\")\n",
    "img19 = Image.open(\"../data/human_ht29_colon_cancer_2_images/img19.tif\")\n",
    "img20 = Image.open(\"../data/human_ht29_colon_cancer_2_images/img20.tif\")\n",
    "img21 = Image.open(\"../data/human_ht29_colon_cancer_2_images/img21.tif\")\n",
    "img22 = Image.open(\"../data/human_ht29_colon_cancer_2_images/img22.tif\")\n",
    "img23 = Image.open(\"../data/human_ht29_colon_cancer_2_images/img23.tif\")\n",
    "\n",
    "imglist = [img0,img1,img2,img3,img4,img5,img6,img7,img8,img9,img10,img11,img12,img13,img14,img15,img16,img17,img18,img19,img20,img21,img22,img23]"
   ]
  },
  {
   "cell_type": "code",
   "execution_count": 8,
   "metadata": {},
   "outputs": [],
   "source": [
    "pre_processing_list = [\"none\",\"edge_enhancement\",\"median_filter\"]"
   ]
  },
  {
   "cell_type": "code",
   "execution_count": 9,
   "metadata": {},
   "outputs": [
    {
     "name": "stdout",
     "output_type": "stream",
     "text": [
      "Grayscale Image Clustering\n",
      "Grayscale Image Clustering\n",
      "Grayscale Image Clustering\n",
      "Grayscale Image Clustering\n",
      "Grayscale Image Clustering\n",
      "Grayscale Image Clustering\n",
      "Grayscale Image Clustering\n",
      "Grayscale Image Clustering\n",
      "Grayscale Image Clustering\n",
      "Grayscale Image Clustering\n",
      "Grayscale Image Clustering\n",
      "Grayscale Image Clustering\n",
      "Grayscale Image Clustering\n",
      "Grayscale Image Clustering\n",
      "Grayscale Image Clustering\n",
      "Grayscale Image Clustering\n",
      "Grayscale Image Clustering\n",
      "Grayscale Image Clustering\n",
      "Grayscale Image Clustering\n",
      "Grayscale Image Clustering\n",
      "Grayscale Image Clustering\n",
      "Grayscale Image Clustering\n",
      "Grayscale Image Clustering\n",
      "Grayscale Image Clustering\n",
      "Grayscale Image Clustering\n",
      "Grayscale Image Clustering\n",
      "Grayscale Image Clustering\n",
      "Grayscale Image Clustering\n",
      "Grayscale Image Clustering\n",
      "Grayscale Image Clustering\n",
      "Grayscale Image Clustering\n",
      "Grayscale Image Clustering\n",
      "Grayscale Image Clustering\n",
      "Grayscale Image Clustering\n",
      "Grayscale Image Clustering\n",
      "Grayscale Image Clustering\n",
      "Grayscale Image Clustering\n",
      "Grayscale Image Clustering\n",
      "Grayscale Image Clustering\n",
      "Grayscale Image Clustering\n",
      "Grayscale Image Clustering\n",
      "Grayscale Image Clustering\n",
      "Grayscale Image Clustering\n",
      "Grayscale Image Clustering\n",
      "Grayscale Image Clustering\n",
      "Grayscale Image Clustering\n",
      "Grayscale Image Clustering\n",
      "Grayscale Image Clustering\n",
      "Grayscale Image Clustering\n",
      "Grayscale Image Clustering\n",
      "Grayscale Image Clustering\n",
      "Grayscale Image Clustering\n",
      "Grayscale Image Clustering\n",
      "Grayscale Image Clustering\n",
      "Grayscale Image Clustering\n",
      "Grayscale Image Clustering\n",
      "Grayscale Image Clustering\n",
      "Grayscale Image Clustering\n",
      "Grayscale Image Clustering\n",
      "Grayscale Image Clustering\n",
      "Grayscale Image Clustering\n",
      "Grayscale Image Clustering\n",
      "Grayscale Image Clustering\n",
      "Grayscale Image Clustering\n",
      "Grayscale Image Clustering\n",
      "Grayscale Image Clustering\n",
      "Grayscale Image Clustering\n",
      "Grayscale Image Clustering\n",
      "Grayscale Image Clustering\n",
      "Grayscale Image Clustering\n",
      "Grayscale Image Clustering\n",
      "Grayscale Image Clustering\n"
     ]
    }
   ],
   "source": [
    "\n",
    "Image_count = 0\n",
    "for input_image in imglist:\n",
    "    for processing_method in pre_processing_list:\n",
    "        if processing_method == \"edge_enhancement\":\n",
    "            processed_image = input_image.filter(ImageFilter.EDGE_ENHANCE)\n",
    "        elif processing_method == \"median_filter\":\n",
    "            processed_image = input_image.filter(ImageFilter.MedianFilter)\n",
    "        elif processing_method == \"none\":\n",
    "            processed_image = input_image\n",
    "        output_image = K_means.K_Means(processed_image,2,10)\n",
    "        output_image.save((\"BBBC_Output/BBBC_img{}_\".format(Image_count)+processing_method+\".png\"))\n",
    "    Image_count = Image_count + 1"
   ]
  }
 ],
 "metadata": {
  "kernelspec": {
   "display_name": "Python 3.10.4 ('environment')",
   "language": "python",
   "name": "python3"
  },
  "language_info": {
   "codemirror_mode": {
    "name": "ipython",
    "version": 3
   },
   "file_extension": ".py",
   "mimetype": "text/x-python",
   "name": "python",
   "nbconvert_exporter": "python",
   "pygments_lexer": "ipython3",
   "version": "3.10.4"
  },
  "orig_nbformat": 4,
  "vscode": {
   "interpreter": {
    "hash": "54b7fcf1bb44cc75fc95c5b2a09216d96d24708150346c5f6bdce168163bfc85"
   }
  }
 },
 "nbformat": 4,
 "nbformat_minor": 2
}
