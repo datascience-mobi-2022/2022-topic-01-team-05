{
 "cells": [
  {
   "cell_type": "code",
   "execution_count": 2,
   "metadata": {},
   "outputs": [],
   "source": [
    "from PIL import Image\n",
    "from PIL import ImageFilter\n",
    "import K_means\n",
    "import color\n"
   ]
  },
  {
   "cell_type": "code",
   "execution_count": 6,
   "metadata": {},
   "outputs": [],
   "source": [
    "img0 = Image.open(\"../data/human_ht29_colon_cancer_2_images/AS_09125_050116000001_A24f00d0_slice1_channel1.tif\")\n",
    "img1 = Image.open(\"../data/NIH3T3/img/dna-1.png\")\n",
    "img2 = Image.open(\"../data/NIH3T3/img/dna-26.png\")\n",
    "img3 = Image.open(\"../data/NIH3T3/img/dna-27.png\")\n",
    "img4 = Image.open(\"../data/NIH3T3/img/dna-28.png\")\n",
    "img5 = Image.open(\"../data/NIH3T3/img/dna-29.png\")\n",
    "img6 = Image.open(\"../data/NIH3T3/img/dna-30.png\")\n",
    "img7 = Image.open(\"../data/NIH3T3/img/dna-31.png\")\n",
    "img8 = Image.open(\"../data/NIH3T3/img/dna-32.png\")\n",
    "img9 = Image.open(\"../data/NIH3T3/img/dna-33.png\")\n",
    "img10 = Image.open(\"../data/NIH3T3/img/dna-37.png\")\n",
    "img11 = Image.open(\"../data/NIH3T3/img/dna-40.png\")\n",
    "img12 = Image.open(\"../data/NIH3T3/img/dna-42.png\")\n",
    "img13 = Image.open(\"../data/NIH3T3/img/dna-44.png\")\n",
    "img14 = Image.open(\"../data/NIH3T3/img/dna-45.png\")\n",
    "img15 = Image.open(\"../data/NIH3T3/img/dna-46.png\")\n",
    "img16 = Image.open(\"../data/NIH3T3/img/dna-47.png\")\n",
    "img17 = Image.open(\"../data/NIH3T3/img/dna-49.png\")\n",
    "\n",
    "imglist = [img0,img1,img2,img3,img4,img5,img6,img7,img8,img9,img10,img11,img12,img13,img14,img15,img16,img17]"
   ]
  },
  {
   "cell_type": "code",
   "execution_count": 7,
   "metadata": {},
   "outputs": [],
   "source": [
    "pre_processing_list = [\"none\",\"edge_enhancement\",\"median_filter\"]"
   ]
  },
  {
   "cell_type": "code",
   "execution_count": 8,
   "metadata": {},
   "outputs": [
    {
     "name": "stdout",
     "output_type": "stream",
     "text": [
      "Grayscale Image Clustering\n",
      "Grayscale Image Clustering\n"
     ]
    },
    {
     "ename": "KeyboardInterrupt",
     "evalue": "",
     "output_type": "error",
     "traceback": [
      "\u001b[1;31m---------------------------------------------------------------------------\u001b[0m",
      "\u001b[1;31mKeyboardInterrupt\u001b[0m                         Traceback (most recent call last)",
      "\u001b[1;32mc:\\Users\\Cedric\\Documents\\GitHub\\2022-topic-01-team-05\\cell_clustering\\BBBC_Clustering.ipynb Cell 4\u001b[0m in \u001b[0;36m<cell line: 2>\u001b[1;34m()\u001b[0m\n\u001b[0;32m      <a href='vscode-notebook-cell:/c%3A/Users/Cedric/Documents/GitHub/2022-topic-01-team-05/cell_clustering/BBBC_Clustering.ipynb#ch0000003?line=7'>8</a>\u001b[0m     \u001b[39melif\u001b[39;00m processing_method \u001b[39m==\u001b[39m \u001b[39m\"\u001b[39m\u001b[39mnone\u001b[39m\u001b[39m\"\u001b[39m:\n\u001b[0;32m      <a href='vscode-notebook-cell:/c%3A/Users/Cedric/Documents/GitHub/2022-topic-01-team-05/cell_clustering/BBBC_Clustering.ipynb#ch0000003?line=8'>9</a>\u001b[0m         processed_image \u001b[39m=\u001b[39m input_image\n\u001b[1;32m---> <a href='vscode-notebook-cell:/c%3A/Users/Cedric/Documents/GitHub/2022-topic-01-team-05/cell_clustering/BBBC_Clustering.ipynb#ch0000003?line=9'>10</a>\u001b[0m     output_image \u001b[39m=\u001b[39m K_means\u001b[39m.\u001b[39;49mK_Means(processed_image,\u001b[39m2\u001b[39;49m,\u001b[39m10\u001b[39;49m)\n\u001b[0;32m     <a href='vscode-notebook-cell:/c%3A/Users/Cedric/Documents/GitHub/2022-topic-01-team-05/cell_clustering/BBBC_Clustering.ipynb#ch0000003?line=10'>11</a>\u001b[0m     output_image\u001b[39m.\u001b[39msave((\u001b[39m\"\u001b[39m\u001b[39mGrayscale_Output/img\u001b[39m\u001b[39m{}\u001b[39;00m\u001b[39m_\u001b[39m\u001b[39m\"\u001b[39m\u001b[39m.\u001b[39mformat(Image_count)\u001b[39m+\u001b[39mprocessing_method\u001b[39m+\u001b[39m\u001b[39m\"\u001b[39m\u001b[39m.png\u001b[39m\u001b[39m\"\u001b[39m))\n\u001b[0;32m     <a href='vscode-notebook-cell:/c%3A/Users/Cedric/Documents/GitHub/2022-topic-01-team-05/cell_clustering/BBBC_Clustering.ipynb#ch0000003?line=11'>12</a>\u001b[0m Image_count \u001b[39m=\u001b[39m Image_count \u001b[39m+\u001b[39m \u001b[39m1\u001b[39m\n",
      "File \u001b[1;32mc:\\Users\\Cedric\\Documents\\GitHub\\2022-topic-01-team-05\\cell_clustering\\K_means.py:253\u001b[0m, in \u001b[0;36mK_Means\u001b[1;34m(image, K, iterations, distance_type)\u001b[0m\n\u001b[0;32m    248\u001b[0m         image_out\u001b[39m.\u001b[39mputdata(rgb_list)\n\u001b[0;32m    251\u001b[0m         \u001b[39mreturn\u001b[39;00m image_out  \u001b[39m# Assignment list can be used to create image\u001b[39;00m\n\u001b[1;32m--> 253\u001b[0m segmented_image \u001b[39m=\u001b[39m k_means(image, K, iterations)\n\u001b[0;32m    254\u001b[0m \u001b[39mreturn\u001b[39;00m segmented_image\n",
      "File \u001b[1;32mc:\\Users\\Cedric\\Documents\\GitHub\\2022-topic-01-team-05\\cell_clustering\\K_means.py:85\u001b[0m, in \u001b[0;36mK_Means.<locals>.k_means\u001b[1;34m(image, K, iterations)\u001b[0m\n\u001b[0;32m     81\u001b[0m i \u001b[39m=\u001b[39m \u001b[39m0\u001b[39m\n\u001b[0;32m     83\u001b[0m \u001b[39mwhile\u001b[39;00m i \u001b[39m<\u001b[39m iterations:  \u001b[39m# Maximum of 6 iterations\u001b[39;00m\n\u001b[1;32m---> 85\u001b[0m     resmat \u001b[39m=\u001b[39m responsibility(centroids,image) \n\u001b[0;32m     87\u001b[0m     new_centroids \u001b[39m=\u001b[39m clustermeans(resmat, image) \u001b[39m# New Centroids\u001b[39;00m\n\u001b[0;32m     89\u001b[0m     \u001b[39mif\u001b[39;00m new_centroids \u001b[39m==\u001b[39m centroids:  \u001b[39m# End algortihm, if centroids don't change\u001b[39;00m\n",
      "File \u001b[1;32mc:\\Users\\Cedric\\Documents\\GitHub\\2022-topic-01-team-05\\cell_clustering\\K_means.py:47\u001b[0m, in \u001b[0;36mK_Means.<locals>.responsibility\u001b[1;34m(centroids, image)\u001b[0m\n\u001b[0;32m     43\u001b[0m     \u001b[39mfor\u001b[39;00m c \u001b[39min\u001b[39;00m centroids:\n\u001b[0;32m     45\u001b[0m         distance\u001b[39m.\u001b[39mappend(calculate_distance(imagePixels[p], c))\n\u001b[1;32m---> 47\u001b[0m     matrix[p,np\u001b[39m.\u001b[39;49margmin(distance)] \u001b[39m=\u001b[39m \u001b[39m1\u001b[39m\n\u001b[0;32m     48\u001b[0m \u001b[39mreturn\u001b[39;00m matrix\n",
      "File \u001b[1;32m<__array_function__ internals>:180\u001b[0m, in \u001b[0;36margmin\u001b[1;34m(*args, **kwargs)\u001b[0m\n",
      "File \u001b[1;32mc:\\Users\\Cedric\\anaconda3\\envs\\environment\\lib\\site-packages\\numpy\\core\\fromnumeric.py:1312\u001b[0m, in \u001b[0;36margmin\u001b[1;34m(a, axis, out, keepdims)\u001b[0m\n\u001b[0;32m   1225\u001b[0m \u001b[39m\"\"\"\u001b[39;00m\n\u001b[0;32m   1226\u001b[0m \u001b[39mReturns the indices of the minimum values along an axis.\u001b[39;00m\n\u001b[0;32m   1227\u001b[0m \n\u001b[1;32m   (...)\u001b[0m\n\u001b[0;32m   1309\u001b[0m \u001b[39m(2, 1, 4)\u001b[39;00m\n\u001b[0;32m   1310\u001b[0m \u001b[39m\"\"\"\u001b[39;00m\n\u001b[0;32m   1311\u001b[0m kwds \u001b[39m=\u001b[39m {\u001b[39m'\u001b[39m\u001b[39mkeepdims\u001b[39m\u001b[39m'\u001b[39m: keepdims} \u001b[39mif\u001b[39;00m keepdims \u001b[39mis\u001b[39;00m \u001b[39mnot\u001b[39;00m np\u001b[39m.\u001b[39m_NoValue \u001b[39melse\u001b[39;00m {}\n\u001b[1;32m-> 1312\u001b[0m \u001b[39mreturn\u001b[39;00m _wrapfunc(a, \u001b[39m'\u001b[39m\u001b[39margmin\u001b[39m\u001b[39m'\u001b[39m, axis\u001b[39m=\u001b[39maxis, out\u001b[39m=\u001b[39mout, \u001b[39m*\u001b[39m\u001b[39m*\u001b[39mkwds)\n",
      "File \u001b[1;32mc:\\Users\\Cedric\\anaconda3\\envs\\environment\\lib\\site-packages\\numpy\\core\\fromnumeric.py:54\u001b[0m, in \u001b[0;36m_wrapfunc\u001b[1;34m(obj, method, *args, **kwds)\u001b[0m\n\u001b[0;32m     52\u001b[0m bound \u001b[39m=\u001b[39m \u001b[39mgetattr\u001b[39m(obj, method, \u001b[39mNone\u001b[39;00m)\n\u001b[0;32m     53\u001b[0m \u001b[39mif\u001b[39;00m bound \u001b[39mis\u001b[39;00m \u001b[39mNone\u001b[39;00m:\n\u001b[1;32m---> 54\u001b[0m     \u001b[39mreturn\u001b[39;00m _wrapit(obj, method, \u001b[39m*\u001b[39margs, \u001b[39m*\u001b[39m\u001b[39m*\u001b[39mkwds)\n\u001b[0;32m     56\u001b[0m \u001b[39mtry\u001b[39;00m:\n\u001b[0;32m     57\u001b[0m     \u001b[39mreturn\u001b[39;00m bound(\u001b[39m*\u001b[39margs, \u001b[39m*\u001b[39m\u001b[39m*\u001b[39mkwds)\n",
      "File \u001b[1;32mc:\\Users\\Cedric\\anaconda3\\envs\\environment\\lib\\site-packages\\numpy\\core\\fromnumeric.py:43\u001b[0m, in \u001b[0;36m_wrapit\u001b[1;34m(obj, method, *args, **kwds)\u001b[0m\n\u001b[0;32m     41\u001b[0m \u001b[39mexcept\u001b[39;00m \u001b[39mAttributeError\u001b[39;00m:\n\u001b[0;32m     42\u001b[0m     wrap \u001b[39m=\u001b[39m \u001b[39mNone\u001b[39;00m\n\u001b[1;32m---> 43\u001b[0m result \u001b[39m=\u001b[39m \u001b[39mgetattr\u001b[39m(asarray(obj), method)(\u001b[39m*\u001b[39margs, \u001b[39m*\u001b[39m\u001b[39m*\u001b[39mkwds)\n\u001b[0;32m     44\u001b[0m \u001b[39mif\u001b[39;00m wrap:\n\u001b[0;32m     45\u001b[0m     \u001b[39mif\u001b[39;00m \u001b[39mnot\u001b[39;00m \u001b[39misinstance\u001b[39m(result, mu\u001b[39m.\u001b[39mndarray):\n",
      "\u001b[1;31mKeyboardInterrupt\u001b[0m: "
     ]
    }
   ],
   "source": [
    "\n",
    "Image_count = 0\n",
    "for input_image in imglist:\n",
    "    for processing_method in pre_processing_list:\n",
    "        if processing_method == \"edge_enhancement\":\n",
    "            processed_image = input_image.filter(ImageFilter.EDGE_ENHANCE)\n",
    "        elif processing_method == \"median_filter\":\n",
    "            processed_image = input_image.filter(ImageFilter.MedianFilter)\n",
    "        elif processing_method == \"none\":\n",
    "            processed_image = input_image\n",
    "        output_image = K_means.K_Means(processed_image,2,10)\n",
    "        output_image.save((\"Grayscale_Output/img{}_\".format(Image_count)+processing_method+\".png\"))\n",
    "    Image_count = Image_count + 1"
   ]
  }
 ],
 "metadata": {
  "kernelspec": {
   "display_name": "Python 3.10.4 ('environment')",
   "language": "python",
   "name": "python3"
  },
  "language_info": {
   "codemirror_mode": {
    "name": "ipython",
    "version": 3
   },
   "file_extension": ".py",
   "mimetype": "text/x-python",
   "name": "python",
   "nbconvert_exporter": "python",
   "pygments_lexer": "ipython3",
   "version": "3.10.4"
  },
  "orig_nbformat": 4,
  "vscode": {
   "interpreter": {
    "hash": "54b7fcf1bb44cc75fc95c5b2a09216d96d24708150346c5f6bdce168163bfc85"
   }
  }
 },
 "nbformat": 4,
 "nbformat_minor": 2
}
