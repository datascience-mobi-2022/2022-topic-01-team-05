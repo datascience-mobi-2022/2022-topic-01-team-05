{
 "cells": [
  {
   "cell_type": "code",
   "execution_count": 2,
   "metadata": {},
   "outputs": [],
   "source": [
    "import dice_score as dc\n",
    "from PIL import Image\n",
    "import cv2\n",
    "from os import listdir"
   ]
  },
  {
   "cell_type": "code",
   "execution_count": 3,
   "metadata": {},
   "outputs": [],
   "source": [
    "CN_gt = cv2.imread('../data/Cell_Nuclei_gt_new2.jpg')\n",
    "YC_gt = cv2.imread('../data/Yeast_Cells_gt_new.jpg') "
   ]
  },
  {
   "cell_type": "code",
   "execution_count": 9,
   "metadata": {},
   "outputs": [],
   "source": [
    "CN_position = cv2.imread('../cell_clustering/Position_Clustering/CN_position.png')\n",
    "CN_position_weighted = cv2.imread(\"../cell_clustering/Position_Clustering/CN_position_weighted_10_percent.png\")"
   ]
  },
  {
   "cell_type": "code",
   "execution_count": 5,
   "metadata": {},
   "outputs": [
    {
     "name": "stdout",
     "output_type": "stream",
     "text": [
      "Dice similarity score is 0.4790321529363352\n"
     ]
    }
   ],
   "source": [
    "dc.dice_foreground(CN_gt, CN_position)"
   ]
  },
  {
   "cell_type": "code",
   "execution_count": 10,
   "metadata": {},
   "outputs": [
    {
     "name": "stdout",
     "output_type": "stream",
     "text": [
      "Dice similarity score is 0.9661486710111463\n"
     ]
    }
   ],
   "source": [
    "dc.dice_foreground(CN_gt, CN_position_weighted)"
   ]
  },
  {
   "cell_type": "code",
   "execution_count": 3,
   "metadata": {},
   "outputs": [],
   "source": [
    "YC = cv2.imread('../cell_clustering/Coloured_Clustering/Yeast_Cells/YC_nofilter_RGB_correlation.jpg')"
   ]
  },
  {
   "cell_type": "code",
   "execution_count": 3,
   "metadata": {},
   "outputs": [],
   "source": [
    "def loadImages(path):\n",
    "    # return array of images\n",
    "\n",
    "    imagesList = listdir(path)\n",
    "    loadedImages = []\n",
    "    for image in imagesList:\n",
    "        img = cv2.imread(path + image)\n",
    "        loadedImages.append(img)\n",
    "\n",
    "    return loadedImages"
   ]
  },
  {
   "cell_type": "code",
   "execution_count": 4,
   "metadata": {},
   "outputs": [],
   "source": [
    "CN_path = \"../cell_clustering/Coloured_Clustering/Cell_Nuclei/\"\n",
    "YC_path = \"../cell_clustering/Coloured_Clustering/Yeast_Cells/\"\n",
    "\n",
    "# your images in an array\n",
    "CN_imgs = loadImages(CN_path)\n",
    "YC_imgs = loadImages(YC_path)"
   ]
  },
  {
   "cell_type": "code",
   "execution_count": 9,
   "metadata": {},
   "outputs": [],
   "source": [
    "def calc_dc_CN(gt, imglist):\n",
    "    dice_CN = []\n",
    "    for i in range(len(imglist)):\n",
    "        dcs= dc.dice_foreground(gt, imglist[i])\n",
    "        dice_CN.append(dcs)\n",
    "    return dice_CN"
   ]
  },
  {
   "cell_type": "code",
   "execution_count": 6,
   "metadata": {},
   "outputs": [
    {
     "name": "stdout",
     "output_type": "stream",
     "text": [
      "Dice similarity score is 0.42419474697607357\n"
     ]
    }
   ],
   "source": [
    "dc.dice_foreground(YC_gt, YC)"
   ]
  },
  {
   "cell_type": "code",
   "execution_count": 11,
   "metadata": {},
   "outputs": [
    {
     "name": "stdout",
     "output_type": "stream",
     "text": [
      "Dice similarity score is 0.8318652442019621\n",
      "Dice similarity score is 0.8268211730191544\n",
      "Dice similarity score is 0.8322243591014533\n",
      "Dice similarity score is 0.8737783183342087\n",
      "Dice similarity score is 0.8735383608014874\n",
      "Dice similarity score is 0.8689763741435854\n",
      "Dice similarity score is 0.8400767959243937\n",
      "Dice similarity score is 0.8529418809417935\n",
      "Dice similarity score is 0.8552156111911154\n",
      "Dice similarity score is 0.8530065837600586\n",
      "Dice similarity score is 0.862186212713249\n",
      "Dice similarity score is 0.8538325906720633\n",
      "Dice similarity score is 0.8798792277232838\n",
      "Dice similarity score is 0.8787369077342503\n",
      "Dice similarity score is 0.8770678858050015\n",
      "Dice similarity score is 0.8716812193939304\n",
      "Dice similarity score is 0.880186164810278\n",
      "Dice similarity score is 0.8800606818383874\n",
      "Dice similarity score is 0.870766926533277\n",
      "Dice similarity score is 0.8762229777707888\n",
      "Dice similarity score is 0.8768624270334135\n",
      "Dice similarity score is 0.8804926533210392\n",
      "Dice similarity score is 0.8817717967016696\n",
      "Dice similarity score is 0.8852015617829837\n",
      "Dice similarity score is 0.8801940735487597\n",
      "Dice similarity score is 0.8773105429325107\n",
      "Dice similarity score is 0.873923271179991\n",
      "Dice similarity score is 0.8753278623514648\n",
      "Dice similarity score is 0.8791933180388641\n",
      "Dice similarity score is 0.879835712405481\n",
      "Dice similarity score is 0.8693622648430035\n",
      "Dice similarity score is 0.8761583692361492\n",
      "Dice similarity score is 0.8754433791833042\n",
      "Dice similarity score is 0.8775526345854706\n",
      "Dice similarity score is 0.88452213907461\n",
      "Dice similarity score is 0.8860681362490588\n",
      "Dice similarity score is 0.8724801538869985\n",
      "Dice similarity score is 0.8750871337843181\n",
      "Dice similarity score is 0.8686922918925633\n",
      "Dice similarity score is 0.8771726600606036\n",
      "Dice similarity score is 0.8793549673410241\n",
      "Dice similarity score is 0.8769362684819693\n",
      "Dice similarity score is 0.8676599043092322\n",
      "Dice similarity score is 0.8725476469061945\n",
      "Dice similarity score is 0.8746460094212718\n",
      "Dice similarity score is 0.8782349421718083\n",
      "Dice similarity score is 0.8809518907317915\n",
      "Dice similarity score is 0.8849688771480866\n"
     ]
    },
    {
     "data": {
      "text/plain": [
       "[None,\n",
       " None,\n",
       " None,\n",
       " None,\n",
       " None,\n",
       " None,\n",
       " None,\n",
       " None,\n",
       " None,\n",
       " None,\n",
       " None,\n",
       " None,\n",
       " None,\n",
       " None,\n",
       " None,\n",
       " None,\n",
       " None,\n",
       " None,\n",
       " None,\n",
       " None,\n",
       " None,\n",
       " None,\n",
       " None,\n",
       " None,\n",
       " None,\n",
       " None,\n",
       " None,\n",
       " None,\n",
       " None,\n",
       " None,\n",
       " None,\n",
       " None,\n",
       " None,\n",
       " None,\n",
       " None,\n",
       " None,\n",
       " None,\n",
       " None,\n",
       " None,\n",
       " None,\n",
       " None,\n",
       " None,\n",
       " None,\n",
       " None,\n",
       " None,\n",
       " None,\n",
       " None,\n",
       " None]"
      ]
     },
     "execution_count": 11,
     "metadata": {},
     "output_type": "execute_result"
    }
   ],
   "source": [
    "calc_dc_CN(YC_gt, YC_imgs)"
   ]
  }
 ],
 "metadata": {
  "kernelspec": {
   "display_name": "Python 3.9.12 ('environment')",
   "language": "python",
   "name": "python3"
  },
  "language_info": {
   "codemirror_mode": {
    "name": "ipython",
    "version": 3
   },
   "file_extension": ".py",
   "mimetype": "text/x-python",
   "name": "python",
   "nbconvert_exporter": "python",
   "pygments_lexer": "ipython3",
   "version": "3.9.12"
  },
  "orig_nbformat": 4,
  "vscode": {
   "interpreter": {
    "hash": "9e1a7d2f88ef582704e45252eb30b63eae9d2c037b334948b0bda2fc4648bf73"
   }
  }
 },
 "nbformat": 4,
 "nbformat_minor": 2
}
