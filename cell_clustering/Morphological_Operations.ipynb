{
 "cells": [
  {
   "cell_type": "code",
   "execution_count": 35,
   "metadata": {},
   "outputs": [],
   "source": [
    "import cv2\n",
    "import dice_score as ds\n",
    "import numpy as np"
   ]
  },
  {
   "cell_type": "code",
   "execution_count": 36,
   "metadata": {},
   "outputs": [],
   "source": [
    "CN_gt = cv2.imread(\"../data/Cell_Nuclei_gt_new2.jpg\")\n",
    "YC_gt = cv2.imread(\"../data/Yeast_Cells_gt_new.jpg\")"
   ]
  },
  {
   "cell_type": "code",
   "execution_count": 37,
   "metadata": {},
   "outputs": [],
   "source": [
    "CN = cv2.imread(\"../cell_clustering/Coloured_Clustering/Cell_Nuclei/CN_nofilter_RGB_euclidean.jpg\")\n",
    "YC = cv2.imread(\"../cell_clustering/Coloured_Clustering/Yeast_Cells/YC_nofilter_RGB_euclidean.jpg\")"
   ]
  },
  {
   "cell_type": "code",
   "execution_count": 38,
   "metadata": {},
   "outputs": [
    {
     "name": "stdout",
     "output_type": "stream",
     "text": [
      "Dice similarity score is 0.9641489822003173\n"
     ]
    }
   ],
   "source": [
    "ds.dice_foreground(CN_gt, CN)\n"
   ]
  },
  {
   "cell_type": "code",
   "execution_count": 39,
   "metadata": {},
   "outputs": [
    {
     "name": "stdout",
     "output_type": "stream",
     "text": [
      "Dice similarity score is 0.8761583692361492\n"
     ]
    }
   ],
   "source": [
    "ds.dice_foreground(YC_gt, YC)"
   ]
  },
  {
   "cell_type": "code",
   "execution_count": 40,
   "metadata": {},
   "outputs": [],
   "source": [
    "kernelsizes = [3,5,10,15,20,25]\n",
    "CN_erode_list = []\n",
    "CN_dilate_list = []\n",
    "YC_erode_list = []\n",
    "YC_dilate_list = []\n",
    "CN_opening_list = []\n",
    "CN_closing_list = []\n",
    "YC_opening_list = []\n",
    "YC_closing_list = []\n",
    "for i in kernelsizes:\n",
    "    kernel = np.ones((i,i), np.uint8)\n",
    "    CN_erode = cv2.erode(CN, kernel, iterations=1)\n",
    "    CN_erode_list.append(CN_erode)\n",
    "    CN_dilate = cv2.dilate(CN, kernel, iterations=1)\n",
    "    CN_dilate_list.append(CN_dilate)\n",
    "    YC_erode = cv2.erode(YC, kernel, iterations=1)\n",
    "    YC_erode_list.append(YC_erode)\n",
    "    YC_dilate = cv2.dilate(YC, kernel, iterations=1)\n",
    "    YC_dilate_list.append(YC_dilate)\n",
    "    CN_open = cv2.morphologyEx(CN, cv2.MORPH_OPEN, kernel)\n",
    "    CN_opening_list.append(CN_open)\n",
    "    CN_close = cv2.morphologyEx(CN, cv2.MORPH_CLOSE, kernel)\n",
    "    CN_closing_list.append(CN_close)\n",
    "    YC_open = cv2.morphologyEx(YC, cv2.MORPH_OPEN, kernel)\n",
    "    YC_opening_list.append(YC_open)\n",
    "    YC_close = cv2.morphologyEx(YC, cv2.MORPH_CLOSE, kernel)\n",
    "    YC_closing_list.append(YC_close)\n"
   ]
  },
  {
   "cell_type": "code",
   "execution_count": 41,
   "metadata": {},
   "outputs": [
    {
     "name": "stdout",
     "output_type": "stream",
     "text": [
      "Dice similarity score is 0.9498109937427395\n",
      "Dice similarity score is 0.935642430988189\n",
      "Dice similarity score is 0.8982919475651331\n",
      "Dice similarity score is 0.8585759025801631\n",
      "Dice similarity score is 0.8167086199223413\n",
      "Dice similarity score is 0.7738071417765132\n"
     ]
    }
   ],
   "source": [
    "for i in CN_erode_list:\n",
    "    ds.dice_foreground(CN_gt, i)"
   ]
  },
  {
   "cell_type": "code",
   "execution_count": 42,
   "metadata": {},
   "outputs": [
    {
     "name": "stdout",
     "output_type": "stream",
     "text": [
      "Dice similarity score is 0.9560861853148119\n",
      "Dice similarity score is 0.9410666379508116\n",
      "Dice similarity score is 0.9051061890635441\n",
      "Dice similarity score is 0.8726954123596754\n",
      "Dice similarity score is 0.8433294146177323\n",
      "Dice similarity score is 0.8168223083737677\n"
     ]
    }
   ],
   "source": [
    "for i in CN_dilate_list:\n",
    "    ds.dice_foreground(CN_gt, i)"
   ]
  },
  {
   "cell_type": "code",
   "execution_count": 43,
   "metadata": {},
   "outputs": [
    {
     "name": "stdout",
     "output_type": "stream",
     "text": [
      "Dice similarity score is 0.8824988193209337\n",
      "Dice similarity score is 0.883999459938502\n",
      "Dice similarity score is 0.8831119872617965\n",
      "Dice similarity score is 0.8760996088974495\n",
      "Dice similarity score is 0.8618528613338035\n",
      "Dice similarity score is 0.8436069224399545\n"
     ]
    }
   ],
   "source": [
    "for i in YC_erode_list:\n",
    "    ds.dice_foreground(YC_gt, i)"
   ]
  },
  {
   "cell_type": "code",
   "execution_count": 44,
   "metadata": {},
   "outputs": [
    {
     "name": "stdout",
     "output_type": "stream",
     "text": [
      "Dice similarity score is 0.8662942583459139\n",
      "Dice similarity score is 0.8618038274858116\n",
      "Dice similarity score is 0.8499784108552058\n",
      "Dice similarity score is 0.8382301069695792\n",
      "Dice similarity score is 0.8266621249679007\n",
      "Dice similarity score is 0.8156144494766724\n"
     ]
    }
   ],
   "source": [
    "for i in YC_dilate_list:\n",
    "    ds.dice_foreground(YC_gt, i)"
   ]
  },
  {
   "cell_type": "code",
   "execution_count": 45,
   "metadata": {},
   "outputs": [
    {
     "name": "stdout",
     "output_type": "stream",
     "text": [
      "Dice similarity score is 0.9627511384808046\n",
      "Dice similarity score is 0.9622867095253951\n",
      "Dice similarity score is 0.9574350628695265\n",
      "Dice similarity score is 0.9619406063317402\n",
      "Dice similarity score is 0.9541483456480798\n",
      "Dice similarity score is 0.9572637052014773\n"
     ]
    }
   ],
   "source": [
    "for i in CN_opening_list:\n",
    "    ds.dice_foreground(CN_gt, i)"
   ]
  },
  {
   "cell_type": "code",
   "execution_count": 46,
   "metadata": {},
   "outputs": [
    {
     "name": "stdout",
     "output_type": "stream",
     "text": [
      "Dice similarity score is 0.9665455983959262\n",
      "Dice similarity score is 0.9651235114254235\n",
      "Dice similarity score is 0.9597480325885046\n",
      "Dice similarity score is 0.9587879846348571\n",
      "Dice similarity score is 0.9529029669678849\n",
      "Dice similarity score is 0.9484049659734293\n"
     ]
    }
   ],
   "source": [
    "for i in CN_closing_list:\n",
    "    ds.dice_foreground(CN_gt, i)"
   ]
  },
  {
   "cell_type": "code",
   "execution_count": 47,
   "metadata": {},
   "outputs": [
    {
     "name": "stdout",
     "output_type": "stream",
     "text": [
      "Dice similarity score is 0.8800804476741989\n",
      "Dice similarity score is 0.8801730304504543\n",
      "Dice similarity score is 0.8782350453943485\n",
      "Dice similarity score is 0.8782913337063087\n",
      "Dice similarity score is 0.8767294906313534\n",
      "Dice similarity score is 0.8748639128401178\n"
     ]
    }
   ],
   "source": [
    "for i in YC_opening_list:\n",
    "    ds.dice_foreground(YC_gt, i)"
   ]
  },
  {
   "cell_type": "code",
   "execution_count": 48,
   "metadata": {},
   "outputs": [
    {
     "name": "stdout",
     "output_type": "stream",
     "text": [
      "Dice similarity score is 0.8708164192785562\n",
      "Dice similarity score is 0.8709191312947415\n",
      "Dice similarity score is 0.8723804534652292\n",
      "Dice similarity score is 0.8728123780546563\n",
      "Dice similarity score is 0.8726034556121094\n",
      "Dice similarity score is 0.8724694667632305\n"
     ]
    }
   ],
   "source": [
    "for i in YC_closing_list:\n",
    "    ds.dice_foreground(YC_gt, i)"
   ]
  },
  {
   "cell_type": "markdown",
   "metadata": {},
   "source": [
    "Conclusion: more kernels and morphological operations were tested, most of them actually worsened the Dice Score <br>\n",
    "Exceptions: Cell Nuclei closing with (3,3) and (5,5) kernels; Yeast Cells erosion with (3,3), (5,5), (10,10) and opening with (3,3), (5,5), (10,10), (15,15) <br>\n",
    "But improvement NOT SIGNIFICANT"
   ]
  }
 ],
 "metadata": {
  "kernelspec": {
   "display_name": "Python 3.10.4 ('environment')",
   "language": "python",
   "name": "python3"
  },
  "language_info": {
   "codemirror_mode": {
    "name": "ipython",
    "version": 3
   },
   "file_extension": ".py",
   "mimetype": "text/x-python",
   "name": "python",
   "nbconvert_exporter": "python",
   "pygments_lexer": "ipython3",
   "version": "3.10.4"
  },
  "orig_nbformat": 4,
  "vscode": {
   "interpreter": {
    "hash": "5b83ce1c35a2acaa5544e45d923f82fc98e047241fe593f03a382798a2403f36"
   }
  }
 },
 "nbformat": 4,
 "nbformat_minor": 2
}
