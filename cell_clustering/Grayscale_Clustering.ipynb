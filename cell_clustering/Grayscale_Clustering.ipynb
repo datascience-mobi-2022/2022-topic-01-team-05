{
 "cells": [
  {
   "cell_type": "code",
   "execution_count": 1,
   "metadata": {},
   "outputs": [],
   "source": [
    "from PIL import Image\n",
    "from PIL import ImageFilter\n",
    "import K_means\n",
    "import color\n"
   ]
  },
  {
   "cell_type": "code",
   "execution_count": 2,
   "metadata": {},
   "outputs": [],
   "source": [
    "img0 = Image.open(\"../data/NIH3T3/img/dna-0.png\")\n",
    "img1 = Image.open(\"../data/NIH3T3/img/dna-1.png\")\n",
    "img2 = Image.open(\"../data/NIH3T3/img/dna-26.png\")\n",
    "img3 = Image.open(\"../data/NIH3T3/img/dna-27.png\")\n",
    "img4 = Image.open(\"../data/NIH3T3/img/dna-28.png\")\n",
    "img5 = Image.open(\"../data/NIH3T3/img/dna-29.png\")\n",
    "img6 = Image.open(\"../data/NIH3T3/img/dna-30.png\")\n",
    "img7 = Image.open(\"../data/NIH3T3/img/dna-31.png\")\n",
    "img8 = Image.open(\"../data/NIH3T3/img/dna-32.png\")\n",
    "img9 = Image.open(\"../data/NIH3T3/img/dna-33.png\")\n",
    "img10 = Image.open(\"../data/NIH3T3/img/dna-37.png\")\n",
    "img11 = Image.open(\"../data/NIH3T3/img/dna-40.png\")\n",
    "img12 = Image.open(\"../data/NIH3T3/img/dna-42.png\")\n",
    "img13 = Image.open(\"../data/NIH3T3/img/dna-44.png\")\n",
    "img14 = Image.open(\"../data/NIH3T3/img/dna-45.png\")\n",
    "img15 = Image.open(\"../data/NIH3T3/img/dna-46.png\")\n",
    "img16 = Image.open(\"../data/NIH3T3/img/dna-47.png\")\n",
    "img17 = Image.open(\"../data/NIH3T3/img/dna-49.png\")\n",
    "\n",
    "imglist = [img0,img1,img2,img3,img4,img5,img6,img7,img8,img9,img10,img11,img12,img13,img14,img15,img16,img17]"
   ]
  },
  {
   "cell_type": "code",
   "execution_count": null,
   "metadata": {},
   "outputs": [],
   "source": []
  }
 ],
 "metadata": {
  "kernelspec": {
   "display_name": "Python 3.10.4 ('environment')",
   "language": "python",
   "name": "python3"
  },
  "language_info": {
   "codemirror_mode": {
    "name": "ipython",
    "version": 3
   },
   "file_extension": ".py",
   "mimetype": "text/x-python",
   "name": "python",
   "nbconvert_exporter": "python",
   "pygments_lexer": "ipython3",
   "version": "3.10.4"
  },
  "orig_nbformat": 4,
  "vscode": {
   "interpreter": {
    "hash": "54b7fcf1bb44cc75fc95c5b2a09216d96d24708150346c5f6bdce168163bfc85"
   }
  }
 },
 "nbformat": 4,
 "nbformat_minor": 2
}
