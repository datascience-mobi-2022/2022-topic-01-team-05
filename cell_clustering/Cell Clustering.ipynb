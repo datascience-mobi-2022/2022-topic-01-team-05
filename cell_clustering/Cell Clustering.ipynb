{
 "cells": [
  {
   "cell_type": "code",
   "execution_count": 1,
   "metadata": {},
   "outputs": [],
   "source": [
    "from PIL import Image\n",
    "from PIL import ImageFilter\n",
    "import K_means\n",
    "import color\n",
    "import dice_score\n",
    "import cv2\n",
    "import numpy as np"
   ]
  },
  {
   "cell_type": "markdown",
   "metadata": {},
   "source": [
    "NAMING OF THE VARIABLES:\n",
    "image name (CN for Cell Nuclei and YC for Yeast Cells), filtering method, (color space for color images), distance used for K Means, post-processing method, DSC "
   ]
  },
  {
   "cell_type": "markdown",
   "metadata": {},
   "source": [
    "Loading all the raw data:"
   ]
  },
  {
   "cell_type": "code",
   "execution_count": 2,
   "metadata": {},
   "outputs": [],
   "source": [
    "CN_nofilter_RGB = Image.open(\"../data/Cell_Nuclei.jpg\")\n",
    "YC_nofilter_RGB = Image.open(\"../data/Yeast_Cells.jpg\")"
   ]
  },
  {
   "cell_type": "code",
   "execution_count": 3,
   "metadata": {},
   "outputs": [
    {
     "name": "stdout",
     "output_type": "stream",
     "text": [
      "Coloured Clustering\n"
     ]
    },
    {
     "name": "stderr",
     "output_type": "stream",
     "text": [
      "c:\\Users\\emi28\\anaconda3\\envs\\environment\\lib\\site-packages\\numpy\\lib\\function_base.py:2691: RuntimeWarning: invalid value encountered in true_divide\n",
      "  c /= stddev[:, None]\n",
      "c:\\Users\\emi28\\anaconda3\\envs\\environment\\lib\\site-packages\\numpy\\lib\\function_base.py:2692: RuntimeWarning: invalid value encountered in true_divide\n",
      "  c /= stddev[None, :]\n"
     ]
    }
   ],
   "source": [
    "YC_nofilter_RGB_correlation = K_means.K_Means(YC_nofilter_RGB, 2, 30, \"correlation\")"
   ]
  },
  {
   "cell_type": "code",
   "execution_count": null,
   "metadata": {},
   "outputs": [],
   "source": [
    "YC_nofilter_RGB_correlation.save(\"../cell_clustering/Coloured_Clustering//Yeast_Cells/YC_nofilter_RGB_correlation.jpg\")"
   ]
  },
  {
   "cell_type": "code",
   "execution_count": 3,
   "metadata": {},
   "outputs": [
    {
     "name": "stdout",
     "output_type": "stream",
     "text": [
      "Coloured Clustering\n"
     ]
    },
    {
     "name": "stderr",
     "output_type": "stream",
     "text": [
      "c:\\Users\\emi28\\anaconda3\\envs\\environment\\lib\\site-packages\\numpy\\lib\\function_base.py:2691: RuntimeWarning: invalid value encountered in true_divide\n",
      "  c /= stddev[:, None]\n",
      "c:\\Users\\emi28\\anaconda3\\envs\\environment\\lib\\site-packages\\numpy\\lib\\function_base.py:2692: RuntimeWarning: invalid value encountered in true_divide\n",
      "  c /= stddev[None, :]\n"
     ]
    },
    {
     "name": "stdout",
     "output_type": "stream",
     "text": [
      "Coloured Clustering\n",
      "Coloured Clustering\n",
      "Coloured Clustering\n",
      "Coloured Clustering\n",
      "Coloured Clustering\n",
      "Coloured Clustering\n",
      "Coloured Clustering\n",
      "The slowest run took 46.91 times longer than the fastest. This could mean that an intermediate result is being cached.\n",
      "2h 14min 7s ± 4h 28min per loop (mean ± std. dev. of 7 runs, 1 loop each)\n"
     ]
    }
   ],
   "source": [
    "%timeit K_means.K_Means(CN_nofilter_RGB, 2, 30, \"correlation\")"
   ]
  },
  {
   "cell_type": "markdown",
   "metadata": {},
   "source": []
  },
  {
   "cell_type": "code",
   "execution_count": 4,
   "metadata": {},
   "outputs": [
    {
     "name": "stdout",
     "output_type": "stream",
     "text": [
      "Coloured Clustering\n",
      "Coloured Clustering\n",
      "Coloured Clustering\n",
      "Coloured Clustering\n",
      "Coloured Clustering\n",
      "Coloured Clustering\n",
      "Coloured Clustering\n",
      "Coloured Clustering\n",
      "4min 27s ± 1min 40s per loop (mean ± std. dev. of 7 runs, 1 loop each)\n",
      "Coloured Clustering\n",
      "Coloured Clustering\n",
      "Coloured Clustering\n",
      "Coloured Clustering\n",
      "Coloured Clustering\n",
      "Coloured Clustering\n",
      "Coloured Clustering\n",
      "Coloured Clustering\n",
      "3min ± 42.4 s per loop (mean ± std. dev. of 7 runs, 1 loop each)\n",
      "Coloured Clustering\n",
      "Coloured Clustering\n",
      "Coloured Clustering\n",
      "Coloured Clustering\n",
      "Coloured Clustering\n",
      "Coloured Clustering\n",
      "Coloured Clustering\n",
      "Coloured Clustering\n",
      "2min 25s ± 40.9 s per loop (mean ± std. dev. of 7 runs, 1 loop each)\n",
      "Coloured Clustering\n"
     ]
    },
    {
     "name": "stderr",
     "output_type": "stream",
     "text": [
      "c:\\Users\\emi28\\anaconda3\\envs\\environment\\lib\\site-packages\\numpy\\lib\\function_base.py:2691: RuntimeWarning: invalid value encountered in true_divide\n",
      "  c /= stddev[:, None]\n",
      "c:\\Users\\emi28\\anaconda3\\envs\\environment\\lib\\site-packages\\numpy\\lib\\function_base.py:2692: RuntimeWarning: invalid value encountered in true_divide\n",
      "  c /= stddev[None, :]\n"
     ]
    },
    {
     "name": "stdout",
     "output_type": "stream",
     "text": [
      "Coloured Clustering\n",
      "Coloured Clustering\n"
     ]
    }
   ],
   "source": [
    "%timeit K_means.K_Means(CN_nofilter_RGB, 2, 30, \"euclidean\")\n",
    "%timeit K_means.K_Means(CN_nofilter_RGB, 2, 30, \"manhattan\")\n",
    "%timeit K_means.K_Means(CN_nofilter_RGB, 2, 30, \"chebyshnev\")\n",
    "%timeit K_means.K_Means(CN_nofilter_RGB, 2, 30, \"correlation\")\n"
   ]
  },
  {
   "cell_type": "markdown",
   "metadata": {},
   "source": [
    "Pre-Processing: Edge Enhancement (Enhance More)"
   ]
  },
  {
   "cell_type": "code",
   "execution_count": 9,
   "metadata": {},
   "outputs": [],
   "source": [
    "CN_edgeenhancement_RGB = CN_nofilter_RGB.filter(ImageFilter.EDGE_ENHANCE_MORE)\n",
    "YC_edgeenhancement_RGB = YC_nofilter_RGB.filter(ImageFilter.EDGE_ENHANCE_MORE)"
   ]
  },
  {
   "cell_type": "markdown",
   "metadata": {},
   "source": [
    "Pre-Processing: Gauss Filter"
   ]
  },
  {
   "cell_type": "code",
   "execution_count": 10,
   "metadata": {},
   "outputs": [],
   "source": [
    "CN_gaussfilter_RGB = CN_nofilter_RGB.filter(ImageFilter.GaussianBlur)\n",
    "YC_gaussfilter_RGB = YC_nofilter_RGB.filter(ImageFilter.GaussianBlur)"
   ]
  },
  {
   "cell_type": "markdown",
   "metadata": {},
   "source": [
    "Pre-Processing: Sharpen"
   ]
  },
  {
   "cell_type": "code",
   "execution_count": 11,
   "metadata": {},
   "outputs": [],
   "source": [
    "CN_sharpen_RGB = CN_nofilter_RGB.filter(ImageFilter.SHARPEN)\n",
    "YC_sharpen_RGB = YC_nofilter_RGB.filter(ImageFilter.SHARPEN)"
   ]
  },
  {
   "cell_type": "markdown",
   "metadata": {},
   "source": [
    "Color Space Conversion (for color images only)"
   ]
  },
  {
   "cell_type": "code",
   "execution_count": 12,
   "metadata": {},
   "outputs": [],
   "source": [
    "#nofilter\n",
    "CN_nofilter_HSV = color.convert(CN_nofilter_RGB, \"HSV\")\n",
    "CN_nofilter_LAB = color.convert(CN_nofilter_RGB, \"LAB\")\n",
    "CN_nofilter_YCbCr = color.convert(CN_nofilter_RGB, \"YCbCr\")\n",
    "\n",
    "YC_nofilter_HSV = color.convert(YC_nofilter_RGB, \"HSV\")\n",
    "YC_nofilter_LAB = color.convert(YC_nofilter_RGB, \"LAB\")\n",
    "YC_nofilter_YCbCr = color.convert(YC_nofilter_RGB, \"YCbCr\")\n",
    "\n",
    "#edgeenhancement\n",
    "CN_edgeenhancement_HSV = color.convert(CN_edgeenhancement_RGB, \"HSV\")\n",
    "CN_edgeenhancement_LAB = color.convert(CN_edgeenhancement_RGB, \"LAB\")\n",
    "CN_edgeenhancement_YCbCr = color.convert(CN_edgeenhancement_RGB, \"YCbCr\")\n",
    "\n",
    "YC_edgeenhancement_HSV = color.convert(YC_edgeenhancement_RGB, \"HSV\")\n",
    "YC_edgeenhancement_LAB = color.convert(YC_edgeenhancement_RGB, \"LAB\")\n",
    "YC_edgeenhancement_YCbCr = color.convert(YC_edgeenhancement_RGB, \"YCbCr\")\n",
    "\n",
    "#gauss filter\n",
    "CN_gaussfilter_HSV = color.convert(CN_gaussfilter_RGB, \"HSV\")\n",
    "CN_gaussfilter_LAB = color.convert(CN_gaussfilter_RGB, \"LAB\")\n",
    "CN_gaussfilter_YCbCr = color.convert(CN_gaussfilter_RGB, \"YCbCr\")\n",
    "\n",
    "YC_gaussfilter_HSV = color.convert(YC_gaussfilter_RGB, \"HSV\")\n",
    "YC_gaussfilter_LAB = color.convert(YC_gaussfilter_RGB, \"LAB\")\n",
    "YC_gaussfilter_YCbCr = color.convert(YC_gaussfilter_RGB, \"YCbCr\")\n",
    "\n",
    "#sharpen\n",
    "CN_sharpen_HSV = color.convert(CN_sharpen_RGB, \"HSV\")\n",
    "CN_sharpen_LAB = color.convert(CN_sharpen_RGB, \"LAB\")\n",
    "CN_sharpen_YCbCr = color.convert(CN_sharpen_RGB, \"YCbCr\")\n",
    "\n",
    "YC_sharpen_HSV = color.convert(YC_sharpen_RGB, \"HSV\")\n",
    "YC_sharpen_LAB = color.convert(YC_sharpen_RGB, \"LAB\")\n",
    "YC_sharpen_YCbCr = color.convert(YC_sharpen_RGB, \"YCbCr\")"
   ]
  },
  {
   "cell_type": "markdown",
   "metadata": {},
   "source": [
    "## KMeans\n",
    "### Euclidean Distance\n",
    "\n",
    "No filter"
   ]
  },
  {
   "cell_type": "code",
   "execution_count": 13,
   "metadata": {},
   "outputs": [
    {
     "name": "stdout",
     "output_type": "stream",
     "text": [
      "Coloured Clustering\n",
      "Coloured Clustering\n",
      "Coloured Clustering\n",
      "Coloured Clustering\n",
      "Coloured Clustering\n",
      "Coloured Clustering\n",
      "Coloured Clustering\n",
      "Coloured Clustering\n"
     ]
    }
   ],
   "source": [
    "#Euclidean\n",
    "    #nofilter\n",
    "CN_nofilter_RGB_euclidean = K_means.K_Means(CN_nofilter_RGB, 2, 30, \"euclidean\")\n",
    "CN_nofilter_RGB_euclidean.save(\"../cell_clustering/Coloured_Clustering/CN_nofilter_RGB_euclidean.jpg\")\n",
    "CN_nofilter_HSV_euclidean = K_means.K_Means(CN_nofilter_HSV, 2, 30, \"euclidean\")\n",
    "CN_nofilter_HSV_euclidean.save(\"../cell_clustering/Coloured_Clustering/CN_nofilter_HSV_euclidean.jpg\")\n",
    "CN_nofilter_LAB_euclidean = K_means.K_Means(CN_nofilter_LAB, 2, 30, \"euclidean\")\n",
    "CN_nofilter_LAB_euclidean.save(\"../cell_clustering/Coloured_Clustering/CN_nofilter_LAB_euclidean.jpg\")\n",
    "CN_nofilter_YCbCr_euclidean = K_means.K_Means(CN_nofilter_YCbCr, 2, 30, \"euclidean\")\n",
    "CN_nofilter_YCbCr_euclidean.save(\"../cell_clustering/Coloured_Clustering/CN_nofilter_YCbCr_euclidean.jpg\")\n",
    "\n",
    "YC_nofilter_RGB_euclidean = K_means.K_Means(YC_nofilter_RGB, 2, 30, \"euclidean\")\n",
    "YC_nofilter_RGB_euclidean.save(\"../cell_clustering/Coloured_Clustering/YC_nofilter_RGB_euclidean.jpg\")\n",
    "YC_nofilter_HSV_euclidean = K_means.K_Means(YC_nofilter_HSV, 2, 30, \"euclidean\")\n",
    "YC_nofilter_HSV_euclidean.save(\"../cell_clustering/Coloured_Clustering/YC_nofilter_HSV_euclidean.jpg\")\n",
    "YC_nofilter_LAB_euclidean = K_means.K_Means(YC_nofilter_LAB, 2, 30, \"euclidean\")\n",
    "YC_nofilter_LAB_euclidean.save(\"../cell_clustering/Coloured_Clustering/YC_nofilter_LAB_euclidean.jpg\")\n",
    "YC_nofilter_YCbCr_euclidean = K_means.K_Means(YC_nofilter_YCbCr, 2, 30, \"euclidean\")\n",
    "YC_nofilter_YCbCr_euclidean.save(\"../cell_clustering/Coloured_Clustering/YC_nofilter_YCbCr_euclidean.jpg\")\n",
    "   "
   ]
  },
  {
   "cell_type": "markdown",
   "metadata": {},
   "source": [
    "Edge Enhancement"
   ]
  },
  {
   "cell_type": "code",
   "execution_count": 14,
   "metadata": {},
   "outputs": [
    {
     "name": "stdout",
     "output_type": "stream",
     "text": [
      "Coloured Clustering\n",
      "Coloured Clustering\n",
      "Coloured Clustering\n",
      "Coloured Clustering\n",
      "Coloured Clustering\n",
      "Coloured Clustering\n",
      "Coloured Clustering\n",
      "Coloured Clustering\n"
     ]
    }
   ],
   "source": [
    " #edgeenchancement\n",
    "CN_edgeenhancement_RGB_euclidean = K_means.K_Means(CN_edgeenhancement_RGB, 2, 30, \"euclidean\")\n",
    "CN_edgeenhancement_RGB_euclidean.save(\"../cell_clustering/Coloured_Clustering/CN_edgeenhancement_RGB_euclidean.jpg\")\n",
    "CN_edgeenhancement_HSV_euclidean = K_means.K_Means(CN_edgeenhancement_HSV, 2, 30, \"euclidean\")\n",
    "CN_edgeenhancement_HSV_euclidean.save(\"../cell_clustering/Coloured_Clustering/CN_edgeenhancement_HSV_euclidean.jpg\")\n",
    "CN_edgeenhancement_LAB_euclidean = K_means.K_Means(CN_edgeenhancement_LAB, 2, 30, \"euclidean\")\n",
    "CN_edgeenhancement_LAB_euclidean.save(\"../cell_clustering/Coloured_Clustering/CN_edgeenhancement_LAB_euclidean.jpg\")\n",
    "CN_edgeenhancement_YCbCr_euclidean = K_means.K_Means(CN_edgeenhancement_YCbCr, 2, 30, \"euclidean\")\n",
    "CN_edgeenhancement_YCbCr_euclidean.save(\"../cell_clustering/Coloured_Clustering/CN_edgeenhancement_YCbCr_euclidean.jpg\")\n",
    "\n",
    "YC_edgeenhancement_RGB_euclidean = K_means.K_Means(YC_edgeenhancement_RGB, 2, 30, \"euclidean\")\n",
    "YC_edgeenhancement_RGB_euclidean.save(\"../cell_clustering/Coloured_Clustering/YC_edgeenhancement_RGB_euclidean.jpg\")\n",
    "YC_edgeenhancement_HSV_euclidean = K_means.K_Means(YC_edgeenhancement_HSV, 2, 30, \"euclidean\")\n",
    "YC_edgeenhancement_HSV_euclidean.save(\"../cell_clustering/Coloured_Clustering/YC_edgeenhancement_HSV_euclidean.jpg\")\n",
    "YC_edgeenhancement_LAB_euclidean = K_means.K_Means(YC_edgeenhancement_LAB, 2, 30, \"euclidean\")\n",
    "YC_edgeenhancement_LAB_euclidean.save(\"../cell_clustering/Coloured_Clustering/YC_edgeenhancement_LAB_euclidean.jpg\")\n",
    "YC_edgeenhancement_YCbCr_euclidean = K_means.K_Means(YC_edgeenhancement_YCbCr, 2, 30, \"euclidean\")\n",
    "YC_edgeenhancement_YCbCr_euclidean.save(\"../cell_clustering/Coloured_Clustering/YC_edgeenhancement_YCbCr_euclidean.jpg\")\n"
   ]
  },
  {
   "cell_type": "markdown",
   "metadata": {},
   "source": [
    "Gauss Filter"
   ]
  },
  {
   "cell_type": "code",
   "execution_count": 15,
   "metadata": {},
   "outputs": [
    {
     "name": "stdout",
     "output_type": "stream",
     "text": [
      "Coloured Clustering\n",
      "Coloured Clustering\n",
      "Coloured Clustering\n",
      "Coloured Clustering\n",
      "Coloured Clustering\n",
      "Coloured Clustering\n",
      "Coloured Clustering\n",
      "Coloured Clustering\n"
     ]
    }
   ],
   "source": [
    " #gauss\n",
    "CN_gaussfilter_RGB_euclidean = K_means.K_Means(CN_gaussfilter_RGB, 2, 30, \"euclidean\")\n",
    "CN_gaussfilter_RGB_euclidean.save(\"../cell_clustering/Coloured_Clustering/CN_gaussfilter_RGB_euclidean.jpg\")\n",
    "CN_gaussfilter_HSV_euclidean = K_means.K_Means(CN_gaussfilter_HSV, 2, 30, \"euclidean\")\n",
    "CN_gaussfilter_HSV_euclidean.save(\"../cell_clustering/Coloured_Clustering/CN_gaussfilter_HSV_euclidean.jpg\")\n",
    "CN_gaussfilter_LAB_euclidean = K_means.K_Means(CN_gaussfilter_LAB, 2, 30, \"euclidean\")\n",
    "CN_gaussfilter_LAB_euclidean.save(\"../cell_clustering/Coloured_Clustering/CN_gaussfilter_LAB_euclidean.jpg\")\n",
    "CN_gaussfilter_YCbCr_euclidean = K_means.K_Means(CN_gaussfilter_YCbCr, 2, 30, \"euclidean\")\n",
    "CN_gaussfilter_YCbCr_euclidean.save(\"../cell_clustering/Coloured_Clustering/CN_gaussfilter_YCbCr_euclidean.jpg\")\n",
    "\n",
    "YC_gaussfilter_RGB_euclidean = K_means.K_Means(YC_gaussfilter_RGB, 2, 30, \"euclidean\")\n",
    "YC_gaussfilter_RGB_euclidean.save(\"../cell_clustering/Coloured_Clustering/YC_gaussfilter_RGB_euclidean.jpg\")\n",
    "YC_gaussfilter_HSV_euclidean = K_means.K_Means(YC_gaussfilter_HSV, 2, 30, \"euclidean\")\n",
    "YC_gaussfilter_HSV_euclidean.save(\"../cell_clustering/Coloured_Clustering/YC_gaussfilter_HSV_euclidean.jpg\")\n",
    "YC_gaussfilter_LAB_euclidean = K_means.K_Means(YC_gaussfilter_LAB, 2, 30, \"euclidean\")\n",
    "YC_gaussfilter_LAB_euclidean.save(\"../cell_clustering/Coloured_Clustering/YC_gaussfilter_LAB_euclidean.jpg\")\n",
    "YC_gaussfilter_YCbCr_euclidean = K_means.K_Means(YC_gaussfilter_YCbCr, 2, 30, \"euclidean\")\n",
    "YC_gaussfilter_YCbCr_euclidean.save(\"../cell_clustering/Coloured_Clustering/YC_gaussfilter_YCbCr_euclidean.jpg\")"
   ]
  },
  {
   "cell_type": "markdown",
   "metadata": {},
   "source": [
    "Sharpen"
   ]
  },
  {
   "cell_type": "code",
   "execution_count": 16,
   "metadata": {},
   "outputs": [
    {
     "name": "stdout",
     "output_type": "stream",
     "text": [
      "Coloured Clustering\n",
      "Coloured Clustering\n",
      "Coloured Clustering\n",
      "Coloured Clustering\n",
      "Coloured Clustering\n",
      "Coloured Clustering\n",
      "Coloured Clustering\n",
      "Coloured Clustering\n"
     ]
    }
   ],
   "source": [
    "#sharpen\n",
    "CN_sharpen_RGB_euclidean = K_means.K_Means(CN_sharpen_RGB, 2, 30, \"euclidean\")\n",
    "CN_sharpen_RGB_euclidean.save(\"../cell_clustering/Coloured_Clustering/CN_sharpen_RGB_euclidean.jpg\")\n",
    "CN_sharpen_HSV_euclidean = K_means.K_Means(CN_sharpen_HSV, 2, 30, \"euclidean\")\n",
    "CN_sharpen_HSV_euclidean.save(\"../cell_clustering/Coloured_Clustering/CN_sharpen_HSV_euclidean.jpg\")\n",
    "CN_sharpen_LAB_euclidean = K_means.K_Means(CN_sharpen_LAB, 2, 30, \"euclidean\")\n",
    "CN_sharpen_LAB_euclidean.save(\"../cell_clustering/Coloured_Clustering/CN_sharpen_LAB_euclidean.jpg\")\n",
    "CN_sharpen_YCbCr_euclidean = K_means.K_Means(CN_sharpen_YCbCr, 2, 30, \"euclidean\")\n",
    "CN_sharpen_YCbCr_euclidean.save(\"../cell_clustering/Coloured_Clustering/CN_sharpen_YCbCr_euclidean.jpg\")\n",
    "\n",
    "YC_sharpen_RGB_euclidean = K_means.K_Means(YC_sharpen_RGB, 2, 30, \"euclidean\")\n",
    "YC_sharpen_RGB_euclidean.save(\"../cell_clustering/Coloured_Clustering/YC_sharpen_RGB_euclidean.jpg\")\n",
    "YC_sharpen_HSV_euclidean = K_means.K_Means(YC_sharpen_HSV, 2, 30, \"euclidean\")\n",
    "YC_sharpen_HSV_euclidean.save(\"../cell_clustering/Coloured_Clustering/YC_sharpen_HSV_euclidean.jpg\")\n",
    "YC_sharpen_LAB_euclidean = K_means.K_Means(YC_sharpen_LAB, 2, 30, \"euclidean\")\n",
    "YC_sharpen_LAB_euclidean.save(\"../cell_clustering/Coloured_Clustering/YC_sharpen_LAB_euclidean.jpg\")\n",
    "YC_sharpen_YCbCr_euclidean = K_means.K_Means(YC_sharpen_YCbCr, 2, 30, \"euclidean\")\n",
    "YC_sharpen_YCbCr_euclidean.save(\"../cell_clustering/Coloured_Clustering/YC_sharpen_YCbCr_euclidean.jpg\")"
   ]
  },
  {
   "cell_type": "markdown",
   "metadata": {},
   "source": [
    "### Manhattan\n",
    "No filter"
   ]
  },
  {
   "cell_type": "code",
   "execution_count": 17,
   "metadata": {},
   "outputs": [
    {
     "name": "stdout",
     "output_type": "stream",
     "text": [
      "Coloured Clustering\n",
      "Coloured Clustering\n",
      "Coloured Clustering\n",
      "Coloured Clustering\n",
      "Coloured Clustering\n",
      "Coloured Clustering\n",
      "Coloured Clustering\n",
      "Coloured Clustering\n"
     ]
    }
   ],
   "source": [
    "#Manhattan\n",
    "    #nofilter\n",
    "CN_nofilter_RGB_manhattan = K_means.K_Means(CN_nofilter_RGB, 2, 30, \"manhattan\")\n",
    "CN_nofilter_RGB_manhattan.save(\"../cell_clustering/Coloured_Clustering/CN_nofilter_RGB_manhattan.jpg\")\n",
    "CN_nofilter_HSV_manhattan = K_means.K_Means(CN_nofilter_HSV, 2, 30, \"manhattan\")\n",
    "CN_nofilter_HSV_manhattan.save(\"../cell_clustering/Coloured_Clustering/CN_nofilter_HSV_manhattan.jpg\")\n",
    "CN_nofilter_LAB_manhattan = K_means.K_Means(CN_nofilter_LAB, 2, 30, \"manhattan\")\n",
    "CN_nofilter_LAB_manhattan.save(\"../cell_clustering/Coloured_Clustering/CN_nofilter_LAB_manhattan.jpg\")\n",
    "CN_nofilter_YCbCr_manhattan = K_means.K_Means(CN_nofilter_YCbCr, 2, 30, \"manhattan\")\n",
    "CN_nofilter_YCbCr_manhattan.save(\"../cell_clustering/Coloured_Clustering/CN_nofilter_YCbCr_manhattan.jpg\")\n",
    "\n",
    "YC_nofilter_RGB_manhattan = K_means.K_Means(YC_nofilter_RGB, 2, 30, \"manhattan\")\n",
    "YC_nofilter_RGB_manhattan.save(\"../cell_clustering/Coloured_Clustering/YC_nofilter_RGB_manhattan.jpg\")\n",
    "YC_nofilter_HSV_manhattan = K_means.K_Means(YC_nofilter_HSV, 2, 30, \"manhattan\")\n",
    "YC_nofilter_HSV_manhattan.save(\"../cell_clustering/Coloured_Clustering/YC_nofilter_HSV_manhattan.jpg\")\n",
    "YC_nofilter_LAB_manhattan = K_means.K_Means(YC_nofilter_LAB, 2, 30, \"manhattan\")\n",
    "YC_nofilter_LAB_manhattan.save(\"../cell_clustering/Coloured_Clustering/YC_nofilter_LAB_manhattan.jpg\")\n",
    "YC_nofilter_YCbCr_manhattan = K_means.K_Means(YC_nofilter_YCbCr, 2, 30, \"manhattan\")\n",
    "YC_nofilter_YCbCr_manhattan.save(\"../cell_clustering/Coloured_Clustering/YC_nofilter_YCbCr_manhattan.jpg\")"
   ]
  },
  {
   "cell_type": "markdown",
   "metadata": {},
   "source": [
    "Edge Enhancement"
   ]
  },
  {
   "cell_type": "code",
   "execution_count": 18,
   "metadata": {},
   "outputs": [
    {
     "name": "stdout",
     "output_type": "stream",
     "text": [
      "Coloured Clustering\n",
      "Coloured Clustering\n",
      "Coloured Clustering\n",
      "Coloured Clustering\n",
      "Coloured Clustering\n",
      "Coloured Clustering\n",
      "Coloured Clustering\n",
      "Coloured Clustering\n"
     ]
    }
   ],
   "source": [
    " #edgeenchancement\n",
    "CN_edgeenhancement_RGB_manhattan = K_means.K_Means(CN_edgeenhancement_RGB, 2, 30, \"manhattan\")\n",
    "CN_edgeenhancement_RGB_manhattan.save(\"../cell_clustering/Coloured_Clustering/CN_edgeenhancement_RGB_manhattan.jpg\")\n",
    "CN_edgeenhancement_HSV_manhattan = K_means.K_Means(CN_edgeenhancement_HSV, 2, 30, \"manhattan\")\n",
    "CN_edgeenhancement_HSV_manhattan.save(\"../cell_clustering/Coloured_Clustering/CN_edgeenhancement_HSV_manhattan.jpg\")\n",
    "CN_edgeenhancement_LAB_manhattan = K_means.K_Means(CN_edgeenhancement_LAB, 2, 30, \"manhattan\")\n",
    "CN_edgeenhancement_LAB_manhattan.save(\"../cell_clustering/Coloured_Clustering/CN_edgeenhancement_LAB_manhattan.jpg\")\n",
    "CN_edgeenhancement_YCbCr_manhattan = K_means.K_Means(CN_edgeenhancement_YCbCr, 2, 30, \"manhattan\")\n",
    "CN_edgeenhancement_YCbCr_manhattan.save(\"../cell_clustering/Coloured_Clustering/CN_edgeenhancement_YCbCr_manhattan.jpg\")\n",
    "\n",
    "YC_edgeenhancement_RGB_manhattan = K_means.K_Means(YC_edgeenhancement_RGB, 2, 30, \"manhattan\")\n",
    "YC_edgeenhancement_RGB_manhattan.save(\"../cell_clustering/Coloured_Clustering/YC_edgeenhancement_RGB_manhattan.jpg\")\n",
    "YC_edgeenhancement_HSV_manhattan = K_means.K_Means(YC_edgeenhancement_HSV, 2, 30, \"manhattan\")\n",
    "YC_edgeenhancement_HSV_manhattan.save(\"../cell_clustering/Coloured_Clustering/YC_edgeenhancement_HSV_manhattan.jpg\")\n",
    "YC_edgeenhancement_LAB_manhattan = K_means.K_Means(YC_edgeenhancement_LAB, 2, 30, \"manhattan\")\n",
    "YC_edgeenhancement_LAB_manhattan.save(\"../cell_clustering/Coloured_Clustering/YC_edgeenhancement_LAB_manhattan.jpg\")\n",
    "YC_edgeenhancement_YCbCr_manhattan = K_means.K_Means(YC_edgeenhancement_YCbCr, 2, 30, \"manhattan\")\n",
    "YC_edgeenhancement_YCbCr_manhattan.save(\"../cell_clustering/Coloured_Clustering/YC_edgeenhancement_YCbCr_manhattan.jpg\")\n",
    "    #and so on for the other filters\n",
    "\n"
   ]
  },
  {
   "cell_type": "markdown",
   "metadata": {},
   "source": [
    "Gauss"
   ]
  },
  {
   "cell_type": "code",
   "execution_count": 21,
   "metadata": {},
   "outputs": [
    {
     "name": "stdout",
     "output_type": "stream",
     "text": [
      "Coloured Clustering\n",
      "Coloured Clustering\n",
      "Coloured Clustering\n",
      "Coloured Clustering\n",
      "Coloured Clustering\n",
      "Coloured Clustering\n",
      "Coloured Clustering\n",
      "Coloured Clustering\n"
     ]
    }
   ],
   "source": [
    "CN_gaussfilter_RGB_mannhattan = K_means.K_Means(CN_gaussfilter_RGB, 2, 30, \"manhattan\")\n",
    "CN_gaussfilter_RGB_mannhattan.save(\"../cell_clustering/Coloured_Clustering/CN_gaussfilter_RGB_manhattan.jpg\")\n",
    "CN_gaussfilter_HSV_mannhattan = K_means.K_Means(CN_gaussfilter_HSV, 2, 30, \"manhattan\")\n",
    "CN_gaussfilter_HSV_mannhattan.save(\"../cell_clustering/Coloured_Clustering/CN_gaussfilter_HSV_manhattan.jpg\")\n",
    "CN_gaussfilter_LAB_mannhattan = K_means.K_Means(CN_gaussfilter_LAB, 2, 30, \"manhattan\")\n",
    "CN_gaussfilter_LAB_mannhattan.save(\"../cell_clustering/Coloured_Clustering/CN_gaussfilter_LAB_manhattan.jpg\")\n",
    "CN_gaussfilter_YCbCr_mannhattan = K_means.K_Means(CN_gaussfilter_YCbCr, 2, 30, \"manhattan\")\n",
    "CN_gaussfilter_YCbCr_mannhattan.save(\"../cell_clustering/Coloured_Clustering/CN_gaussfilter_YCbCr_manhattan.jpg\")\n",
    "\n",
    "YC_gaussfilter_RGB_mannhattan = K_means.K_Means(YC_gaussfilter_RGB, 2, 30, \"manhattan\")\n",
    "YC_gaussfilter_RGB_mannhattan.save(\"../cell_clustering/Coloured_Clustering/YC_gaussfilter_RGB_manhattan.jpg\")\n",
    "YC_gaussfilter_HSV_mannhattan = K_means.K_Means(YC_gaussfilter_HSV, 2, 30, \"manhattan\")\n",
    "YC_gaussfilter_HSV_mannhattan.save(\"../cell_clustering/Coloured_Clustering/YC_gaussfilter_HSV_manhattan.jpg\")\n",
    "YC_gaussfilter_LAB_mannhattan = K_means.K_Means(YC_gaussfilter_LAB, 2, 30, \"manhattan\")\n",
    "YC_gaussfilter_LAB_mannhattan.save(\"../cell_clustering/Coloured_Clustering/YC_gaussfilter_LAB_manhattan.jpg\")\n",
    "YC_gaussfilter_YCbCr_mannhattan = K_means.K_Means(YC_gaussfilter_YCbCr, 2, 30, \"manhattan\")\n",
    "YC_gaussfilter_YCbCr_mannhattan.save(\"../cell_clustering/Coloured_Clustering/YC_gaussfilter_YCbCr_manhattan.jpg\")"
   ]
  },
  {
   "cell_type": "markdown",
   "metadata": {},
   "source": [
    "Sharpen"
   ]
  },
  {
   "cell_type": "code",
   "execution_count": 22,
   "metadata": {},
   "outputs": [
    {
     "name": "stdout",
     "output_type": "stream",
     "text": [
      "Coloured Clustering\n",
      "Coloured Clustering\n",
      "Coloured Clustering\n",
      "Coloured Clustering\n",
      "Coloured Clustering\n",
      "Coloured Clustering\n",
      "Coloured Clustering\n",
      "Coloured Clustering\n"
     ]
    }
   ],
   "source": [
    "#sharpen\n",
    "CN_sharpen_RGB_mannhattan = K_means.K_Means(CN_sharpen_RGB, 2, 30, \"manhattan\")\n",
    "CN_sharpen_RGB_mannhattan.save(\"../cell_clustering/Coloured_Clustering/CN_sharpen_RGB_manhattan.jpg\")\n",
    "CN_sharpen_HSV_mannhattan = K_means.K_Means(CN_sharpen_HSV, 2, 30, \"manhattan\")\n",
    "CN_sharpen_HSV_mannhattan.save(\"../cell_clustering/Coloured_Clustering/CN_sharpen_HSV_manhattan.jpg\")\n",
    "CN_sharpen_LAB_mannhattan = K_means.K_Means(CN_sharpen_LAB, 2, 30, \"manhattan\")\n",
    "CN_sharpen_LAB_mannhattan.save(\"../cell_clustering/Coloured_Clustering/CN_sharpen_LAB_manhattan.jpg\")\n",
    "CN_sharpen_YCbCr_mannhattan = K_means.K_Means(CN_sharpen_YCbCr, 2, 30, \"manhattan\")\n",
    "CN_sharpen_YCbCr_mannhattan.save(\"../cell_clustering/Coloured_Clustering/CN_sharpen_YCbCr_manhattan.jpg\")\n",
    "\n",
    "YC_sharpen_RGB_mannhattan = K_means.K_Means(YC_sharpen_RGB, 2, 30, \"manhattan\")\n",
    "YC_sharpen_RGB_mannhattan.save(\"../cell_clustering/Coloured_Clustering/YC_sharpen_RGB_manhattan.jpg\")\n",
    "YC_sharpen_HSV_mannhattan = K_means.K_Means(YC_sharpen_HSV, 2, 30, \"manhattan\")\n",
    "YC_sharpen_HSV_mannhattan.save(\"../cell_clustering/Coloured_Clustering/YC_sharpen_HSV_manhattan.jpg\")\n",
    "YC_sharpen_LAB_mannhattan = K_means.K_Means(YC_sharpen_LAB, 2, 30, \"manhattan\")\n",
    "YC_sharpen_LAB_mannhattan.save(\"../cell_clustering/Coloured_Clustering/YC_sharpen_LAB_manhattan.jpg\")\n",
    "YC_sharpen_YCbCr_mannhattan = K_means.K_Means(YC_sharpen_YCbCr, 2, 30, \"manhattan\")\n",
    "YC_sharpen_YCbCr_mannhattan.save(\"../cell_clustering/Coloured_Clustering/YC_sharpen_YCbCr_manhattan.jpg\")"
   ]
  },
  {
   "cell_type": "markdown",
   "metadata": {},
   "source": [
    "### Chebyshnev\n",
    "No filter"
   ]
  },
  {
   "cell_type": "code",
   "execution_count": 23,
   "metadata": {},
   "outputs": [
    {
     "name": "stdout",
     "output_type": "stream",
     "text": [
      "Coloured Clustering\n",
      "Coloured Clustering\n",
      "Coloured Clustering\n",
      "Coloured Clustering\n",
      "Coloured Clustering\n",
      "Coloured Clustering\n",
      "Coloured Clustering\n",
      "Coloured Clustering\n"
     ]
    }
   ],
   "source": [
    "#Chebyshnev\n",
    "    #nofilter\n",
    "CN_nofilter_RGB_chebyshnev = K_means.K_Means(CN_nofilter_RGB, 2, 30, \"chebyshnev\")\n",
    "CN_nofilter_RGB_chebyshnev.save(\"../cell_clustering/Coloured_Clustering/CN_nofilter_RGB_chebyshnev.jpg\")\n",
    "CN_nofilter_HSV_chebyshnev = K_means.K_Means(CN_nofilter_HSV, 2, 30, \"chebyshnev\")\n",
    "CN_nofilter_HSV_chebyshnev.save(\"../cell_clustering/Coloured_Clustering/CN_nofilter_HSV_chebyshnev.jpg\")\n",
    "CN_nofilter_LAB_chebyshnev = K_means.K_Means(CN_nofilter_LAB, 2, 30, \"chebyshnev\")\n",
    "CN_nofilter_LAB_chebyshnev.save(\"../cell_clustering/Coloured_Clustering/CN_nofilter_LAB_chebyshnev.jpg\")\n",
    "CN_nofilter_YCbCr_chebyshnev = K_means.K_Means(CN_nofilter_YCbCr, 2, 30, \"chebyshnev\")\n",
    "CN_nofilter_YCbCr_chebyshnev.save(\"../cell_clustering/Coloured_Clustering/CN_nofilter_YCbCr_chebyshnev.jpg\")\n",
    "\n",
    "YC_nofilter_RGB_chebyshnev = K_means.K_Means(YC_nofilter_RGB, 2, 30, \"chebyshnev\")\n",
    "YC_nofilter_RGB_chebyshnev.save(\"../cell_clustering/Coloured_Clustering/YC_nofilter_RGB_chebyshnev.jpg\")\n",
    "YC_nofilter_HSV_chebyshnev = K_means.K_Means(YC_nofilter_HSV, 2, 30, \"chebyshnev\")\n",
    "YC_nofilter_HSV_chebyshnev.save(\"../cell_clustering/Coloured_Clustering/YC_nofilter_HSV_chebyshnev.jpg\")\n",
    "YC_nofilter_LAB_chebyshnev = K_means.K_Means(YC_nofilter_LAB, 2, 30, \"chebyshnev\")\n",
    "YC_nofilter_LAB_chebyshnev.save(\"../cell_clustering/Coloured_Clustering/YC_nofilter_LAB_chebyshnev.jpg\")\n",
    "YC_nofilter_YCbCr_chebyshnev = K_means.K_Means(YC_nofilter_YCbCr, 2, 30, \"chebyshnev\")\n",
    "YC_nofilter_YCbCr_chebyshnev.save(\"../cell_clustering/Coloured_Clustering/YC_nofilter_YCbCr_chebyshnev.jpg\")"
   ]
  },
  {
   "cell_type": "markdown",
   "metadata": {},
   "source": [
    "Edge Enhancement"
   ]
  },
  {
   "cell_type": "code",
   "execution_count": 24,
   "metadata": {},
   "outputs": [
    {
     "name": "stdout",
     "output_type": "stream",
     "text": [
      "Coloured Clustering\n",
      "Coloured Clustering\n",
      "Coloured Clustering\n",
      "Coloured Clustering\n",
      "Coloured Clustering\n",
      "Coloured Clustering\n",
      "Coloured Clustering\n",
      "Coloured Clustering\n"
     ]
    }
   ],
   "source": [
    "#edgeenchancement\n",
    "CN_edgeenhancement_RGB_chebyshnev = K_means.K_Means(CN_edgeenhancement_RGB, 2, 30, \"chebyshnev\")\n",
    "CN_edgeenhancement_RGB_chebyshnev.save(\"../cell_clustering/Coloured_Clustering/CN_edgeenhancement_RGB_chebyshnev.jpg\")\n",
    "CN_edgeenhancement_HSV_chebyshnev = K_means.K_Means(CN_edgeenhancement_HSV, 2, 30, \"chebyshnev\")\n",
    "CN_edgeenhancement_HSV_chebyshnev.save(\"../cell_clustering/Coloured_Clustering/CN_edgeenhancement_HSV_chebyshnev.jpg\")\n",
    "CN_edgeenhancement_LAB_chebyshnev = K_means.K_Means(CN_edgeenhancement_LAB, 2, 30, \"chebyshnev\")\n",
    "CN_edgeenhancement_LAB_chebyshnev.save(\"../cell_clustering/Coloured_Clustering/CN_edgeenhancement_LAB_chebyshnev.jpg\")\n",
    "CN_edgeenhancement_YCbCr_chebyshnev = K_means.K_Means(CN_edgeenhancement_YCbCr, 2, 30, \"chebyshnev\")\n",
    "CN_edgeenhancement_YCbCr_chebyshnev.save(\"../cell_clustering/Coloured_Clustering/CN_edgeenhancement_YCbCr_chebyshnev.jpg\")\n",
    "\n",
    "YC_edgeenhancement_RGB_chebyshnev = K_means.K_Means(YC_edgeenhancement_RGB, 2, 30, \"chebyshnev\")\n",
    "YC_edgeenhancement_RGB_chebyshnev.save(\"../cell_clustering/Coloured_Clustering/YC_edgeenhancement_RGB_chebyshnev.jpg\")\n",
    "YC_edgeenhancement_HSV_chebyshnev = K_means.K_Means(YC_edgeenhancement_HSV, 2, 30, \"chebyshnev\")\n",
    "YC_edgeenhancement_HSV_chebyshnev.save(\"../cell_clustering/Coloured_Clustering/YC_edgeenhancement_HSV_chebyshnev.jpg\")\n",
    "YC_edgeenhancement_LAB_chebyshnev = K_means.K_Means(YC_edgeenhancement_LAB, 2, 30, \"chebyshnev\")\n",
    "YC_edgeenhancement_LAB_chebyshnev.save(\"../cell_clustering/Coloured_Clustering/YC_edgeenhancement_LAB_chebyshnev.jpg\")\n",
    "YC_edgeenhancement_YCbCr_chebyshnev = K_means.K_Means(YC_edgeenhancement_YCbCr, 2, 30, \"chebyshnev\")\n",
    "YC_edgeenhancement_YCbCr_chebyshnev.save(\"../cell_clustering/Coloured_Clustering/YC_edgeenhancement_YCbCr_chebyshnev.jpg\")\n",
    "    #and so on for the other filters"
   ]
  },
  {
   "cell_type": "markdown",
   "metadata": {},
   "source": [
    "Gauss"
   ]
  },
  {
   "cell_type": "code",
   "execution_count": 25,
   "metadata": {},
   "outputs": [
    {
     "name": "stdout",
     "output_type": "stream",
     "text": [
      "Coloured Clustering\n",
      "Coloured Clustering\n",
      "Coloured Clustering\n",
      "Coloured Clustering\n",
      "Coloured Clustering\n",
      "Coloured Clustering\n",
      "Coloured Clustering\n",
      "Coloured Clustering\n"
     ]
    }
   ],
   "source": [
    "CN_gaussfilter_RGB_chebyshnev = K_means.K_Means(CN_gaussfilter_RGB, 2, 30, \"chebyshnev\")\n",
    "CN_gaussfilter_RGB_chebyshnev.save(\"../cell_clustering/Coloured_Clustering/CN_gaussfilter_RGB_chebyshnev.jpg\")\n",
    "CN_gaussfilter_HSV_chebyshnev = K_means.K_Means(CN_gaussfilter_HSV, 2, 30, \"chebyshnev\")\n",
    "CN_gaussfilter_HSV_chebyshnev.save(\"../cell_clustering/Coloured_Clustering/CN_gaussfilter_HSV_chebyshnev.jpg\")\n",
    "CN_gaussfilter_LAB_chebyshnev = K_means.K_Means(CN_gaussfilter_LAB, 2, 30, \"chebyshnev\")\n",
    "CN_gaussfilter_LAB_chebyshnev.save(\"../cell_clustering/Coloured_Clustering/CN_gaussfilter_LAB_chebyshnev.jpg\")\n",
    "CN_gaussfilter_YCbCr_chebyshnev = K_means.K_Means(CN_gaussfilter_YCbCr, 2, 30, \"chebyshnev\")\n",
    "CN_gaussfilter_YCbCr_chebyshnev.save(\"../cell_clustering/Coloured_Clustering/CN_gaussfilter_YCbCr_chebyshnev.jpg\")\n",
    "\n",
    "YC_gaussfilter_RGB_chebyshnev = K_means.K_Means(YC_gaussfilter_RGB, 2, 30, \"chebyshnev\")\n",
    "YC_gaussfilter_RGB_chebyshnev.save(\"../cell_clustering/Coloured_Clustering/YC_gaussfilter_RGB_chebyshnev.jpg\")\n",
    "YC_gaussfilter_HSV_chebyshnev = K_means.K_Means(YC_gaussfilter_HSV, 2, 30, \"chebyshnev\")\n",
    "YC_gaussfilter_HSV_chebyshnev.save(\"../cell_clustering/Coloured_Clustering/YC_gaussfilter_HSV_chebyshnev.jpg\")\n",
    "YC_gaussfilter_LAB_chebyshnev = K_means.K_Means(YC_gaussfilter_LAB, 2, 30, \"chebyshnev\")\n",
    "YC_gaussfilter_LAB_chebyshnev.save(\"../cell_clustering/Coloured_Clustering/YC_gaussfilter_LAB_chebyshnev.jpg\")\n",
    "YC_gaussfilter_YCbCr_chebyshnev = K_means.K_Means(YC_gaussfilter_YCbCr, 2, 30, \"chebyshnev\")\n",
    "YC_gaussfilter_YCbCr_chebyshnev.save(\"../cell_clustering/Coloured_Clustering/YC_gaussfilter_YCbCr_chebyshnev.jpg\")"
   ]
  },
  {
   "cell_type": "markdown",
   "metadata": {},
   "source": [
    "Sharpen"
   ]
  },
  {
   "cell_type": "code",
   "execution_count": 26,
   "metadata": {},
   "outputs": [
    {
     "name": "stdout",
     "output_type": "stream",
     "text": [
      "Coloured Clustering\n",
      "Coloured Clustering\n",
      "Coloured Clustering\n",
      "Coloured Clustering\n",
      "Coloured Clustering\n",
      "Coloured Clustering\n",
      "Coloured Clustering\n",
      "Coloured Clustering\n"
     ]
    }
   ],
   "source": [
    "#sharpen\n",
    "CN_sharpen_RGB_chebyshnev = K_means.K_Means(CN_sharpen_RGB, 2, 30, \"chebyshnev\")\n",
    "CN_sharpen_RGB_chebyshnev.save(\"../cell_clustering/Coloured_Clustering/CN_sharpen_RGB_chebyshnev.jpg\")\n",
    "CN_sharpen_HSV_chebyshnev = K_means.K_Means(CN_sharpen_HSV, 2, 30, \"chebyshnev\")\n",
    "CN_sharpen_HSV_chebyshnev.save(\"../cell_clustering/Coloured_Clustering/CN_sharpen_HSV_chebyshnev.jpg\")\n",
    "CN_sharpen_LAB_chebyshnev = K_means.K_Means(CN_sharpen_LAB, 2, 30, \"chebyshnev\")\n",
    "CN_sharpen_LAB_chebyshnev.save(\"../cell_clustering/Coloured_Clustering/CN_sharpen_LAB_chebyshnev.jpg\")\n",
    "CN_sharpen_YCbCr_chebyshnev = K_means.K_Means(CN_sharpen_YCbCr, 2, 30, \"chebyshnev\")\n",
    "CN_sharpen_YCbCr_chebyshnev.save(\"../cell_clustering/Coloured_Clustering/CN_sharpen_YCbCr_chebyshnev.jpg\")\n",
    "\n",
    "YC_sharpen_RGB_chebyshnev = K_means.K_Means(YC_sharpen_RGB, 2, 30, \"chebyshnev\")\n",
    "YC_sharpen_RGB_chebyshnev.save(\"../cell_clustering/Coloured_Clustering/YC_sharpen_RGB_chebyshnev.jpg\")\n",
    "YC_sharpen_HSV_chebyshnev = K_means.K_Means(YC_sharpen_HSV, 2, 30, \"chebyshnev\")\n",
    "YC_sharpen_HSV_chebyshnev.save(\"../cell_clustering/Coloured_Clustering/YC_sharpen_HSV_chebyshnev.jpg\")\n",
    "YC_sharpen_LAB_chebyshnev = K_means.K_Means(YC_sharpen_LAB, 2, 30, \"chebyshnev\")\n",
    "YC_sharpen_LAB_chebyshnev.save(\"../cell_clustering/Coloured_Clustering/YC_sharpen_LAB_chebyshnev.jpg\")\n",
    "YC_sharpen_YCbCr_chebyshnev = K_means.K_Means(YC_sharpen_YCbCr, 2, 30, \"chebyshnev\")\n",
    "YC_sharpen_YCbCr_chebyshnev.save(\"../cell_clustering/Coloured_Clustering/YC_sharpen_YCbCr_chebyshnev.jpg\")"
   ]
  },
  {
   "cell_type": "markdown",
   "metadata": {},
   "source": [
    "### Correlation\n",
    "No filter"
   ]
  },
  {
   "cell_type": "code",
   "execution_count": 27,
   "metadata": {},
   "outputs": [
    {
     "name": "stdout",
     "output_type": "stream",
     "text": [
      "Coloured Clustering\n"
     ]
    },
    {
     "name": "stderr",
     "output_type": "stream",
     "text": [
      "c:\\Users\\gt200\\anaconda3\\envs\\environment\\lib\\site-packages\\numpy\\lib\\function_base.py:2691: RuntimeWarning: invalid value encountered in true_divide\n",
      "  c /= stddev[:, None]\n",
      "c:\\Users\\gt200\\anaconda3\\envs\\environment\\lib\\site-packages\\numpy\\lib\\function_base.py:2692: RuntimeWarning: invalid value encountered in true_divide\n",
      "  c /= stddev[None, :]\n"
     ]
    },
    {
     "name": "stdout",
     "output_type": "stream",
     "text": [
      "Coloured Clustering\n"
     ]
    },
    {
     "ename": "KeyboardInterrupt",
     "evalue": "",
     "output_type": "error",
     "traceback": [
      "\u001b[1;31m---------------------------------------------------------------------------\u001b[0m",
      "\u001b[1;31mKeyboardInterrupt\u001b[0m                         Traceback (most recent call last)",
      "\u001b[1;32mc:\\Users\\gt200\\Documents\\Documente\\Uni\\4.FS\\Bioinfo\\2022-topic-01-team-05\\cell_clustering\\Cell Clustering.ipynb Zelle 38\u001b[0m in \u001b[0;36m<cell line: 5>\u001b[1;34m()\u001b[0m\n\u001b[0;32m      <a href='vscode-notebook-cell:/c%3A/Users/gt200/Documents/Documente/Uni/4.FS/Bioinfo/2022-topic-01-team-05/cell_clustering/Cell%20Clustering.ipynb#ch0000037?line=2'>3</a>\u001b[0m CN_nofilter_RGB_correlation \u001b[39m=\u001b[39m K_means\u001b[39m.\u001b[39mK_Means(CN_nofilter_RGB, \u001b[39m2\u001b[39m, \u001b[39m30\u001b[39m, \u001b[39m\"\u001b[39m\u001b[39mcorrelation\u001b[39m\u001b[39m\"\u001b[39m)\n\u001b[0;32m      <a href='vscode-notebook-cell:/c%3A/Users/gt200/Documents/Documente/Uni/4.FS/Bioinfo/2022-topic-01-team-05/cell_clustering/Cell%20Clustering.ipynb#ch0000037?line=3'>4</a>\u001b[0m CN_nofilter_RGB_correlation\u001b[39m.\u001b[39msave(\u001b[39m\"\u001b[39m\u001b[39m../cell_clustering/Coloured_Clustering/CN_nofilter_RGB_correlation.jpg\u001b[39m\u001b[39m\"\u001b[39m)\n\u001b[1;32m----> <a href='vscode-notebook-cell:/c%3A/Users/gt200/Documents/Documente/Uni/4.FS/Bioinfo/2022-topic-01-team-05/cell_clustering/Cell%20Clustering.ipynb#ch0000037?line=4'>5</a>\u001b[0m CN_nofilter_HSV_correlation \u001b[39m=\u001b[39m K_means\u001b[39m.\u001b[39;49mK_Means(CN_nofilter_HSV, \u001b[39m2\u001b[39;49m, \u001b[39m30\u001b[39;49m, \u001b[39m\"\u001b[39;49m\u001b[39mcorrelation\u001b[39;49m\u001b[39m\"\u001b[39;49m)\n\u001b[0;32m      <a href='vscode-notebook-cell:/c%3A/Users/gt200/Documents/Documente/Uni/4.FS/Bioinfo/2022-topic-01-team-05/cell_clustering/Cell%20Clustering.ipynb#ch0000037?line=5'>6</a>\u001b[0m CN_nofilter_HSV_correlation\u001b[39m.\u001b[39msave(\u001b[39m\"\u001b[39m\u001b[39m../cell_clustering/Coloured_Clustering/CN_nofilter_HSV_correlation.jpg\u001b[39m\u001b[39m\"\u001b[39m)\n\u001b[0;32m      <a href='vscode-notebook-cell:/c%3A/Users/gt200/Documents/Documente/Uni/4.FS/Bioinfo/2022-topic-01-team-05/cell_clustering/Cell%20Clustering.ipynb#ch0000037?line=6'>7</a>\u001b[0m CN_nofilter_LAB_correlation \u001b[39m=\u001b[39m K_means\u001b[39m.\u001b[39mK_Means(CN_nofilter_LAB, \u001b[39m2\u001b[39m, \u001b[39m30\u001b[39m, \u001b[39m\"\u001b[39m\u001b[39mcorrelation\u001b[39m\u001b[39m\"\u001b[39m)\n",
      "File \u001b[1;32mc:\\Users\\gt200\\Documents\\Documente\\Uni\\4.FS\\Bioinfo\\2022-topic-01-team-05\\cell_clustering\\K_means.py:249\u001b[0m, in \u001b[0;36mK_Means\u001b[1;34m(image, K, iterations, distance_type)\u001b[0m\n\u001b[0;32m    244\u001b[0m         image_out\u001b[39m.\u001b[39mputdata(rgb_list)\n\u001b[0;32m    247\u001b[0m         \u001b[39mreturn\u001b[39;00m image_out  \u001b[39m# Assignment list can be used to create image\u001b[39;00m\n\u001b[1;32m--> 249\u001b[0m segmented_image \u001b[39m=\u001b[39m k_means(image, K, iterations)\n\u001b[0;32m    250\u001b[0m \u001b[39mreturn\u001b[39;00m segmented_image\n",
      "File \u001b[1;32mc:\\Users\\gt200\\Documents\\Documente\\Uni\\4.FS\\Bioinfo\\2022-topic-01-team-05\\cell_clustering\\K_means.py:221\u001b[0m, in \u001b[0;36mK_Means.<locals>.k_means\u001b[1;34m(image, K, iterations)\u001b[0m\n\u001b[0;32m    217\u001b[0m i \u001b[39m=\u001b[39m \u001b[39m0\u001b[39m\n\u001b[0;32m    219\u001b[0m \u001b[39mwhile\u001b[39;00m i \u001b[39m<\u001b[39m iterations:  \u001b[39m# Maximum of 6 iterations\u001b[39;00m\n\u001b[1;32m--> 221\u001b[0m     resmat \u001b[39m=\u001b[39m responsibility(centroids,image) \n\u001b[0;32m    223\u001b[0m     new_centroids \u001b[39m=\u001b[39m clustermeans(resmat, image) \u001b[39m# New Centroids\u001b[39;00m\n\u001b[0;32m    225\u001b[0m     \u001b[39mif\u001b[39;00m new_centroids \u001b[39m==\u001b[39m centroids:  \u001b[39m# End algortihm, if centroids don't change\u001b[39;00m\n",
      "File \u001b[1;32mc:\\Users\\gt200\\Documents\\Documente\\Uni\\4.FS\\Bioinfo\\2022-topic-01-team-05\\cell_clustering\\K_means.py:192\u001b[0m, in \u001b[0;36mK_Means.<locals>.responsibility\u001b[1;34m(centroids, image)\u001b[0m\n\u001b[0;32m    188\u001b[0m     distance \u001b[39m=\u001b[39m []\n\u001b[0;32m    190\u001b[0m     \u001b[39mfor\u001b[39;00m c \u001b[39min\u001b[39;00m centroids:\n\u001b[1;32m--> 192\u001b[0m         distance\u001b[39m.\u001b[39mappend(calculate_distance(imagePixels[p], c))\n\u001b[0;32m    194\u001b[0m     matrix[p,np\u001b[39m.\u001b[39margmin(distance)] \u001b[39m=\u001b[39m [\u001b[39m1\u001b[39m]\u001b[39m*\u001b[39md\n\u001b[0;32m    195\u001b[0m \u001b[39mreturn\u001b[39;00m matrix\n",
      "File \u001b[1;32mc:\\Users\\gt200\\Documents\\Documente\\Uni\\4.FS\\Bioinfo\\2022-topic-01-team-05\\cell_clustering\\K_means.py:145\u001b[0m, in \u001b[0;36mK_Means.<locals>.calculate_distance\u001b[1;34m(a, b)\u001b[0m\n\u001b[0;32m    143\u001b[0m a \u001b[39m=\u001b[39m np\u001b[39m.\u001b[39marray(a)\n\u001b[0;32m    144\u001b[0m b \u001b[39m=\u001b[39m np\u001b[39m.\u001b[39marray(b)\n\u001b[1;32m--> 145\u001b[0m s \u001b[39m=\u001b[39m np\u001b[39m.\u001b[39;49mcorrcoef(a,b)[\u001b[39m0\u001b[39m, \u001b[39m1\u001b[39m]\n\u001b[0;32m    146\u001b[0m distance \u001b[39m=\u001b[39m \u001b[39m0.5\u001b[39m\u001b[39m*\u001b[39m(\u001b[39m1\u001b[39m\u001b[39m-\u001b[39ms)\n\u001b[0;32m    147\u001b[0m \u001b[39mreturn\u001b[39;00m distance\n",
      "File \u001b[1;32m<__array_function__ internals>:5\u001b[0m, in \u001b[0;36mcorrcoef\u001b[1;34m(*args, **kwargs)\u001b[0m\n",
      "File \u001b[1;32mc:\\Users\\gt200\\anaconda3\\envs\\environment\\lib\\site-packages\\numpy\\lib\\function_base.py:2683\u001b[0m, in \u001b[0;36mcorrcoef\u001b[1;34m(x, y, rowvar, bias, ddof, dtype)\u001b[0m\n\u001b[0;32m   2679\u001b[0m \u001b[39mif\u001b[39;00m bias \u001b[39mis\u001b[39;00m \u001b[39mnot\u001b[39;00m np\u001b[39m.\u001b[39m_NoValue \u001b[39mor\u001b[39;00m ddof \u001b[39mis\u001b[39;00m \u001b[39mnot\u001b[39;00m np\u001b[39m.\u001b[39m_NoValue:\n\u001b[0;32m   2680\u001b[0m     \u001b[39m# 2015-03-15, 1.10\u001b[39;00m\n\u001b[0;32m   2681\u001b[0m     warnings\u001b[39m.\u001b[39mwarn(\u001b[39m'\u001b[39m\u001b[39mbias and ddof have no effect and are deprecated\u001b[39m\u001b[39m'\u001b[39m,\n\u001b[0;32m   2682\u001b[0m                   \u001b[39mDeprecationWarning\u001b[39;00m, stacklevel\u001b[39m=\u001b[39m\u001b[39m3\u001b[39m)\n\u001b[1;32m-> 2683\u001b[0m c \u001b[39m=\u001b[39m cov(x, y, rowvar, dtype\u001b[39m=\u001b[39;49mdtype)\n\u001b[0;32m   2684\u001b[0m \u001b[39mtry\u001b[39;00m:\n\u001b[0;32m   2685\u001b[0m     d \u001b[39m=\u001b[39m diag(c)\n",
      "File \u001b[1;32m<__array_function__ internals>:5\u001b[0m, in \u001b[0;36mcov\u001b[1;34m(*args, **kwargs)\u001b[0m\n",
      "File \u001b[1;32mc:\\Users\\gt200\\anaconda3\\envs\\environment\\lib\\site-packages\\numpy\\lib\\function_base.py:2541\u001b[0m, in \u001b[0;36mcov\u001b[1;34m(m, y, rowvar, bias, ddof, fweights, aweights, dtype)\u001b[0m\n\u001b[0;32m   2539\u001b[0m \u001b[39melse\u001b[39;00m:\n\u001b[0;32m   2540\u001b[0m     X_T \u001b[39m=\u001b[39m (X\u001b[39m*\u001b[39mw)\u001b[39m.\u001b[39mT\n\u001b[1;32m-> 2541\u001b[0m c \u001b[39m=\u001b[39m dot(X, X_T\u001b[39m.\u001b[39;49mconj())\n\u001b[0;32m   2542\u001b[0m c \u001b[39m*\u001b[39m\u001b[39m=\u001b[39m np\u001b[39m.\u001b[39mtrue_divide(\u001b[39m1\u001b[39m, fact)\n\u001b[0;32m   2543\u001b[0m \u001b[39mreturn\u001b[39;00m c\u001b[39m.\u001b[39msqueeze()\n",
      "File \u001b[1;32m<__array_function__ internals>:5\u001b[0m, in \u001b[0;36mdot\u001b[1;34m(*args, **kwargs)\u001b[0m\n",
      "\u001b[1;31mKeyboardInterrupt\u001b[0m: "
     ]
    }
   ],
   "source": [
    "#correlation\n",
    "    #nofilter\n",
    "CN_nofilter_RGB_correlation = K_means.K_Means(CN_nofilter_RGB, 2, 30, \"correlation\")\n",
    "CN_nofilter_RGB_correlation.save(\"../cell_clustering/Coloured_Clustering/CN_nofilter_RGB_correlation.jpg\")\n",
    "CN_nofilter_HSV_correlation = K_means.K_Means(CN_nofilter_HSV, 2, 30, \"correlation\")\n",
    "CN_nofilter_HSV_correlation.save(\"../cell_clustering/Coloured_Clustering/CN_nofilter_HSV_correlation.jpg\")\n",
    "CN_nofilter_LAB_correlation = K_means.K_Means(CN_nofilter_LAB, 2, 30, \"correlation\")\n",
    "CN_nofilter_LAB_correlation.save(\"../cell_clustering/Coloured_Clustering/CN_nofilter_LAB_correlation.jpg\")\n",
    "CN_nofilter_YCbCr_correlation = K_means.K_Means(CN_nofilter_YCbCr, 2, 30, \"correlation\")\n",
    "CN_nofilter_YCbCr_correlation.save(\"../cell_clustering/Coloured_Clustering/CN_nofilter_YCbCr_correlation.jpg\")\n",
    "\n",
    "YC_nofilter_RGB_correlation = K_means.K_Means(YC_nofilter_RGB, 2, 30, \"correlation\")\n",
    "YC_nofilter_RGB_correlation.save(\"../cell_clustering/Coloured_Clustering/YC_nofilter_RGB_correlation.jpg\")\n",
    "YC_nofilter_HSV_correlation = K_means.K_Means(YC_nofilter_HSV, 2, 30, \"correlation\")\n",
    "YC_nofilter_HSV_correlation.save(\"../cell_clustering/Coloured_Clustering/YC_nofilter_HSV_correlation.jpg\")\n",
    "YC_nofilter_LAB_correlation = K_means.K_Means(YC_nofilter_LAB, 2, 30, \"correlation\")\n",
    "YC_nofilter_LAB_correlation.save(\"../cell_clustering/Coloured_Clustering/YC_nofilter_LAB_correlation.jpg\")\n",
    "YC_nofilter_YCbCr_correlation = K_means.K_Means(YC_nofilter_YCbCr, 2, 30, \"correlation\")\n",
    "YC_nofilter_YCbCr_correlation.save(\"../cell_clustering/Coloured_Clustering/YC_nofilter_YCbCr_correlation.jpg\")"
   ]
  },
  {
   "cell_type": "markdown",
   "metadata": {},
   "source": [
    "Edge Enhancement"
   ]
  },
  {
   "cell_type": "code",
   "execution_count": null,
   "metadata": {},
   "outputs": [],
   "source": [
    "#edgeenchancement\n",
    "CN_edgeenhancement_RGB_correlation = K_means.K_Means(CN_edgeenhancement_RGB, 2, 30, \"correlation\")\n",
    "CN_edgeenhancement_RGB_correlation.save(\"../cell_clustering/Coloured_Clustering/CN_edgeenhancement_RGB_correlation.jpg\")\n",
    "CN_edgeenhancement_HSV_correlation = K_means.K_Means(CN_edgeenhancement_HSV, 2, 30, \"correlation\")\n",
    "CN_edgeenhancement_HSV_correlation.save(\"../cell_clustering/Coloured_Clustering/CN_edgeenhancement_HSV_correlation.jpg\")\n",
    "CN_edgeenhancement_LAB_correlation = K_means.K_Means(CN_edgeenhancement_LAB, 2, 30, \"correlation\")\n",
    "CN_edgeenhancement_LAB_correlation.save(\"../cell_clustering/Coloured_Clustering/CN_edgeenhancement_LAB_correlation.jpg\")\n",
    "CN_edgeenhancement_YCbCr_correlation = K_means.K_Means(CN_edgeenhancement_YCbCr, 2, 30, \"correlation\")\n",
    "CN_edgeenhancement_YCbCr_correlation.save(\"../cell_clustering/Coloured_Clustering/CN_edgeenhancement_YCbCr_correlation.jpg\")\n",
    "\n",
    "YC_edgeenhancement_RGB_correlation = K_means.K_Means(YC_edgeenhancement_RGB, 2, 30, \"correlation\")\n",
    "YC_edgeenhancement_RGB_correlation.save(\"../cell_clustering/Coloured_Clustering/YC_edgeenhancement_RGB_correlation.jpg\")\n",
    "YC_edgeenhancement_HSV_correlation = K_means.K_Means(YC_edgeenhancement_HSV, 2, 30, \"correlation\")\n",
    "YC_edgeenhancement_HSV_correlation.save(\"../cell_clustering/Coloured_Clustering/YC_edgeenhancement_HSV_correlation.jpg\")\n",
    "YC_edgeenhancement_LAB_correlation = K_means.K_Means(YC_edgeenhancement_LAB, 2, 30, \"correlation\")\n",
    "YC_edgeenhancement_LAB_correlation.save(\"../cell_clustering/Coloured_Clustering/YC_edgeenhancement_LAB_correlation.jpg\")\n",
    "YC_edgeenhancement_YCbCr_correlation = K_means.K_Means(YC_edgeenhancement_YCbCr, 2, 30, \"correlation\")\n",
    "YC_edgeenhancement_YCbCr_correlation.save(\"../cell_clustering/Coloured_Clustering/YC_edgeenhancement_YCbCr_correlation.jpg\")"
   ]
  },
  {
   "cell_type": "markdown",
   "metadata": {},
   "source": [
    "Gauss"
   ]
  },
  {
   "cell_type": "code",
   "execution_count": null,
   "metadata": {},
   "outputs": [],
   "source": [
    "CN_gaussfilter_RGB_correlation = K_means.K_Means(CN_gaussfilter_RGB, 2, 30, \"correlation\")\n",
    "CN_gaussfilter_RGB_correlation.save(\"../cell_clustering/Coloured_Clustering/CN_gaussfilter_RGB_correlation.jpg\")\n",
    "CN_gaussfilter_HSV_correlation = K_means.K_Means(CN_gaussfilter_HSV, 2, 30, \"correlation\")\n",
    "CN_gaussfilter_HSV_correlation.save(\"../cell_clustering/Coloured_Clustering/CN_gaussfilter_HSV_correlation.jpg\")\n",
    "CN_gaussfilter_LAB_correlation = K_means.K_Means(CN_gaussfilter_LAB, 2, 30, \"correlation\")\n",
    "CN_gaussfilter_LAB_correlation.save(\"../cell_clustering/Coloured_Clustering/CN_gaussfilter_LAB_correlation.jpg\")\n",
    "CN_gaussfilter_YCbCr_correlation = K_means.K_Means(CN_gaussfilter_YCbCr, 2, 30, \"correlation\")\n",
    "CN_gaussfilter_YCbCr_correlation.save(\"../cell_clustering/Coloured_Clustering/CN_gaussfilter_YCbCr_correlation.jpg\")\n",
    "\n",
    "YC_gaussfilter_RGB_correlation = K_means.K_Means(YC_gaussfilter_RGB, 2, 30, \"correlation\")\n",
    "YC_gaussfilter_RGB_correlation.save(\"../cell_clustering/Coloured_Clustering/YC_gaussfilter_RGB_correlation.jpg\")\n",
    "YC_gaussfilter_HSV_correlation = K_means.K_Means(YC_gaussfilter_HSV, 2, 30, \"correlation\")\n",
    "YC_gaussfilter_HSV_correlation.save(\"../cell_clustering/Coloured_Clustering/YC_gaussfilter_HSV_correlation.jpg\")\n",
    "YC_gaussfilter_LAB_correlation = K_means.K_Means(YC_gaussfilter_LAB, 2, 30, \"correlation\")\n",
    "YC_gaussfilter_LAB_correlation.save(\"../cell_clustering/Coloured_Clustering/YC_gaussfilter_LAB_correlation.jpg\")\n",
    "YC_gaussfilter_YCbCr_correlation = K_means.K_Means(YC_gaussfilter_YCbCr, 2, 30, \"correlation\")\n",
    "YC_gaussfilter_YCbCr_correlation.save(\"../cell_clustering/Coloured_Clustering/YC_gaussfilter_YCbCr_correlation.jpg\")"
   ]
  },
  {
   "cell_type": "markdown",
   "metadata": {},
   "source": [
    "Sharpen"
   ]
  },
  {
   "cell_type": "code",
   "execution_count": null,
   "metadata": {},
   "outputs": [],
   "source": [
    "#sharpen\n",
    "CN_sharpen_RGB_correlation = K_means.K_Means(CN_sharpen_RGB, 2, 30, \"correlation\")\n",
    "CN_sharpen_RGB_correlation.save(\"../cell_clustering/Coloured_Clustering/CN_sharpen_RGB_correlation.jpg\")\n",
    "CN_sharpen_HSV_correlation = K_means.K_Means(CN_sharpen_HSV, 2, 30, \"correlation\")\n",
    "CN_sharpen_HSV_correlation.save(\"../cell_clustering/Coloured_Clustering/CN_sharpen_HSV_correlation.jpg\")\n",
    "CN_sharpen_LAB_correlation = K_means.K_Means(CN_sharpen_LAB, 2, 30, \"correlation\")\n",
    "CN_sharpen_LAB_correlation.save(\"../cell_clustering/Coloured_Clustering/CN_sharpen_LAB_correlation.jpg\")\n",
    "CN_sharpen_YCbCr_correlation = K_means.K_Means(CN_sharpen_YCbCr, 2, 30, \"correlation\")\n",
    "CN_sharpen_YCbCr_correlation.save(\"../cell_clustering/Coloured_Clustering/CN_sharpen_YCbCr_correlation.jpg\")\n",
    "\n",
    "YC_sharpen_RGB_correlation = K_means.K_Means(YC_sharpen_RGB, 2, 30, \"correlation\")\n",
    "YC_sharpen_RGB_correlation.save(\"../cell_clustering/Coloured_Clustering/YC_sharpen_RGB_correlation.jpg\")\n",
    "YC_sharpen_HSV_correlation = K_means.K_Means(YC_sharpen_HSV, 2, 30, \"correlation\")\n",
    "YC_sharpen_HSV_correlation.save(\"../cell_clustering/Coloured_Clustering/YC_sharpen_HSV_correlation.jpg\")\n",
    "YC_sharpen_LAB_correlation = K_means.K_Means(YC_sharpen_LAB, 2, 30, \"correlation\")\n",
    "YC_sharpen_LAB_correlation.save(\"../cell_clustering/Coloured_Clustering/YC_sharpen_LAB_correlation.jpg\")\n",
    "YC_sharpen_YCbCr_correlation = K_means.K_Means(YC_sharpen_YCbCr, 2, 30, \"correlation\")\n",
    "YC_sharpen_YCbCr_correlation.save(\"../cell_clustering/Coloured_Clustering/YC_sharpen_YCbCr_correlation.jpg\")"
   ]
  }
 ],
 "metadata": {
  "kernelspec": {
   "display_name": "Python 3.9.12 ('environment')",
   "language": "python",
   "name": "python3"
  },
  "language_info": {
   "codemirror_mode": {
    "name": "ipython",
    "version": 3
   },
   "file_extension": ".py",
   "mimetype": "text/x-python",
   "name": "python",
   "nbconvert_exporter": "python",
   "pygments_lexer": "ipython3",
   "version": "3.9.12"
  },
  "orig_nbformat": 4,
  "vscode": {
   "interpreter": {
    "hash": "9e1a7d2f88ef582704e45252eb30b63eae9d2c037b334948b0bda2fc4648bf73"
   }
  }
 },
 "nbformat": 4,
 "nbformat_minor": 2
}
