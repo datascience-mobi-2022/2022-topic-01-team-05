{
 "cells": [
  {
   "cell_type": "code",
   "execution_count": 36,
   "metadata": {},
   "outputs": [],
   "source": [
    "\n",
    "\n",
    "from PIL import Image\n",
    "from PIL import ImageFilter\n",
    "execfile(\"K_means.py\")\n",
    "execfile(\"color.py\")\n",
    "execfile(\"dice_score.py\")\n",
    "import cv2"
   ]
  },
  {
   "cell_type": "markdown",
   "metadata": {},
   "source": [
    "NAMING OF THE VARIABLES:\n",
    "image name (CN for Cell Nuclei and YC for Yeast Cells), filtering method, (color space for color images), distance used for K Means, post-processing method, DSC "
   ]
  },
  {
   "cell_type": "markdown",
   "metadata": {},
   "source": [
    "Loading all the raw data:"
   ]
  },
  {
   "cell_type": "code",
   "execution_count": 38,
   "metadata": {},
   "outputs": [
    {
     "name": "stdout",
     "output_type": "stream",
     "text": [
      "Grayscale Image Clustering\n"
     ]
    },
    {
     "ename": "KeyboardInterrupt",
     "evalue": "",
     "output_type": "error",
     "traceback": [
      "\u001b[1;31m---------------------------------------------------------------------------\u001b[0m",
      "\u001b[1;31mKeyboardInterrupt\u001b[0m                         Traceback (most recent call last)",
      "\u001b[1;32mc:\\Users\\Cedric\\Documents\\GitHub\\2022-topic-01-team-05\\cell_clustering\\Cell Clustering.ipynb Cell 5\u001b[0m in \u001b[0;36m<cell line: 27>\u001b[1;34m()\u001b[0m\n\u001b[0;32m     <a href='vscode-notebook-cell:/c%3A/Users/Cedric/Documents/GitHub/2022-topic-01-team-05/cell_clustering/Cell%20Clustering.ipynb#ch0000003?line=25'>26</a>\u001b[0m imagenumber \u001b[39m=\u001b[39m \u001b[39m0\u001b[39m\n\u001b[0;32m     <a href='vscode-notebook-cell:/c%3A/Users/Cedric/Documents/GitHub/2022-topic-01-team-05/cell_clustering/Cell%20Clustering.ipynb#ch0000003?line=26'>27</a>\u001b[0m \u001b[39mfor\u001b[39;00m image \u001b[39min\u001b[39;00m imglist:\n\u001b[1;32m---> <a href='vscode-notebook-cell:/c%3A/Users/Cedric/Documents/GitHub/2022-topic-01-team-05/cell_clustering/Cell%20Clustering.ipynb#ch0000003?line=27'>28</a>\u001b[0m     segmented \u001b[39m=\u001b[39m K_Means(image,\u001b[39m2\u001b[39;49m,\u001b[39m2\u001b[39;49m)\n\u001b[0;32m     <a href='vscode-notebook-cell:/c%3A/Users/Cedric/Documents/GitHub/2022-topic-01-team-05/cell_clustering/Cell%20Clustering.ipynb#ch0000003?line=28'>29</a>\u001b[0m     segmented\u001b[39m.\u001b[39msave(\u001b[39m\"\u001b[39m\u001b[39mOutput Test/outputimage\u001b[39m\u001b[39m{}\u001b[39;00m\u001b[39m.png\u001b[39m\u001b[39m\"\u001b[39m\u001b[39m.\u001b[39mformat(imagenumber), \u001b[39m\"\u001b[39m\u001b[39mPNG\u001b[39m\u001b[39m\"\u001b[39m)\n\u001b[0;32m     <a href='vscode-notebook-cell:/c%3A/Users/Cedric/Documents/GitHub/2022-topic-01-team-05/cell_clustering/Cell%20Clustering.ipynb#ch0000003?line=29'>30</a>\u001b[0m     imagenumber \u001b[39m+\u001b[39m\u001b[39m=\u001b[39m \u001b[39m1\u001b[39m\n",
      "\u001b[1;32mc:\\Users\\Cedric\\Documents\\GitHub\\2022-topic-01-team-05\\cell_clustering\\Cell Clustering.ipynb Cell 5\u001b[0m in \u001b[0;36mK_Means\u001b[1;34m(image, K, iterations, distance_type)\u001b[0m\n\u001b[0;32m    <a href='vscode-notebook-cell:/c%3A/Users/Cedric/Documents/GitHub/2022-topic-01-team-05/cell_clustering/Cell%20Clustering.ipynb#ch0000003?line=230'>231</a>\u001b[0m         image_out\u001b[39m.\u001b[39mputdata(rgb_list)\n\u001b[0;32m    <a href='vscode-notebook-cell:/c%3A/Users/Cedric/Documents/GitHub/2022-topic-01-team-05/cell_clustering/Cell%20Clustering.ipynb#ch0000003?line=233'>234</a>\u001b[0m         \u001b[39mreturn\u001b[39;00m image_out  \u001b[39m# Assignment list can be used to create image\u001b[39;00m\n\u001b[1;32m--> <a href='vscode-notebook-cell:/c%3A/Users/Cedric/Documents/GitHub/2022-topic-01-team-05/cell_clustering/Cell%20Clustering.ipynb#ch0000003?line=235'>236</a>\u001b[0m segmented_image \u001b[39m=\u001b[39m k_means(image, K, iterations)\n\u001b[0;32m    <a href='vscode-notebook-cell:/c%3A/Users/Cedric/Documents/GitHub/2022-topic-01-team-05/cell_clustering/Cell%20Clustering.ipynb#ch0000003?line=236'>237</a>\u001b[0m \u001b[39mreturn\u001b[39;00m segmented_image\n",
      "\u001b[1;32mc:\\Users\\Cedric\\Documents\\GitHub\\2022-topic-01-team-05\\cell_clustering\\Cell Clustering.ipynb Cell 5\u001b[0m in \u001b[0;36mK_Means.<locals>.k_means\u001b[1;34m(image, K, iterations)\u001b[0m\n\u001b[0;32m     <a href='vscode-notebook-cell:/c%3A/Users/Cedric/Documents/GitHub/2022-topic-01-team-05/cell_clustering/Cell%20Clustering.ipynb#ch0000003?line=75'>76</a>\u001b[0m i \u001b[39m=\u001b[39m \u001b[39m0\u001b[39m\n\u001b[0;32m     <a href='vscode-notebook-cell:/c%3A/Users/Cedric/Documents/GitHub/2022-topic-01-team-05/cell_clustering/Cell%20Clustering.ipynb#ch0000003?line=77'>78</a>\u001b[0m \u001b[39mwhile\u001b[39;00m i \u001b[39m<\u001b[39m iterations:  \u001b[39m# Maximum of 6 iterations\u001b[39;00m\n\u001b[1;32m---> <a href='vscode-notebook-cell:/c%3A/Users/Cedric/Documents/GitHub/2022-topic-01-team-05/cell_clustering/Cell%20Clustering.ipynb#ch0000003?line=79'>80</a>\u001b[0m     resmat \u001b[39m=\u001b[39m responsibility(centroids,image) \n\u001b[0;32m     <a href='vscode-notebook-cell:/c%3A/Users/Cedric/Documents/GitHub/2022-topic-01-team-05/cell_clustering/Cell%20Clustering.ipynb#ch0000003?line=81'>82</a>\u001b[0m     new_centroids \u001b[39m=\u001b[39m clustermeans(resmat, image) \u001b[39m# New Centroids\u001b[39;00m\n\u001b[0;32m     <a href='vscode-notebook-cell:/c%3A/Users/Cedric/Documents/GitHub/2022-topic-01-team-05/cell_clustering/Cell%20Clustering.ipynb#ch0000003?line=83'>84</a>\u001b[0m     \u001b[39mif\u001b[39;00m new_centroids \u001b[39m==\u001b[39m centroids:  \u001b[39m# End algortihm, if centroids don't change\u001b[39;00m\n",
      "\u001b[1;32mc:\\Users\\Cedric\\Documents\\GitHub\\2022-topic-01-team-05\\cell_clustering\\Cell Clustering.ipynb Cell 5\u001b[0m in \u001b[0;36mK_Means.<locals>.responsibility\u001b[1;34m(centroids, image)\u001b[0m\n\u001b[0;32m     <a href='vscode-notebook-cell:/c%3A/Users/Cedric/Documents/GitHub/2022-topic-01-team-05/cell_clustering/Cell%20Clustering.ipynb#ch0000003?line=36'>37</a>\u001b[0m     \u001b[39mfor\u001b[39;00m c \u001b[39min\u001b[39;00m centroids:\n\u001b[0;32m     <a href='vscode-notebook-cell:/c%3A/Users/Cedric/Documents/GitHub/2022-topic-01-team-05/cell_clustering/Cell%20Clustering.ipynb#ch0000003?line=38'>39</a>\u001b[0m         distance\u001b[39m.\u001b[39mappend(calculate_distance(imagePixels[p], c))\n\u001b[1;32m---> <a href='vscode-notebook-cell:/c%3A/Users/Cedric/Documents/GitHub/2022-topic-01-team-05/cell_clustering/Cell%20Clustering.ipynb#ch0000003?line=40'>41</a>\u001b[0m     matrix[p,np\u001b[39m.\u001b[39;49margmin(distance)] \u001b[39m=\u001b[39m \u001b[39m1\u001b[39m\n\u001b[0;32m     <a href='vscode-notebook-cell:/c%3A/Users/Cedric/Documents/GitHub/2022-topic-01-team-05/cell_clustering/Cell%20Clustering.ipynb#ch0000003?line=41'>42</a>\u001b[0m \u001b[39mreturn\u001b[39;00m matrix\n",
      "File \u001b[1;32m<__array_function__ internals>:180\u001b[0m, in \u001b[0;36margmin\u001b[1;34m(*args, **kwargs)\u001b[0m\n",
      "File \u001b[1;32mc:\\Users\\Cedric\\anaconda3\\envs\\environment\\lib\\site-packages\\numpy\\core\\fromnumeric.py:1312\u001b[0m, in \u001b[0;36margmin\u001b[1;34m(a, axis, out, keepdims)\u001b[0m\n\u001b[0;32m   1225\u001b[0m \u001b[39m\"\"\"\u001b[39;00m\n\u001b[0;32m   1226\u001b[0m \u001b[39mReturns the indices of the minimum values along an axis.\u001b[39;00m\n\u001b[0;32m   1227\u001b[0m \n\u001b[1;32m   (...)\u001b[0m\n\u001b[0;32m   1309\u001b[0m \u001b[39m(2, 1, 4)\u001b[39;00m\n\u001b[0;32m   1310\u001b[0m \u001b[39m\"\"\"\u001b[39;00m\n\u001b[0;32m   1311\u001b[0m kwds \u001b[39m=\u001b[39m {\u001b[39m'\u001b[39m\u001b[39mkeepdims\u001b[39m\u001b[39m'\u001b[39m: keepdims} \u001b[39mif\u001b[39;00m keepdims \u001b[39mis\u001b[39;00m \u001b[39mnot\u001b[39;00m np\u001b[39m.\u001b[39m_NoValue \u001b[39melse\u001b[39;00m {}\n\u001b[1;32m-> 1312\u001b[0m \u001b[39mreturn\u001b[39;00m _wrapfunc(a, \u001b[39m'\u001b[39m\u001b[39margmin\u001b[39m\u001b[39m'\u001b[39m, axis\u001b[39m=\u001b[39maxis, out\u001b[39m=\u001b[39mout, \u001b[39m*\u001b[39m\u001b[39m*\u001b[39mkwds)\n",
      "File \u001b[1;32mc:\\Users\\Cedric\\anaconda3\\envs\\environment\\lib\\site-packages\\numpy\\core\\fromnumeric.py:54\u001b[0m, in \u001b[0;36m_wrapfunc\u001b[1;34m(obj, method, *args, **kwds)\u001b[0m\n\u001b[0;32m     52\u001b[0m bound \u001b[39m=\u001b[39m \u001b[39mgetattr\u001b[39m(obj, method, \u001b[39mNone\u001b[39;00m)\n\u001b[0;32m     53\u001b[0m \u001b[39mif\u001b[39;00m bound \u001b[39mis\u001b[39;00m \u001b[39mNone\u001b[39;00m:\n\u001b[1;32m---> 54\u001b[0m     \u001b[39mreturn\u001b[39;00m _wrapit(obj, method, \u001b[39m*\u001b[39margs, \u001b[39m*\u001b[39m\u001b[39m*\u001b[39mkwds)\n\u001b[0;32m     56\u001b[0m \u001b[39mtry\u001b[39;00m:\n\u001b[0;32m     57\u001b[0m     \u001b[39mreturn\u001b[39;00m bound(\u001b[39m*\u001b[39margs, \u001b[39m*\u001b[39m\u001b[39m*\u001b[39mkwds)\n",
      "File \u001b[1;32mc:\\Users\\Cedric\\anaconda3\\envs\\environment\\lib\\site-packages\\numpy\\core\\fromnumeric.py:43\u001b[0m, in \u001b[0;36m_wrapit\u001b[1;34m(obj, method, *args, **kwds)\u001b[0m\n\u001b[0;32m     41\u001b[0m \u001b[39mexcept\u001b[39;00m \u001b[39mAttributeError\u001b[39;00m:\n\u001b[0;32m     42\u001b[0m     wrap \u001b[39m=\u001b[39m \u001b[39mNone\u001b[39;00m\n\u001b[1;32m---> 43\u001b[0m result \u001b[39m=\u001b[39m \u001b[39mgetattr\u001b[39m(asarray(obj), method)(\u001b[39m*\u001b[39margs, \u001b[39m*\u001b[39m\u001b[39m*\u001b[39mkwds)\n\u001b[0;32m     44\u001b[0m \u001b[39mif\u001b[39;00m wrap:\n\u001b[0;32m     45\u001b[0m     \u001b[39mif\u001b[39;00m \u001b[39mnot\u001b[39;00m \u001b[39misinstance\u001b[39m(result, mu\u001b[39m.\u001b[39mndarray):\n",
      "\u001b[1;31mKeyboardInterrupt\u001b[0m: "
     ]
    }
   ],
   "source": [
    "CN_nofilter_RGB = Image.open(\"../data/Cell_Nuclei.jpg\")\n",
    "YC_nofilter_RGB = Image.open(\"../data/Yeast_Cells.jpg\")\n",
    "\n",
    "img0 = Image.open(\"../data/NIH3T3/img/dna-0.png\")\n",
    "img1 = Image.open(\"../data/NIH3T3/img/dna-1.png\")\n",
    "img2 = Image.open(\"../data/NIH3T3/img/dna-26.png\")\n",
    "img3 = Image.open(\"../data/NIH3T3/img/dna-27.png\")\n",
    "img4 = Image.open(\"../data/NIH3T3/img/dna-28.png\")\n",
    "img5 = Image.open(\"../data/NIH3T3/img/dna-29.png\")\n",
    "img6 = Image.open(\"../data/NIH3T3/img/dna-30.png\")\n",
    "img7 = Image.open(\"../data/NIH3T3/img/dna-31.png\")\n",
    "img8 = Image.open(\"../data/NIH3T3/img/dna-32.png\")\n",
    "img9 = Image.open(\"../data/NIH3T3/img/dna-33.png\")\n",
    "img10 = Image.open(\"../data/NIH3T3/img/dna-37.png\")\n",
    "img11 = Image.open(\"../data/NIH3T3/img/dna-40.png\")\n",
    "img12 = Image.open(\"../data/NIH3T3/img/dna-42.png\")\n",
    "img13 = Image.open(\"../data/NIH3T3/img/dna-44.png\")\n",
    "img14 = Image.open(\"../data/NIH3T3/img/dna-45.png\")\n",
    "img15 = Image.open(\"../data/NIH3T3/img/dna-46.png\")\n",
    "img16 = Image.open(\"../data/NIH3T3/img/dna-47.png\")\n",
    "img17 = Image.open(\"../data/NIH3T3/img/dna-49.png\")\n",
    "\n",
    "imglist = [img0,img1,img2,img3,img4,img5,img6,img7,img8,img9,img10,img11,img12,img13,img14,img15,img16,img17]\n",
    "\n",
    "\n",
    "imagenumber = 0\n",
    "for image in imglist:\n",
    "    segmented = K_means.K_Means(image,2,2)\n",
    "    segmented.save(\"Output Test/outputimage{}.png\".format(imagenumber), \"PNG\")\n",
    "    imagenumber += 1\n",
    "\n",
    "\n"
   ]
  },
  {
   "cell_type": "markdown",
   "metadata": {},
   "source": [
    "Pre-Processing: Edge Enhancement (Enhance More)"
   ]
  },
  {
   "cell_type": "code",
   "execution_count": null,
   "metadata": {},
   "outputs": [],
   "source": [
    "CN_edgeenhancement_RGB = CN_nofilter_RGB.filter(ImageFilter.EDGE_ENHANCE).filter(ImageFilter.EDGE_ENHANCE_MORE)\n",
    "YC_edgeenhancement_RGB = YC_nofilter_RGB.filter(ImageFilter.EDGE_ENHANCE).filter(ImageFilter.EDGE_ENHANCE_MORE)\n",
    "\n"
   ]
  },
  {
   "cell_type": "markdown",
   "metadata": {},
   "source": [
    "Pre-Processing: Median Filter"
   ]
  },
  {
   "cell_type": "code",
   "execution_count": null,
   "metadata": {},
   "outputs": [],
   "source": [
    "CN_medianfilter_RGB = CN_nofilter_RGB.filter(ImageFilter.MedianFilter)\n",
    "YC_medianfilter_RGB = YC_nofilter_RGB.filter(ImageFilter.MedianFilter)\n"
   ]
  },
  {
   "cell_type": "markdown",
   "metadata": {},
   "source": [
    "Color Space Conversion (for color images only)"
   ]
  },
  {
   "cell_type": "code",
   "execution_count": null,
   "metadata": {},
   "outputs": [],
   "source": [
    "#nofilter\n",
    "CN_nofilter_HSV = color.convert(CN_nofilter_RGB, \"HSV\")\n",
    "CN_nofilter_LAB = color.convert(CN_nofilter_RGB, \"LAB\")\n",
    "CN_nofilter_YCbCr = color.convert(CN_nofilter_RGB, \"YCbCr\")\n",
    "\n",
    "YC_nofilter_HSV = color.convert(YC_nofilter_RGB, \"HSV\")\n",
    "YC_nofilter_LAB = color.convert(YC_nofilter_RGB, \"LAB\")\n",
    "YC_nofilter_YCbCr = color.convert(YC_nofilter_RGB, \"YCbCr\")\n",
    "\n",
    "#edgeenhancement\n",
    "CN_edgeenhancement_HSV = color.convert(CN_edgeenhancement_RGB, \"HSV\")\n",
    "CN_edgeenhancement_LAB = color.convert(CN_edgeenhancement_RGB, \"LAB\")\n",
    "CN_edgeenhancement_YCbCr = color.convert(CN_edgeenhancement_RGB, \"YCbCr\")\n",
    "\n",
    "YC_edgeenhancement_HSV = color.convert(YC_edgeenhancement_RGB, \"HSV\")\n",
    "YC_edgeenhancement_LAB = color.convert(YC_edgeenhancement_RGB, \"LAB\")\n",
    "YC_edgeenhancement_YCbCr = color.convert(YC_edgeenhancement_RGB, \"YCbCr\")\n",
    "\n",
    "#....."
   ]
  },
  {
   "cell_type": "markdown",
   "metadata": {},
   "source": [
    "K Means with different distances (color image only):"
   ]
  },
  {
   "cell_type": "code",
   "execution_count": null,
   "metadata": {},
   "outputs": [],
   "source": [
    "#Euclidean\n",
    "    #nofilter\n",
    "CN_nofilter_RGB_euclidean = K_means.K_Means(CN_nofilter_RGB, 2, 30, \"euclidean\")\n",
    "CN_nofilter_HSV_euclidean = K_means.K_Means(CN_nofilter_HSV, 2, 30, \"euclidean\")\n",
    "CN_nofilter_LAB_euclidean = K_means.K_Means(CN_nofilter_LAB, 2, 30, \"euclidean\")\n",
    "CN_nofilter_YCbCr_euclidean = K_means.K_Means(CN_nofilter_YCbCr, 2, 30, \"euclidean\")\n",
    "\n",
    "YC_nofilter_RGB_euclidean = K_means.K_Means(YC_nofilter_RGB, 2, 30, \"euclidean\")\n",
    "YC_nofilter_HSV_euclidean = K_means.K_Means(YC_nofilter_HSV, 2, 30, \"euclidean\")\n",
    "YC_nofilter_LAB_euclidean = K_means.K_Means(YC_nofilter_LAB, 2, 30, \"euclidean\")\n",
    "YC_nofilter_YCbCr_euclidean = K_means.K_Means(YC_nofilter_YCbCr, 2, 30, \"euclidean\")\n",
    "\n",
    "    #edgeenchancement\n",
    "CN_edgeenhancement_RGB_euclidean = K_means.K_Means(CN_edgeenhancement_RGB, 2, 30, \"euclidean\")\n",
    "CN_edgeenhancement_HSV_euclidean = K_means.K_Means(CN_edgeenhancement_HSV, 2, 30, \"euclidean\")\n",
    "CN_edgeenhancement_LAB_euclidean = K_means.K_Means(CN_edgeenhancement_LAB, 2, 30, \"euclidean\")\n",
    "CN_edgeenhancement_YCbCr_euclidean = K_means.K_Means(CN_edgeenhancement_YCbCr, 2, 30, \"euclidean\")\n",
    "\n",
    "YC_edgeenhancement_RGB_euclidean = K_means.K_Means(YC_edgeenhancement_RGB, 2, 30, \"euclidean\")\n",
    "YC_edgeenhancement_HSV_euclidean = K_means.K_Means(YC_edgeenhancement_HSV, 2, 30, \"euclidean\")\n",
    "YC_edgeenhancement_LAB_euclidean = K_means.K_Means(YC_edgeenhancement_LAB, 2, 30, \"euclidean\")\n",
    "YC_edgeenhancement_YCbCr_euclidean = K_means.K_Means(YC_edgeenhancement_YCbCr, 2, 30, \"euclidean\")\n",
    "    #and so on for the other filters\n",
    "\n",
    "#Manhattan\n",
    "    #nofilter\n",
    "CN_nofilter_RGB_manhattan = K_means.K_Means(CN_nofilter_RGB, 2, 30, \"manhattan\")\n",
    "CN_nofilter_HSV_manhattan = K_means.K_Means(CN_nofilter_HSV, 2, 30, \"manhattan\")\n",
    "CN_nofilter_LAB_manhattan = K_means.K_Means(CN_nofilter_LAB, 2, 30, \"manhattan\")\n",
    "CN_nofilter_YCbCr_manhattan = K_means.K_Means(CN_nofilter_YCbCr, 2, 30, \"manhattan\")\n",
    "\n",
    "YC_nofilter_RGB_manhattan = K_means.K_Means(YC_nofilter_RGB, 2, 30, \"manhattan\")\n",
    "YC_nofilter_HSV_manhattan = K_means.K_Means(YC_nofilter_HSV, 2, 30, \"manhattan\")\n",
    "YC_nofilter_LAB_manhattan = K_means.K_Means(YC_nofilter_LAB, 2, 30, \"manhattan\")\n",
    "YC_nofilter_YCbCr_manhattan = K_means.K_Means(YC_nofilter_YCbCr, 2, 30, \"manhattan\")\n",
    "\n",
    "    #edgeenchancement\n",
    "CN_edgeenhancement_RGB_manhattan = K_means.K_Means(CN_edgeenhancement_RGB, 2, 30, \"manhattan\")\n",
    "CN_edgeenhancement_HSV_manhattan = K_means.K_Means(CN_edgeenhancement_HSV, 2, 30, \"manhattan\")\n",
    "CN_edgeenhancement_LAB_manhattan = K_means.K_Means(CN_edgeenhancement_LAB, 2, 30, \"manhattan\")\n",
    "CN_edgeenhancement_YCbCr_manhattan = K_means.K_Means(CN_edgeenhancement_YCbCr, 2, 30, \"manhattan\")\n",
    "\n",
    "YC_edgeenhancement_RGB_manhattan = K_means.K_Means(YC_edgeenhancement_RGB, 2, 30, \"manhattan\")\n",
    "YC_edgeenhancement_HSV_manhattan = K_means.K_Means(YC_edgeenhancement_HSV, 2, 30, \"manhattan\")\n",
    "YC_edgeenhancement_LAB_manhattan = K_means.K_Means(YC_edgeenhancement_LAB, 2, 30, \"manhattan\")\n",
    "YC_edgeenhancement_YCbCr_manhattan = K_means.K_Means(YC_edgeenhancement_YCbCr, 2, 30, \"manhattan\")\n",
    "    #and so on for the other filters\n",
    "\n",
    "#Chebyshnev\n",
    "    #nofilter\n",
    "CN_nofilter_RGB_chebyshnev = K_means.K_Means(CN_nofilter_RGB, 2, 30, \"chebyshnev\")\n",
    "CN_nofilter_HSV_chebyshnev = K_means.K_Means(CN_nofilter_HSV, 2, 30, \"chebyshnev\")\n",
    "CN_nofilter_LAB_chebyshnev = K_means.K_Means(CN_nofilter_LAB, 2, 30, \"chebyshnev\")\n",
    "CN_nofilter_YCbCr_chebyshnev = K_means.K_Means(CN_nofilter_YCbCr, 2, 30, \"chebyshnev\")\n",
    "\n",
    "YC_nofilter_RGB_chebyshnev = K_means.K_Means(YC_nofilter_RGB, 2, 30, \"chebyshnev\")\n",
    "YC_nofilter_HSV_chebyshnev = K_means.K_Means(YC_nofilter_HSV, 2, 30, \"chebyshnev\")\n",
    "YC_nofilter_LAB_chebyshnev = K_means.K_Means(YC_nofilter_LAB, 2, 30, \"chebyshnev\")\n",
    "YC_nofilter_YCbCr_chebyshnev = K_means.K_Means(YC_nofilter_YCbCr, 2, 30, \"chebyshnev\")\n",
    "\n",
    "    #edgeenchancement\n",
    "CN_edgeenhancement_RGB_chebyshnev = K_means.K_Means(CN_edgeenhancement_RGB, 2, 30, \"chebyshnev\")\n",
    "CN_edgeenhancement_HSV_chebyshnev = K_means.K_Means(CN_edgeenhancement_HSV, 2, 30, \"chebyshnev\")\n",
    "CN_edgeenhancement_LAB_chebyshnev = K_means.K_Means(CN_edgeenhancement_LAB, 2, 30, \"chebyshnev\")\n",
    "CN_edgeenhancement_YCbCr_chebyshnev = K_means.K_Means(CN_edgeenhancement_YCbCr, 2, 30, \"chebyshnev\")\n",
    "\n",
    "YC_edgeenhancement_RGB_chebyshnev = K_means.K_Means(YC_edgeenhancement_RGB, 2, 30, \"chebyshnev\")\n",
    "YC_edgeenhancement_HSV_chebyshnev = K_means.K_Means(YC_edgeenhancement_HSV, 2, 30, \"chebyshnev\")\n",
    "YC_edgeenhancement_LAB_chebyshnev = K_means.K_Means(YC_edgeenhancement_LAB, 2, 30, \"chebyshnev\")\n",
    "YC_edgeenhancement_YCbCr_chebyshnev = K_means.K_Means(YC_edgeenhancement_YCbCr, 2, 30, \"chebyshnev\")\n",
    "    #and so on for the other filters"
   ]
  }
 ],
 "metadata": {
  "kernelspec": {
   "display_name": "Python 3.10.4 ('environment')",
   "language": "python",
   "name": "python3"
  },
  "language_info": {
   "codemirror_mode": {
    "name": "ipython",
    "version": 3
   },
   "file_extension": ".py",
   "mimetype": "text/x-python",
   "name": "python",
   "nbconvert_exporter": "python",
   "pygments_lexer": "ipython3",
   "version": "3.10.4"
  },
  "orig_nbformat": 4,
  "vscode": {
   "interpreter": {
    "hash": "54b7fcf1bb44cc75fc95c5b2a09216d96d24708150346c5f6bdce168163bfc85"
   }
  }
 },
 "nbformat": 4,
 "nbformat_minor": 2
}
