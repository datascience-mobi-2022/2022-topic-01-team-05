{
 "cells": [
  {
   "cell_type": "code",
   "execution_count": 79,
   "metadata": {},
   "outputs": [],
   "source": [
    "from PIL import Image\n",
    "from PIL import ImageFilter\n",
    "import K_means\n",
    "import color\n",
    "import dice_score\n",
    "import cv2"
   ]
  },
  {
   "cell_type": "markdown",
   "metadata": {},
   "source": [
    "NAMING OF THE VARIABLES:\n",
    "image name (CN for Cell Nuclei and YC for Yeast Cells), filtering method, (color space for color images), distance used for K Means, post-processing method, DSC "
   ]
  },
  {
   "cell_type": "markdown",
   "metadata": {},
   "source": [
    "Loading all the raw data:"
   ]
  },
  {
   "cell_type": "code",
   "execution_count": 80,
   "metadata": {},
   "outputs": [],
   "source": [
    "CN_nofilter_RGB = Image.open(\"../data/Cell_Nuclei.jpg\")\n",
    "YC_nofilter_RGB = Image.open(\"../data/Yeast_Cells.jpg\")\n",
    "\n",
    "img0 = Image.open(\"../data/NIH3T3/img/dna-0.png\")\n",
    "img1 = Image.open(\"../data/NIH3T3/img/dna-1.png\")\n",
    "img2 = Image.open(\"../data/NIH3T3/img/dna-26.png\")\n",
    "img3 = Image.open(\"../data/NIH3T3/img/dna-27.png\")\n",
    "img4 = Image.open(\"../data/NIH3T3/img/dna-28.png\")\n",
    "img5 = Image.open(\"../data/NIH3T3/img/dna-29.png\")\n",
    "img6 = Image.open(\"../data/NIH3T3/img/dna-30.png\")\n",
    "img7 = Image.open(\"../data/NIH3T3/img/dna-31.png\")\n",
    "img8 = Image.open(\"../data/NIH3T3/img/dna-32.png\")\n",
    "img9 = Image.open(\"../data/NIH3T3/img/dna-33.png\")\n",
    "img10 = Image.open(\"../data/NIH3T3/img/dna-37.png\")\n",
    "img11 = Image.open(\"../data/NIH3T3/img/dna-40.png\")\n",
    "img12 = Image.open(\"../data/NIH3T3/img/dna-42.png\")\n",
    "img13 = Image.open(\"../data/NIH3T3/img/dna-44.png\")\n",
    "img14 = Image.open(\"../data/NIH3T3/img/dna-45.png\")\n",
    "img14 = Image.open(\"../data/NIH3T3/img/dna-46.png\")\n",
    "img16 = Image.open(\"../data/NIH3T3/img/dna-47.png\")\n",
    "img17 = Image.open(\"../data/NIH3T3/img/dna-49.png\")"
   ]
  },
  {
   "cell_type": "markdown",
   "metadata": {},
   "source": [
    "Pre-Processing: Edge Enhancement (Enhance More)"
   ]
  },
  {
   "cell_type": "code",
   "execution_count": 81,
   "metadata": {},
   "outputs": [],
   "source": [
    "CN_edgeenhancement_RGB = CN_nofilter_RGB.filter(ImageFilter.EDGE_ENHANCE).filter(ImageFilter.EDGE_ENHANCE_MORE)\n",
    "YC_edgeenhancement_RGB = YC_nofilter_RGB.filter(ImageFilter.EDGE_ENHANCE).filter(ImageFilter.EDGE_ENHANCE_MORE)\n",
    "\n"
   ]
  },
  {
   "cell_type": "markdown",
   "metadata": {},
   "source": [
    "Pre-Processing: Median Filter"
   ]
  },
  {
   "cell_type": "code",
   "execution_count": 82,
   "metadata": {},
   "outputs": [],
   "source": [
    "CN_medianfilter_RGB = CN_nofilter_RGB.filter(ImageFilter.MedianFilter)\n",
    "YC_medianfilter_RGB = YC_nofilter_RGB.filter(ImageFilter.MedianFilter)\n"
   ]
  },
  {
   "cell_type": "markdown",
   "metadata": {},
   "source": [
    "Color Space Conversion (for color images only)"
   ]
  },
  {
   "cell_type": "code",
   "execution_count": 83,
   "metadata": {},
   "outputs": [],
   "source": [
    "#nofilter\n",
    "CN_nofilter_HSV = color.convert(CN_nofilter_RGB, \"HSV\")\n",
    "CN_nofilter_LAB = color.convert(CN_nofilter_RGB, \"LAB\")\n",
    "CN_nofilter_YCbCr = color.convert(CN_nofilter_RGB, \"YCbCr\")\n",
    "\n",
    "YC_nofilter_HSV = color.convert(YC_nofilter_RGB, \"HSV\")\n",
    "YC_nofilter_LAB = color.convert(YC_nofilter_RGB, \"LAB\")\n",
    "YC_nofilter_YCbCr = color.convert(YC_nofilter_RGB, \"YCbCr\")\n",
    "\n",
    "#edgeenhancement\n",
    "CN_edgeenhancement_HSV = color.convert(CN_edgeenhancement_RGB, \"HSV\")\n",
    "CN_edgeenhancement_LAB = color.convert(CN_edgeenhancement_RGB, \"LAB\")\n",
    "CN_edgeenhancement_YCbCr = color.convert(CN_edgeenhancement_RGB, \"YCbCr\")\n",
    "\n",
    "YC_edgeenhancement_HSV = color.convert(YC_edgeenhancement_RGB, \"HSV\")\n",
    "YC_edgeenhancement_LAB = color.convert(YC_edgeenhancement_RGB, \"LAB\")\n",
    "YC_edgeenhancement_YCbCr = color.convert(YC_edgeenhancement_RGB, \"YCbCr\")\n",
    "\n",
    "#....."
   ]
  },
  {
   "cell_type": "markdown",
   "metadata": {},
   "source": [
    "K Means with different distances (color image only):"
   ]
  },
  {
   "cell_type": "code",
   "execution_count": null,
   "metadata": {},
   "outputs": [],
   "source": [
    "#Euclidean\n",
    "    #nofilter\n",
    "CN_nofilter_RGB_euclidean = K_means.K_Means(CN_nofilter_RGB, 2, 30, \"euclidean\")\n",
    "CN_nofilter_HSV_euclidean = K_means.K_Means(CN_nofilter_HSV, 2, 30, \"euclidean\")\n",
    "CN_nofilter_LAB_euclidean = K_means.K_Means(CN_nofilter_LAB, 2, 30, \"euclidean\")\n",
    "CN_nofilter_YCbCr_euclidean = K_means.K_Means(CN_nofilter_YCbCr, 2, 30, \"euclidean\")\n",
    "\n",
    "YC_nofilter_RGB_euclidean = K_means.K_Means(YC_nofilter_RGB, 2, 30, \"euclidean\")\n",
    "YC_nofilter_HSV_euclidean = K_means.K_Means(YC_nofilter_HSV, 2, 30, \"euclidean\")\n",
    "YC_nofilter_LAB_euclidean = K_means.K_Means(YC_nofilter_LAB, 2, 30, \"euclidean\")\n",
    "YC_nofilter_YCbCr_euclidean = K_means.K_Means(YC_nofilter_YCbCr, 2, 30, \"euclidean\")\n",
    "\n",
    "    #edgeenchancement\n",
    "CN_edgeenhancement_RGB_euclidean = K_means.K_Means(CN_edgeenhancement_RGB, 2, 30, \"euclidean\")\n",
    "CN_edgeenhancement_HSV_euclidean = K_means.K_Means(CN_edgeenhancement_HSV, 2, 30, \"euclidean\")\n",
    "CN_edgeenhancement_LAB_euclidean = K_means.K_Means(CN_edgeenhancement_LAB, 2, 30, \"euclidean\")\n",
    "CN_edgeenhancement_YCbCr_euclidean = K_means.K_Means(CN_edgeenhancement_YCbCr, 2, 30, \"euclidean\")\n",
    "\n",
    "YC_edgeenhancement_RGB_euclidean = K_means.K_Means(YC_edgeenhancement_RGB, 2, 30, \"euclidean\")\n",
    "YC_edgeenhancement_HSV_euclidean = K_means.K_Means(YC_edgeenhancement_HSV, 2, 30, \"euclidean\")\n",
    "YC_edgeenhancement_LAB_euclidean = K_means.K_Means(YC_edgeenhancement_LAB, 2, 30, \"euclidean\")\n",
    "YC_edgeenhancement_YCbCr_euclidean = K_means.K_Means(YC_edgeenhancement_YCbCr, 2, 30, \"euclidean\")\n",
    "    #and so on for the other filters\n",
    "\n",
    "#Manhattan\n",
    "    #nofilter\n",
    "CN_nofilter_RGB_manhattan = K_means.K_Means(CN_nofilter_RGB, 2, 30, \"manhattan\")\n",
    "CN_nofilter_HSV_manhattan = K_means.K_Means(CN_nofilter_HSV, 2, 30, \"manhattan\")\n",
    "CN_nofilter_LAB_manhattan = K_means.K_Means(CN_nofilter_LAB, 2, 30, \"manhattan\")\n",
    "CN_nofilter_YCbCr_manhattan = K_means.K_Means(CN_nofilter_YCbCr, 2, 30, \"manhattan\")\n",
    "\n",
    "YC_nofilter_RGB_manhattan = K_means.K_Means(YC_nofilter_RGB, 2, 30, \"manhattan\")\n",
    "YC_nofilter_HSV_manhattan = K_means.K_Means(YC_nofilter_HSV, 2, 30, \"manhattan\")\n",
    "YC_nofilter_LAB_manhattan = K_means.K_Means(YC_nofilter_LAB, 2, 30, \"manhattan\")\n",
    "YC_nofilter_YCbCr_manhattan = K_means.K_Means(YC_nofilter_YCbCr, 2, 30, \"manhattan\")\n",
    "\n",
    "    #edgeenchancement\n",
    "CN_edgeenhancement_RGB_manhattan = K_means.K_Means(CN_edgeenhancement_RGB, 2, 30, \"manhattan\")\n",
    "CN_edgeenhancement_HSV_manhattan = K_means.K_Means(CN_edgeenhancement_HSV, 2, 30, \"manhattan\")\n",
    "CN_edgeenhancement_LAB_manhattan = K_means.K_Means(CN_edgeenhancement_LAB, 2, 30, \"manhattan\")\n",
    "CN_edgeenhancement_YCbCr_manhattan = K_means.K_Means(CN_edgeenhancement_YCbCr, 2, 30, \"manhattan\")\n",
    "\n",
    "YC_edgeenhancement_RGB_manhattan = K_means.K_Means(YC_edgeenhancement_RGB, 2, 30, \"manhattan\")\n",
    "YC_edgeenhancement_HSV_manhattan = K_means.K_Means(YC_edgeenhancement_HSV, 2, 30, \"manhattan\")\n",
    "YC_edgeenhancement_LAB_manhattan = K_means.K_Means(YC_edgeenhancement_LAB, 2, 30, \"manhattan\")\n",
    "YC_edgeenhancement_YCbCr_manhattan = K_means.K_Means(YC_edgeenhancement_YCbCr, 2, 30, \"manhattan\")\n",
    "    #and so on for the other filters\n",
    "\n",
    "#Chebyshnev\n",
    "    #nofilter\n",
    "CN_nofilter_RGB_chebyshnev = K_means.K_Means(CN_nofilter_RGB, 2, 30, \"chebyshnev\")\n",
    "CN_nofilter_HSV_chebyshnev = K_means.K_Means(CN_nofilter_HSV, 2, 30, \"chebyshnev\")\n",
    "CN_nofilter_LAB_chebyshnev = K_means.K_Means(CN_nofilter_LAB, 2, 30, \"chebyshnev\")\n",
    "CN_nofilter_YCbCr_chebyshnev = K_means.K_Means(CN_nofilter_YCbCr, 2, 30, \"chebyshnev\")\n",
    "\n",
    "YC_nofilter_RGB_chebyshnev = K_means.K_Means(YC_nofilter_RGB, 2, 30, \"chebyshnev\")\n",
    "YC_nofilter_HSV_chebyshnev = K_means.K_Means(YC_nofilter_HSV, 2, 30, \"chebyshnev\")\n",
    "YC_nofilter_LAB_chebyshnev = K_means.K_Means(YC_nofilter_LAB, 2, 30, \"chebyshnev\")\n",
    "YC_nofilter_YCbCr_chebyshnev = K_means.K_Means(YC_nofilter_YCbCr, 2, 30, \"chebyshnev\")\n",
    "\n",
    "    #edgeenchancement\n",
    "CN_edgeenhancement_RGB_chebyshnev = K_means.K_Means(CN_edgeenhancement_RGB, 2, 30, \"chebyshnev\")\n",
    "CN_edgeenhancement_HSV_chebyshnev = K_means.K_Means(CN_edgeenhancement_HSV, 2, 30, \"chebyshnev\")\n",
    "CN_edgeenhancement_LAB_chebyshnev = K_means.K_Means(CN_edgeenhancement_LAB, 2, 30, \"chebyshnev\")\n",
    "CN_edgeenhancement_YCbCr_chebyshnev = K_means.K_Means(CN_edgeenhancement_YCbCr, 2, 30, \"chebyshnev\")\n",
    "\n",
    "YC_edgeenhancement_RGB_chebyshnev = K_means.K_Means(YC_edgeenhancement_RGB, 2, 30, \"chebyshnev\")\n",
    "YC_edgeenhancement_HSV_chebyshnev = K_means.K_Means(YC_edgeenhancement_HSV, 2, 30, \"chebyshnev\")\n",
    "YC_edgeenhancement_LAB_chebyshnev = K_means.K_Means(YC_edgeenhancement_LAB, 2, 30, \"chebyshnev\")\n",
    "YC_edgeenhancement_YCbCr_chebyshnev = K_means.K_Means(YC_edgeenhancement_YCbCr, 2, 30, \"chebyshnev\")\n",
    "    #and so on for the other filters"
   ]
  }
 ],
 "metadata": {
  "kernelspec": {
   "display_name": "Python 3.10.4 ('environment')",
   "language": "python",
   "name": "python3"
  },
  "language_info": {
   "codemirror_mode": {
    "name": "ipython",
    "version": 3
   },
   "file_extension": ".py",
   "mimetype": "text/x-python",
   "name": "python",
   "nbconvert_exporter": "python",
   "pygments_lexer": "ipython3",
   "version": "3.10.4"
  },
  "orig_nbformat": 4,
  "vscode": {
   "interpreter": {
    "hash": "5b83ce1c35a2acaa5544e45d923f82fc98e047241fe593f03a382798a2403f36"
   }
  }
 },
 "nbformat": 4,
 "nbformat_minor": 2
}
