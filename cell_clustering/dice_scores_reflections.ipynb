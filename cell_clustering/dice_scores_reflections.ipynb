{
 "cells": [
  {
   "cell_type": "code",
   "execution_count": 1,
   "metadata": {},
   "outputs": [],
   "source": [
    "import dice_score as dc\n",
    "import cv2\n",
    "import K_means\n",
    "from PIL import Image"
   ]
  },
  {
   "cell_type": "code",
   "execution_count": 2,
   "metadata": {},
   "outputs": [],
   "source": [
    "img32 = Image.open(\"../data/grayscale32_removed_bright_spots.jpg\")\n",
    "img42 = Image.open(\"../data/grayscale42_removed_bright_spots.jpg\")\n",
    "img46 = Image.open(\"../data/grayscale46_removed_bright_spots.jpg\")\n",
    "img47 = Image.open(\"../data/grayscale47_removed_bright_spots.jpg\")"
   ]
  },
  {
   "cell_type": "code",
   "execution_count": 7,
   "metadata": {},
   "outputs": [],
   "source": [
    "img32_bs = cv2.imread(\"../cell_clustering/Reflections_Clustering/img32_reflections_removed.png\")\n",
    "img32_gt = cv2.imread(\"../data/NIH3T3/gt/32.png\")\n",
    "\n",
    "img42_bs = cv2.imread(\"../cell_clustering/Reflections_Clustering/img42_reflections_removed.png\")\n",
    "img42_gt = cv2.imread(\"../data/NIH3T3/gt/42.png\")\n",
    "\n",
    "img46_bs = cv2.imread(\"../cell_clustering/Reflections_Clustering/img46_reflections_removed.png\")\n",
    "img46_gt = cv2.imread(\"../data/NIH3T3/gt/46.png\")\n",
    "\n",
    "img47_bs = cv2.imread(\"../cell_clustering/Reflections_Clustering/img47_reflections_removed.png\")\n",
    "img47_gt = cv2.imread(\"../data/NIH3T3/gt/47.png\")\n",
    "\n"
   ]
  },
  {
   "cell_type": "code",
   "execution_count": 9,
   "metadata": {},
   "outputs": [
    {
     "name": "stdout",
     "output_type": "stream",
     "text": [
      "Grayscale Image Clustering\n"
     ]
    }
   ],
   "source": [
    "output42 = K_means.K_Means(img42,2, 10)\n",
    "output42.save(\"../cell_clustering/Reflections_Clustering/img42_reflections_removed.png\")"
   ]
  },
  {
   "cell_type": "code",
   "execution_count": 15,
   "metadata": {},
   "outputs": [
    {
     "name": "stdout",
     "output_type": "stream",
     "text": [
      "Grayscale Image Clustering\n"
     ]
    }
   ],
   "source": [
    "output32 = K_means.K_Means(img32,2, 10)\n",
    "output32.save(\"../cell_clustering/Reflections_Clustering/img32_reflections_removed.png\")"
   ]
  },
  {
   "cell_type": "code",
   "execution_count": 16,
   "metadata": {},
   "outputs": [
    {
     "name": "stdout",
     "output_type": "stream",
     "text": [
      "Grayscale Image Clustering\n"
     ]
    }
   ],
   "source": [
    "output46 = K_means.K_Means(img46,2, 10)\n",
    "output46.save(\"../cell_clustering/Reflections_Clustering/img46_reflections_removed.png\")"
   ]
  },
  {
   "cell_type": "code",
   "execution_count": 4,
   "metadata": {},
   "outputs": [
    {
     "name": "stdout",
     "output_type": "stream",
     "text": [
      "Grayscale Image Clustering\n"
     ]
    }
   ],
   "source": [
    "output47 = K_means.K_Means(img47,2, 10)\n",
    "output47.save(\"../cell_clustering/Reflections_Clustering/img47_reflections_removed.png\")"
   ]
  },
  {
   "cell_type": "code",
   "execution_count": 10,
   "metadata": {},
   "outputs": [
    {
     "name": "stdout",
     "output_type": "stream",
     "text": [
      "Dice similarity score is 0.6319353468258981\n",
      "Dice similarity score is 0.4190362620485571\n",
      "Dice similarity score is 0.6322432856550206\n",
      "Dice similarity score is 0.7658440389259635\n"
     ]
    }
   ],
   "source": [
    "dc.dice_foreground(img32_gt, img32_bs)\n",
    "\n",
    "dc.dice_foreground(img42_gt, img42_bs)\n",
    "\n",
    "dc.dice_foreground(img46_gt, img46_bs)\n",
    "\n",
    "dc.dice_foreground(img47_gt, img47_bs)"
   ]
  }
 ],
 "metadata": {
  "kernelspec": {
   "display_name": "Python 3.9.12 ('environment')",
   "language": "python",
   "name": "python3"
  },
  "language_info": {
   "codemirror_mode": {
    "name": "ipython",
    "version": 3
   },
   "file_extension": ".py",
   "mimetype": "text/x-python",
   "name": "python",
   "nbconvert_exporter": "python",
   "pygments_lexer": "ipython3",
   "version": "3.9.12"
  },
  "orig_nbformat": 4,
  "vscode": {
   "interpreter": {
    "hash": "9e1a7d2f88ef582704e45252eb30b63eae9d2c037b334948b0bda2fc4648bf73"
   }
  }
 },
 "nbformat": 4,
 "nbformat_minor": 2
}
