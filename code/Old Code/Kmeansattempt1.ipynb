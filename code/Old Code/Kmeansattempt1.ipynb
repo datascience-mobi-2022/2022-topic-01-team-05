{
 "cells": [
  {
   "cell_type": "code",
   "execution_count": 1,
   "metadata": {},
   "outputs": [
    {
     "name": "stdout",
     "output_type": "stream",
     "text": [
      "Using matplotlib backend: <object object at 0x0000024D70F95600>\n",
      "%pylab is deprecated, use %matplotlib inline and import the required libraries.\n",
      "Populating the interactive namespace from numpy and matplotlib\n"
     ]
    }
   ],
   "source": [
    "%pylab\n",
    "%matplotlib inline"
   ]
  },
  {
   "cell_type": "code",
   "execution_count": 2,
   "metadata": {},
   "outputs": [],
   "source": [
    "import numpy \n",
    "import math\n",
    "import random\n",
    "import operator\n",
    "from PIL import Image\n",
    "import pandas as pd"
   ]
  },
  {
   "cell_type": "markdown",
   "metadata": {},
   "source": [
    "All necessary functions from kmeans_from_scratch.ipynb"
   ]
  },
  {
   "cell_type": "code",
   "execution_count": 3,
   "metadata": {},
   "outputs": [],
   "source": [
    "# Distance calculation\n",
    "\n",
    "def calculate_distance(a,b):\n",
    "\n",
    "    a = numpy.array(a)\n",
    "    b = numpy.array(b)\n",
    "    distance_vector = a - b\n",
    "    distance = numpy.sqrt(sum(distance_vector**2))\n",
    "    return distance\n",
    "\n",
    "\n",
    "# Initiating k centroids\n",
    "\n",
    "def initiate_centroids(k):\n",
    "    centroids = ([(random.randrange(0, 255), random.randrange(0,255), random.randrange(0, 255)) for i in range(k)])\n",
    "    return centroids\n",
    "\n",
    "# alternate initiation\n",
    "\n",
    "\n",
    "\n",
    "\n",
    "# List of closest centroids\n",
    "\n",
    "def findClosestCentroids(centroids, image):\n",
    "    \n",
    "    imagePixels = list(image.getdata())\n",
    "    assigned_centroid = []\n",
    "    for p in imagePixels:\n",
    "        distance = []\n",
    "        for c in centroids:\n",
    "            distance.append(calculate_distance(c, p))\n",
    "        assigned_centroid.append(numpy.argmin(distance))\n",
    "    return assigned_centroid\n",
    "\n",
    "\n",
    "# Transforming the assignment list into a responsibility list\n",
    "\n",
    "def assignment_to_responsbility(assigned_centroids):\n",
    "    \n",
    "    matrix = list()\n",
    "    xm = max(assigned_centroids)+1\n",
    "\n",
    "    for i in range(len(assigned_centroids)):\n",
    "        a = [0]*xm  #creating a list filled xm with zeroes\n",
    "        a[assigned_centroids[i]] = 1\n",
    "        matrix.append(a)\n",
    "    return matrix # matrix of responsibilities for each cluster and pixel\n",
    "\n",
    "\n",
    "# Calculating the means of the clusters and creating a new list of clusters\n",
    "\n",
    "\n",
    "def clustermeans(responsibility_list, image):\n",
    "\n",
    "    resmat = numpy.array(responsibility_list) # converting the assigned centroids into an array for calculation\n",
    "    Pixelarray = numpy.array(list(image.getdata())) # converting the Pixels into an array for calculation\n",
    "    clusters = len(resmat[0]) # the amount of clusters\n",
    "    dimensions = len(Pixelarray[1]) # the amount of dimensions of every pixel\n",
    "    new_centroids = []\n",
    "    for k in range(clusters): # Iterating over all clusters\n",
    "        a = []\n",
    "        for d in range(dimensions): # Iterating over all dimensions (R, G, B)\n",
    "            dimensionaverage = numpy.mean(resmat[:,k]*Pixelarray[:,d]) # mean of R, G, or B of all the pixels assigned to cluster k\n",
    "            a.append(dimensionaverage)\n",
    "        new_centroids.append(a)\n",
    "    return new_centroids"
   ]
  },
  {
   "cell_type": "markdown",
   "metadata": {},
   "source": [
    "K Means Algorithm using defined functions"
   ]
  },
  {
   "cell_type": "code",
   "execution_count": 4,
   "metadata": {},
   "outputs": [],
   "source": [
    "def k_means(image, K, max):\n",
    "    \n",
    "    centroids = initiate_centroids(K)\n",
    "\n",
    "    new_centroids = []\n",
    "    \n",
    "    i = 1\n",
    "\n",
    "    while i < max:  # Maximum of 6 iterations\n",
    "\n",
    "        assignment_list = findClosestCentroids(centroids, image)\n",
    "\n",
    "        responsibility_list = assignment_to_responsbility(assignment_list) \n",
    "\n",
    "        new_centroids = clustermeans(responsibility_list, image) # New Centroids\n",
    "\n",
    "        if new_centroids == centroids:  # End algortihm, if centroids don't change\n",
    "            break\n",
    "        i += 1\n",
    "\n",
    "    final_assignment = assignment_list\n",
    "\n",
    "    rgb_array = numpy.array([[255,255,255]]*len(final_assignment))\n",
    "    for i in range(3):\n",
    "        rgb_array[:,i] = rgb_array[:,i]*final_assignment\n",
    "    rgb_array\n",
    "    rgb_list = []\n",
    "    for i in range(len(rgb_array)):\n",
    "        rgb_list.append(tuple(rgb_array[i]))\n",
    "\n",
    "    image_out = Image.new(image.mode,image.size)\n",
    "    image_out.putdata(rgb_list)\n",
    "    image_out\n",
    "\n",
    "    return image_out  # Assignment list can be used to create picture\n"
   ]
  },
  {
   "cell_type": "code",
   "execution_count": 5,
   "metadata": {},
   "outputs": [],
   "source": [
    "image = Image.open(\"../data/Cell_Nuclei_cut.jpg\",'r')\n",
    "width, height=image.size"
   ]
  },
  {
   "cell_type": "code",
   "execution_count": 6,
   "metadata": {},
   "outputs": [
    {
     "data": {
      "image/png": "[encoded data removed]",
      "text/plain": [
       "<PIL.Image.Image image mode=RGB size=322x240>"
      ]
     },
     "execution_count": 6,
     "metadata": {},
     "output_type": "execute_result"
    }
   ],
   "source": [
    "k_means(image,2, 100) # extremly inconsistent"
   ]
  }
 ],
 "metadata": {
  "interpreter": {
   "hash": "9e1a7d2f88ef582704e45252eb30b63eae9d2c037b334948b0bda2fc4648bf73"
  },
  "kernelspec": {
   "display_name": "Python 3.9.12 ('environment')",
   "language": "python",
   "name": "python3"
  },
  "language_info": {
   "codemirror_mode": {
    "name": "ipython",
    "version": 3
   },
   "file_extension": ".py",
   "mimetype": "text/x-python",
   "name": "python",
   "nbconvert_exporter": "python",
   "pygments_lexer": "ipython3",
   "version": "3.9.12"
  },
  "orig_nbformat": 4
 },
 "nbformat": 4,
 "nbformat_minor": 2
}
