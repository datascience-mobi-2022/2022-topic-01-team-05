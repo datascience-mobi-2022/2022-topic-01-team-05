{
 "cells": [
  {
   "cell_type": "markdown",
   "metadata": {},
   "source": [
    "K Means Optimisation\n"
   ]
  },
  {
   "cell_type": "code",
   "execution_count": 122,
   "metadata": {},
   "outputs": [
    {
     "name": "stdout",
     "output_type": "stream",
     "text": [
      "Using matplotlib backend: QtAgg\n",
      "%pylab is deprecated, use %matplotlib inline and import the required libraries.\n",
      "Populating the interactive namespace from numpy and matplotlib\n"
     ]
    },
    {
     "name": "stderr",
     "output_type": "stream",
     "text": [
      "c:\\Users\\emi28\\anaconda3\\envs\\environment\\lib\\site-packages\\IPython\\core\\magics\\pylab.py:162: UserWarning: pylab import has clobbered these variables: ['random']\n",
      "`%matplotlib` prevents importing * from pylab and numpy\n",
      "  warn(\"pylab import has clobbered these variables: %s\"  % clobbered +\n"
     ]
    }
   ],
   "source": [
    "%pylab\n",
    "%matplotlib inline"
   ]
  },
  {
   "cell_type": "code",
   "execution_count": 39,
   "metadata": {},
   "outputs": [
    {
     "name": "stdout",
     "output_type": "stream",
     "text": [
      "Requirement already satisfied: scikit-learn in c:\\users\\emi28\\anaconda3\\envs\\environment\\lib\\site-packages (1.1.1)\n",
      "Requirement already satisfied: numpy>=1.17.3 in c:\\users\\emi28\\anaconda3\\envs\\environment\\lib\\site-packages (from scikit-learn) (1.21.5)\n",
      "Requirement already satisfied: scipy>=1.3.2 in c:\\users\\emi28\\anaconda3\\envs\\environment\\lib\\site-packages (from scikit-learn) (1.8.0)\n",
      "Requirement already satisfied: threadpoolctl>=2.0.0 in c:\\users\\emi28\\anaconda3\\envs\\environment\\lib\\site-packages (from scikit-learn) (3.1.0)\n",
      "Requirement already satisfied: joblib>=1.0.0 in c:\\users\\emi28\\anaconda3\\envs\\environment\\lib\\site-packages (from scikit-learn) (1.1.0)\n",
      "Note: you may need to restart the kernel to use updated packages.\n"
     ]
    }
   ],
   "source": [
    "pip install -U scikit-learn"
   ]
  },
  {
   "cell_type": "code",
   "execution_count": 123,
   "metadata": {},
   "outputs": [],
   "source": [
    "import numpy\n",
    "import math\n",
    "import random\n",
    "import operator\n",
    "from PIL import Image"
   ]
  },
  {
   "cell_type": "code",
   "execution_count": 108,
   "metadata": {},
   "outputs": [],
   "source": [
    "def normalize(data):\n",
    "    xmin = min(min(data)) \n",
    "    xmax = max(max(data))\n",
    "    for i in range(len(data)):\n",
    "        sublist = data[i]\n",
    "        for p in range(len(sublist)):\n",
    "            data[i][p] = (sublist[p]-xmin) / (xmax-xmin)\n",
    "    return data"
   ]
  },
  {
   "cell_type": "code",
   "execution_count": 104,
   "metadata": {},
   "outputs": [],
   "source": [
    "def getPositions(img):\n",
    "    width, height = img.size\n",
    "    i = 0\n",
    "    j = 0\n",
    "    positions = []\n",
    "    for i in range(width):\n",
    "        for j in range(height):\n",
    "            list_positions = []\n",
    "            coordinate = i, j\n",
    "            list_positions.append(i)\n",
    "            list_positions.append(j)\n",
    "            for p in range(len(img.getpixel(coordinate))):\n",
    "                list_positions.append(img.getpixel(coordinate)[p])\n",
    "            positions.append(list_positions)\n",
    "    return positions"
   ]
  },
  {
   "cell_type": "code",
   "execution_count": 117,
   "metadata": {},
   "outputs": [],
   "source": [
    "\n",
    "def calculate_distance(a,b):\n",
    "\n",
    "    a = numpy.array(a)\n",
    "    b = numpy.array(b)\n",
    "    distance_vector = a - b\n",
    "    distance = numpy.sqrt(sum(distance_vector**2))\n",
    "    return distance\n",
    "\n",
    "def calculate_distance2(a,b):\n",
    "\n",
    "    a_positions = numpy.array(a[0])\n",
    "    b_positions = numpy.array(b[0])\n",
    "    a_rgb = numpy.array(a[1])\n",
    "    b_rgb = numpy.array(b[1])\n",
    "    distance_vector_positions = a_positions - b_positions\n",
    "    distance_vector_rgb = a_rgb - b_rgb\n",
    "    distance_vector = numpy.concatenate([distance_vector_positions, distance_vector_rgb])\n",
    "    distance = numpy.sqrt(sum(distance_vector**2))\n",
    "    return distance\n",
    "\n",
    "def initiate_centroids(K,image):\n",
    "    imagePixels = normalize(getPositions(image))\n",
    "    initial_centers = []\n",
    "    for x in range(K):\n",
    "        initial_centers.append(imagePixels[random.randint(0,len(imagePixels)-1)])\n",
    "    return initial_centers\n",
    "\n",
    "def findClosestCentroids(centroids, image):\n",
    "    \n",
    "    imagePixels = normalize(getPositions(image))\n",
    "    assigned_centroid = []\n",
    "    for p in imagePixels:\n",
    "        distance = []\n",
    "        for c in centroids:\n",
    "            distance.append(calculate_distance(c, p))\n",
    "        assigned_centroid.append(numpy.argmin(distance))\n",
    "    return assigned_centroid"
   ]
  },
  {
   "cell_type": "code",
   "execution_count": null,
   "metadata": {},
   "outputs": [],
   "source": [
    "def getPositions2(img):\n",
    "    width, height = img.size\n",
    "    i = 0\n",
    "    j = 0\n",
    "    positions = []\n",
    "    for i in range(width):\n",
    "        for j in range(height):\n",
    "            coordinate = i, j\n",
    "            positions.append([i, j, img.getpixel(coordinate)])\n",
    "    return positions"
   ]
  },
  {
   "cell_type": "markdown",
   "metadata": {},
   "source": [
    "Unify centroid list and responsibility / only create responsibility matrix in the format  x*k*d (x = number of pixels, k = number of centroids, d = dimensions) as numpy array or list"
   ]
  },
  {
   "cell_type": "code",
   "execution_count": 134,
   "metadata": {},
   "outputs": [],
   "source": [
    "def responsibility(centroids, image):\n",
    "    imagePixels = normalize(getPositions(image))\n",
    "\n",
    "    x = len(imagePixels)\n",
    "\n",
    "    k = len(centroids)\n",
    "\n",
    "    d = len(centroids[0])\n",
    "\n",
    "    matrix = numpy.zeros((x,k,d))\n",
    "\n",
    "    for p in range(x):\n",
    "\n",
    "        distance = []\n",
    "\n",
    "        for c in centroids:\n",
    "\n",
    "            distance.append(calculate_distance(imagePixels[p], c))\n",
    "        \n",
    "        matrix[p,numpy.argmin(distance)] = [1,1,1,1,1]\n",
    "    return matrix\n",
    "        \n"
   ]
  },
  {
   "cell_type": "markdown",
   "metadata": {},
   "source": [
    "Cluster means using the new responsibility matrix"
   ]
  },
  {
   "cell_type": "code",
   "execution_count": 126,
   "metadata": {},
   "outputs": [],
   "source": [
    "def clustermeans(responsibility, image):\n",
    "\n",
    "    Pixelarray = numpy.array(normalize(getPositions(image)))\n",
    "\n",
    "    clusters = len(responsibility[1])\n",
    "    \n",
    "    new_centroids = []\n",
    "\n",
    "    for k in range(clusters):\n",
    "        new_centroids.append([numpy.average(responsibility[:,k] * Pixelarray, axis = 0)])\n",
    "    return new_centroids"
   ]
  },
  {
   "cell_type": "markdown",
   "metadata": {},
   "source": [
    "K Means V2"
   ]
  },
  {
   "cell_type": "code",
   "execution_count": 120,
   "metadata": {},
   "outputs": [],
   "source": [
    "def k_means2(image, K, iterations):\n",
    "    \n",
    "    centroids = initiate_centroids(K, image)\n",
    "\n",
    "    new_centroids = []\n",
    "    \n",
    "    i = 0\n",
    "\n",
    "    while i < iterations:  # Maximum of 6 iterations\n",
    "\n",
    "        resmat = responsibility(centroids,image) \n",
    "\n",
    "        new_centroids = clustermeans(resmat, image) # New Centroids\n",
    "\n",
    "        if new_centroids == centroids:  # End algortihm, if centroids don't change\n",
    "            break\n",
    "        \n",
    "        centroids = new_centroids\n",
    "\n",
    "        i += 1\n",
    "        \n",
    "    final_assignment = findClosestCentroids(centroids, image)\n",
    "\n",
    "\n",
    "\n",
    "    rgb_array = numpy.array([[255,255,255]]*len(final_assignment))\n",
    "    for i in range(3):\n",
    "        rgb_array[:,i] = rgb_array[:,i]*final_assignment/max(final_assignment)\n",
    "    rgb_array\n",
    "    rgb_list = []\n",
    "    for i in range(len(rgb_array)):\n",
    "        rgb_list.append(tuple(rgb_array[i]))\n",
    "    image_out = Image.new(image.mode,image.size)\n",
    "    image_out.putdata(rgb_list)\n",
    "    image_out\n",
    "\n",
    "    return image_out  # Assignment list can be used to create picture\n"
   ]
  },
  {
   "cell_type": "code",
   "execution_count": 136,
   "metadata": {},
   "outputs": [
    {
     "ename": "ValueError",
     "evalue": "could not broadcast input array from shape (5,) into shape (1,)",
     "output_type": "error",
     "traceback": [
      "\u001b[1;31m---------------------------------------------------------------------------\u001b[0m",
      "\u001b[1;31mValueError\u001b[0m                                Traceback (most recent call last)",
      "\u001b[1;32mc:\\Users\\emi28\\OneDrive\\Desktop\\Uni4real\\Semester 4\\Bioinformatik\\GitHub\\2022-topic-01-team-05\\code\\K-Means optimisation_position.ipynb Cell 15'\u001b[0m in \u001b[0;36m<cell line: 4>\u001b[1;34m()\u001b[0m\n\u001b[0;32m      <a href='vscode-notebook-cell:/c%3A/Users/emi28/OneDrive/Desktop/Uni4real/Semester%204/Bioinformatik/GitHub/2022-topic-01-team-05/code/K-Means%20optimisation_position.ipynb#ch0000015?line=0'>1</a>\u001b[0m image \u001b[39m=\u001b[39m Image\u001b[39m.\u001b[39mopen(\u001b[39m\"\u001b[39m\u001b[39m../data/Yeast_Cells.jpg\u001b[39m\u001b[39m\"\u001b[39m,\u001b[39m'\u001b[39m\u001b[39mr\u001b[39m\u001b[39m'\u001b[39m)\n\u001b[1;32m----> <a href='vscode-notebook-cell:/c%3A/Users/emi28/OneDrive/Desktop/Uni4real/Semester%204/Bioinformatik/GitHub/2022-topic-01-team-05/code/K-Means%20optimisation_position.ipynb#ch0000015?line=3'>4</a>\u001b[0m segmented_image \u001b[39m=\u001b[39m k_means2(image, \u001b[39m2\u001b[39;49m, \u001b[39m5\u001b[39;49m)\n\u001b[0;32m      <a href='vscode-notebook-cell:/c%3A/Users/emi28/OneDrive/Desktop/Uni4real/Semester%204/Bioinformatik/GitHub/2022-topic-01-team-05/code/K-Means%20optimisation_position.ipynb#ch0000015?line=4'>5</a>\u001b[0m segmented_image\u001b[39m.\u001b[39msave(\u001b[39m'\u001b[39m\u001b[39m../data/test_out2.png\u001b[39m\u001b[39m'\u001b[39m)\n\u001b[0;32m      <a href='vscode-notebook-cell:/c%3A/Users/emi28/OneDrive/Desktop/Uni4real/Semester%204/Bioinformatik/GitHub/2022-topic-01-team-05/code/K-Means%20optimisation_position.ipynb#ch0000015?line=5'>6</a>\u001b[0m segmented_image\n",
      "\u001b[1;32mc:\\Users\\emi28\\OneDrive\\Desktop\\Uni4real\\Semester 4\\Bioinformatik\\GitHub\\2022-topic-01-team-05\\code\\K-Means optimisation_position.ipynb Cell 14'\u001b[0m in \u001b[0;36mk_means2\u001b[1;34m(image, K, iterations)\u001b[0m\n\u001b[0;32m      <a href='vscode-notebook-cell:/c%3A/Users/emi28/OneDrive/Desktop/Uni4real/Semester%204/Bioinformatik/GitHub/2022-topic-01-team-05/code/K-Means%20optimisation_position.ipynb#ch0000014?line=6'>7</a>\u001b[0m i \u001b[39m=\u001b[39m \u001b[39m0\u001b[39m\n\u001b[0;32m      <a href='vscode-notebook-cell:/c%3A/Users/emi28/OneDrive/Desktop/Uni4real/Semester%204/Bioinformatik/GitHub/2022-topic-01-team-05/code/K-Means%20optimisation_position.ipynb#ch0000014?line=8'>9</a>\u001b[0m \u001b[39mwhile\u001b[39;00m i \u001b[39m<\u001b[39m iterations:  \u001b[39m# Maximum of 6 iterations\u001b[39;00m\n\u001b[1;32m---> <a href='vscode-notebook-cell:/c%3A/Users/emi28/OneDrive/Desktop/Uni4real/Semester%204/Bioinformatik/GitHub/2022-topic-01-team-05/code/K-Means%20optimisation_position.ipynb#ch0000014?line=10'>11</a>\u001b[0m     resmat \u001b[39m=\u001b[39m responsibility(centroids,image) \n\u001b[0;32m     <a href='vscode-notebook-cell:/c%3A/Users/emi28/OneDrive/Desktop/Uni4real/Semester%204/Bioinformatik/GitHub/2022-topic-01-team-05/code/K-Means%20optimisation_position.ipynb#ch0000014?line=12'>13</a>\u001b[0m     new_centroids \u001b[39m=\u001b[39m clustermeans(resmat, image) \u001b[39m# New Centroids\u001b[39;00m\n\u001b[0;32m     <a href='vscode-notebook-cell:/c%3A/Users/emi28/OneDrive/Desktop/Uni4real/Semester%204/Bioinformatik/GitHub/2022-topic-01-team-05/code/K-Means%20optimisation_position.ipynb#ch0000014?line=14'>15</a>\u001b[0m     \u001b[39mif\u001b[39;00m new_centroids \u001b[39m==\u001b[39m centroids:  \u001b[39m# End algortihm, if centroids don't change\u001b[39;00m\n",
      "\u001b[1;32mc:\\Users\\emi28\\OneDrive\\Desktop\\Uni4real\\Semester 4\\Bioinformatik\\GitHub\\2022-topic-01-team-05\\code\\K-Means optimisation_position.ipynb Cell 10'\u001b[0m in \u001b[0;36mresponsibility\u001b[1;34m(centroids, image)\u001b[0m\n\u001b[0;32m     <a href='vscode-notebook-cell:/c%3A/Users/emi28/OneDrive/Desktop/Uni4real/Semester%204/Bioinformatik/GitHub/2022-topic-01-team-05/code/K-Means%20optimisation_position.ipynb#ch0000010?line=15'>16</a>\u001b[0m     \u001b[39mfor\u001b[39;00m c \u001b[39min\u001b[39;00m centroids:\n\u001b[0;32m     <a href='vscode-notebook-cell:/c%3A/Users/emi28/OneDrive/Desktop/Uni4real/Semester%204/Bioinformatik/GitHub/2022-topic-01-team-05/code/K-Means%20optimisation_position.ipynb#ch0000010?line=17'>18</a>\u001b[0m         distance\u001b[39m.\u001b[39mappend(calculate_distance(imagePixels[p], c))\n\u001b[1;32m---> <a href='vscode-notebook-cell:/c%3A/Users/emi28/OneDrive/Desktop/Uni4real/Semester%204/Bioinformatik/GitHub/2022-topic-01-team-05/code/K-Means%20optimisation_position.ipynb#ch0000010?line=19'>20</a>\u001b[0m     matrix[p,numpy\u001b[39m.\u001b[39margmin(distance)] \u001b[39m=\u001b[39m [\u001b[39m1\u001b[39m,\u001b[39m1\u001b[39m,\u001b[39m1\u001b[39m,\u001b[39m1\u001b[39m,\u001b[39m1\u001b[39m]\n\u001b[0;32m     <a href='vscode-notebook-cell:/c%3A/Users/emi28/OneDrive/Desktop/Uni4real/Semester%204/Bioinformatik/GitHub/2022-topic-01-team-05/code/K-Means%20optimisation_position.ipynb#ch0000010?line=20'>21</a>\u001b[0m \u001b[39mreturn\u001b[39;00m matrix\n",
      "\u001b[1;31mValueError\u001b[0m: could not broadcast input array from shape (5,) into shape (1,)"
     ]
    }
   ],
   "source": [
    "image = Image.open(\"../data/Yeast_Cells.jpg\",'r')\n",
    "\n",
    "\n",
    "segmented_image = k_means2(image, 2, 5)\n",
    "segmented_image.save('../data/test_out2.png')\n",
    "segmented_image # still somewhat inconsistent"
   ]
  }
 ],
 "metadata": {
  "interpreter": {
   "hash": "9e1a7d2f88ef582704e45252eb30b63eae9d2c037b334948b0bda2fc4648bf73"
  },
  "kernelspec": {
   "display_name": "Python 3.9.12 ('environment')",
   "language": "python",
   "name": "python3"
  },
  "language_info": {
   "codemirror_mode": {
    "name": "ipython",
    "version": 3
   },
   "file_extension": ".py",
   "mimetype": "text/x-python",
   "name": "python",
   "nbconvert_exporter": "python",
   "pygments_lexer": "ipython3",
   "version": "3.9.12"
  },
  "orig_nbformat": 4
 },
 "nbformat": 4,
 "nbformat_minor": 2
}
