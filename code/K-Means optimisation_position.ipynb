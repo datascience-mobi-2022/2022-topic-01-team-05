{
 "cells": [
  {
   "cell_type": "markdown",
   "metadata": {},
   "source": [
    "K Means Optimisation\n"
   ]
  },
  {
   "cell_type": "code",
   "execution_count": 62,
   "metadata": {},
   "outputs": [
    {
     "name": "stdout",
     "output_type": "stream",
     "text": [
      "Using matplotlib backend: QtAgg\n",
      "%pylab is deprecated, use %matplotlib inline and import the required libraries.\n",
      "Populating the interactive namespace from numpy and matplotlib\n"
     ]
    },
    {
     "name": "stderr",
     "output_type": "stream",
     "text": [
      "c:\\Users\\Cedric\\anaconda3\\envs\\environment\\lib\\site-packages\\IPython\\core\\magics\\pylab.py:162: UserWarning: pylab import has clobbered these variables: ['random']\n",
      "`%matplotlib` prevents importing * from pylab and numpy\n",
      "  warn(\"pylab import has clobbered these variables: %s\"  % clobbered +\n"
     ]
    }
   ],
   "source": [
    "%pylab\n",
    "%matplotlib inline"
   ]
  },
  {
   "cell_type": "code",
   "execution_count": 63,
   "metadata": {},
   "outputs": [],
   "source": [
    "import numpy\n",
    "import math\n",
    "import random\n",
    "import operator\n",
    "from PIL import Image"
   ]
  },
  {
   "cell_type": "code",
   "execution_count": 64,
   "metadata": {},
   "outputs": [],
   "source": [
    "def normalize(data):\n",
    "    xmin = min(min(data)) \n",
    "    xmax = max(max(data))\n",
    "    for i in range(len(data)):\n",
    "        sublist = data[i]\n",
    "        sublist[0] = sublist[0]*0.1\n",
    "        sublist[1] = sublist[1]*0.1\n",
    "        for p in range(len(sublist)):\n",
    "            data[i][p] = (sublist[p]-xmin) / (xmax-xmin)\n",
    "    return data"
   ]
  },
  {
   "cell_type": "code",
   "execution_count": 65,
   "metadata": {},
   "outputs": [],
   "source": [
    "def getPositions(img):\n",
    "    width, height = img.size\n",
    "    i = 0\n",
    "    j = 0\n",
    "    positions = []\n",
    "    for i in range(height):\n",
    "        for j in range(width):\n",
    "            list_positions = []\n",
    "            coordinate = i, j\n",
    "            list_positions.append(i)\n",
    "            list_positions.append(j)\n",
    "            for p in range(len(img.getpixel(coordinate))):\n",
    "                list_positions.append(img.getpixel(coordinate)[p])\n",
    "            positions.append(list_positions)\n",
    "    return positions"
   ]
  },
  {
   "cell_type": "code",
   "execution_count": 66,
   "metadata": {},
   "outputs": [],
   "source": [
    "\n",
    "def calculate_distance(a,b):\n",
    "\n",
    "    a = numpy.array(a)\n",
    "    b = numpy.array(b)\n",
    "    distance_vector = a - b\n",
    "    distance = numpy.sqrt(sum(distance_vector**2))\n",
    "    return distance\n",
    "\n",
    "def calculate_distance2(a,b):\n",
    "\n",
    "    a_positions = numpy.array(a[0])\n",
    "    b_positions = numpy.array(b[0])\n",
    "    a_rgb = numpy.array(a[1])\n",
    "    b_rgb = numpy.array(b[1])\n",
    "    distance_vector_positions = a_positions - b_positions\n",
    "    distance_vector_rgb = a_rgb - b_rgb\n",
    "    distance_vector = numpy.concatenate([distance_vector_positions, distance_vector_rgb])\n",
    "    distance = numpy.sqrt(sum(distance_vector**2))\n",
    "    return distance\n",
    "\n",
    "def initiate_centroids(K,image):\n",
    "    imagePixels = normalize(getPositions(image))\n",
    "    initial_centers = list()\n",
    "    for x in range(K):\n",
    "        initial_centers.append(imagePixels[random.randint(0,len(imagePixels)-1)])\n",
    "    return initial_centers\n",
    "\n",
    "def findClosestCentroids(centroids, image):\n",
    "        \n",
    "    imagePixels = normalize(getPositions(image))\n",
    "    assigned_centroid = []\n",
    "    for p in imagePixels:\n",
    "        distance = []\n",
    "        for c in centroids:\n",
    "            distance.append(calculate_distance(c, p))\n",
    "        assigned_centroid.append(numpy.argmin(distance))\n",
    "    return assigned_centroid"
   ]
  },
  {
   "cell_type": "code",
   "execution_count": 67,
   "metadata": {},
   "outputs": [],
   "source": [
    "def getPositions2(img):\n",
    "    height, width = img.size\n",
    "    i = 0\n",
    "    j = 0\n",
    "    positions = []\n",
    "    for i in range(width):\n",
    "        for j in range(height):\n",
    "            coordinate = i, j\n",
    "            positions.append([i, j, img.getpixel(coordinate)])\n",
    "    return positions"
   ]
  },
  {
   "cell_type": "markdown",
   "metadata": {},
   "source": [
    "Unify centroid list and responsibility / only create responsibility matrix in the format  x*k*d (x = number of pixels, k = number of centroids, d = dimensions) as numpy array or list"
   ]
  },
  {
   "cell_type": "code",
   "execution_count": 68,
   "metadata": {},
   "outputs": [],
   "source": [
    "def responsibility(centroids, image):\n",
    "    imagePixels = normalize(getPositions(image))\n",
    "\n",
    "    x = len(imagePixels)\n",
    "\n",
    "    k = len(centroids)\n",
    "\n",
    "    d = len(centroids[0])\n",
    "\n",
    "    matrix = numpy.zeros((x,k,d))\n",
    "\n",
    "    for p in range(x):\n",
    "\n",
    "        distance = []\n",
    "\n",
    "        for c in centroids:\n",
    "\n",
    "            distance.append(calculate_distance(imagePixels[p], c))\n",
    "        \n",
    "        matrix[p,numpy.argmin(distance)] = [1]*d\n",
    "    return matrix\n",
    "        \n"
   ]
  },
  {
   "cell_type": "markdown",
   "metadata": {},
   "source": [
    "Cluster means using the new responsibility matrix"
   ]
  },
  {
   "cell_type": "code",
   "execution_count": 69,
   "metadata": {},
   "outputs": [],
   "source": [
    "def clustermeans(responsibility, image):\n",
    "\n",
    "    Pixelarray = numpy.array(normalize(getPositions(image)))\n",
    "\n",
    "    clusters = len(responsibility[1])\n",
    "    \n",
    "    new_centroids = []\n",
    "\n",
    "    for k in range(clusters):\n",
    "        new_centroids.append(list(sum(responsibility[:,k] * Pixelarray, axis = 0)/sum(responsibility[:,k,0])))\n",
    "    return new_centroids"
   ]
  },
  {
   "cell_type": "markdown",
   "metadata": {},
   "source": [
    "K Means V2"
   ]
  },
  {
   "cell_type": "code",
   "execution_count": 70,
   "metadata": {},
   "outputs": [],
   "source": [
    "def k_means2(image, K, iterations):\n",
    "    \n",
    "    centroids = initiate_centroids(K, image)\n",
    "\n",
    "    new_centroids = []\n",
    "    \n",
    "    i = 0\n",
    "\n",
    "    while i < iterations:  # Maximum of 6 iterations\n",
    "\n",
    "        resmat = responsibility(centroids,image) \n",
    "\n",
    "        new_centroids = clustermeans(resmat, image) # New Centroids\n",
    "\n",
    "        if new_centroids == centroids:  # End algortihm, if centroids don't change\n",
    "            break\n",
    "        \n",
    "        centroids = new_centroids\n",
    "\n",
    "        i += 1\n",
    "        \n",
    "    final_assignment = findClosestCentroids(centroids, image)\n",
    "\n",
    "\n",
    "\n",
    "    rgb_array = numpy.array([[255,255,255]]*len(final_assignment))\n",
    "    for i in range(3):\n",
    "        rgb_array[:,i] = rgb_array[:,i]*final_assignment/max(final_assignment)\n",
    "    rgb_array\n",
    "    rgb_list = []\n",
    "    for i in range(len(rgb_array)):\n",
    "        rgb_list.append(tuple(rgb_array[i]))\n",
    "    image_out = Image.new(\"RGB\",image.size)\n",
    "    image_out.putdata(rgb_list)\n",
    "    image_out\n",
    "\n",
    "    return image_out  # Assignment list can be used to create picture\n"
   ]
  },
  {
   "cell_type": "code",
   "execution_count": 72,
   "metadata": {},
   "outputs": [
    {
     "data": {
      "image/png": "[encoded data removed]",
      "text/plain": [
       "<PIL.Image.Image image mode=RGB size=1200x1200 at 0x1EBCF16E740>"
      ]
     },
     "execution_count": 72,
     "metadata": {},
     "output_type": "execute_result"
    }
   ],
   "source": [
    "image = Image.open(\"../data/Yeast_Cells.jpg\",'r')\n",
    "\n",
    "\n",
    "segmented_image = k_means2(image, 2, 2)\n",
    "segmented_image.save('../data/test_out2.png')\n",
    "segmented_image # still somewhat inconsistent"
   ]
  }
 ],
 "metadata": {
  "kernelspec": {
   "display_name": "Python 3.10.4 ('environment')",
   "language": "python",
   "name": "python3"
  },
  "language_info": {
   "codemirror_mode": {
    "name": "ipython",
    "version": 3
   },
   "file_extension": ".py",
   "mimetype": "text/x-python",
   "name": "python",
   "nbconvert_exporter": "python",
   "pygments_lexer": "ipython3",
   "version": "3.10.4"
  },
  "orig_nbformat": 4,
  "vscode": {
   "interpreter": {
    "hash": "54b7fcf1bb44cc75fc95c5b2a09216d96d24708150346c5f6bdce168163bfc85"
   }
  }
 },
 "nbformat": 4,
 "nbformat_minor": 2
}
