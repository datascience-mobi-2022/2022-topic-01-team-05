{
 "cells": [
  {
   "cell_type": "code",
   "execution_count": 57,
   "metadata": {},
   "outputs": [
    {
     "name": "stdout",
     "output_type": "stream",
     "text": [
      "Using matplotlib backend: QtAgg\n",
      "%pylab is deprecated, use %matplotlib inline and import the required libraries.\n",
      "Populating the interactive namespace from numpy and matplotlib\n"
     ]
    }
   ],
   "source": [
    "%pylab\n",
    "%matplotlib inline\n",
    "from PIL import Image"
   ]
  },
  {
   "cell_type": "code",
   "execution_count": 58,
   "metadata": {},
   "outputs": [
    {
     "name": "stdout",
     "output_type": "stream",
     "text": [
      "(0, 0, 0)\n"
     ]
    }
   ],
   "source": [
    "# Python3 program change RGB Color\n",
    "# Model to HSV Color Model\n",
    "\n",
    "def rgb_to_hsv(r, g, b):\n",
    "\n",
    "\t# R, G, B values are divided by 255\n",
    "\t# to change the range from 0..255 to 0..1:\n",
    "\tr, g, b = r / 255.0, g / 255.0, b / 255.0\n",
    "\n",
    "\t# h, s, v = hue, saturation, value\n",
    "\tcmax = max(r, g, b) # maximum of r, g, b\n",
    "\tcmin = min(r, g, b) # minimum of r, g, b\n",
    "\tdiff = cmax-cmin\t # diff of cmax and cmin.\n",
    "\n",
    "\t# if cmax and cmax are equal then h = 0\n",
    "\tif cmax == cmin:\n",
    "\t\th = 0\n",
    "\t\n",
    "\t# if cmax equal r then compute h\n",
    "\telif cmax == r:\n",
    "\t\th = (60 * ((g - b) / diff) + 360) % 360\n",
    "\n",
    "\t# if cmax equal g then compute h\n",
    "\telif cmax == g:\n",
    "\t\th = (60 * ((b - r) / diff) + 120) % 360\n",
    "\n",
    "\t# if cmax equal b then compute h\n",
    "\telif cmax == b:\n",
    "\t\th = (60 * ((r - g) / diff) + 240) % 360\n",
    "\n",
    "\t# if cmax equal zero\n",
    "\tif cmax == 0:\n",
    "\t\ts = 0\n",
    "\telse:\n",
    "\t\ts = (diff / cmax) * 100\n",
    "\n",
    "\t# compute v\n",
    "\tv = cmax * 100\n",
    "\treturn int(h), int(s), int(v)\n",
    "\n",
    "\n",
    "''' Driver Code '''\n",
    "# print(rgb_to_hsv(45, 215, 0))\n",
    "# print(rgb_to_hsv(31, 52, 29))\n",
    "\n",
    "print(rgb_to_hsv(0, 0, 0))\n"
   ]
  },
  {
   "cell_type": "code",
   "execution_count": 59,
   "metadata": {},
   "outputs": [],
   "source": [
    "image = Image.open(\"../data/Cell_Nuclei.jpg\")\n",
    "pixels = list(image.getdata())\n",
    "width, height = image.size\n",
    "pixels = [pixels[i * width:(i + 1) * width] for i in range(height)]\n",
    "\n",
    "\n",
    "pixels_out = []\n",
    "for row in pixels:\n",
    "    for tup in row:\n",
    "        pixels_out.append(tup)"
   ]
  },
  {
   "cell_type": "code",
   "execution_count": 60,
   "metadata": {},
   "outputs": [],
   "source": [
    "pixelsHSV = []\n",
    "for i in range(0, len(pixels_out)):\n",
    "    r, g, b = pixels_out[i]\n",
    "    h, s, v = rgb_to_hsv(r, g, b)\n",
    "    tupleHSV = (h, s, v)\n",
    "    pixelsHSV.append(tupleHSV)\n",
    "\n"
   ]
  },
  {
   "cell_type": "code",
   "execution_count": 61,
   "metadata": {},
   "outputs": [],
   "source": [
    "image_out = Image.new(\"HSV\", ( width, height))\n",
    "image_out.putdata(pixelsHSV)\n",
    "image_out.show()"
   ]
  }
 ],
 "metadata": {
  "interpreter": {
   "hash": "54b7fcf1bb44cc75fc95c5b2a09216d96d24708150346c5f6bdce168163bfc85"
  },
  "kernelspec": {
   "display_name": "Python 3.10.4 ('environment')",
   "language": "python",
   "name": "python3"
  },
  "language_info": {
   "codemirror_mode": {
    "name": "ipython",
    "version": 3
   },
   "file_extension": ".py",
   "mimetype": "text/x-python",
   "name": "python",
   "nbconvert_exporter": "python",
   "pygments_lexer": "ipython3",
   "version": "3.10.4"
  },
  "orig_nbformat": 4
 },
 "nbformat": 4,
 "nbformat_minor": 2
}
