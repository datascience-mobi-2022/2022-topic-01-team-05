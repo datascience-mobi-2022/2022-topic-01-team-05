{
 "cells": [
  {
   "cell_type": "code",
   "execution_count": 2,
   "metadata": {},
   "outputs": [
    {
     "name": "stdout",
     "output_type": "stream",
     "text": [
      "Using matplotlib backend: <object object at 0x000001E18AD64DD0>\n",
      "%pylab is deprecated, use %matplotlib inline and import the required libraries.\n",
      "Populating the interactive namespace from numpy and matplotlib\n"
     ]
    }
   ],
   "source": [
    "%pylab\n",
    "%matplotlib inline\n",
    "from PIL import Image"
   ]
  },
  {
   "cell_type": "code",
   "execution_count": 3,
   "metadata": {},
   "outputs": [
    {
     "name": "stdout",
     "output_type": "stream",
     "text": [
      "(0, 0, 0)\n"
     ]
    }
   ],
   "source": [
    "# Python3 program change RGB Color\n",
    "# Model to HSV Color Model\n",
    "\n",
    "def rgb_to_hsv(r, g, b):\n",
    "\n",
    "\t# R, G, B values are divided by 255\n",
    "\t# to change the range from 0..255 to 0..1:\n",
    "\tr, g, b = r / 255.0, g / 255.0, b / 255.0\n",
    "\n",
    "\t# h, s, v = hue, saturation, value\n",
    "\tcmax = max(r, g, b) # maximum of r, g, b\n",
    "\tcmin = min(r, g, b) # minimum of r, g, b\n",
    "\tdiff = cmax-cmin\t # diff of cmax and cmin.\n",
    "\n",
    "\t# if cmax and cmax are equal then h = 0\n",
    "\tif cmax == cmin:\n",
    "\t\th = 0\n",
    "\t\n",
    "\t# if cmax equal r then compute h\n",
    "\telif cmax == r:\n",
    "\t\th = (60 * ((g - b) / diff) + 360) % 360\n",
    "\n",
    "\t# if cmax equal g then compute h\n",
    "\telif cmax == g:\n",
    "\t\th = (60 * ((b - r) / diff) + 120) % 360\n",
    "\n",
    "\t# if cmax equal b then compute h\n",
    "\telif cmax == b:\n",
    "\t\th = (60 * ((r - g) / diff) + 240) % 360\n",
    "\n",
    "\t# if cmax equal zero\n",
    "\tif cmax == 0:\n",
    "\t\ts = 0\n",
    "\telse:\n",
    "\t\ts = (diff / cmax) * 100\n",
    "\n",
    "\t# compute v\n",
    "\tv = cmax * 100\n",
    "\treturn int(h), int(s), int(v)\n",
    "\n",
    "\n",
    "''' Driver Code '''\n",
    "# print(rgb_to_hsv(45, 215, 0))\n",
    "# print(rgb_to_hsv(31, 52, 29))\n",
    "\n",
    "print(rgb_to_hsv(0, 0, 0))\n"
   ]
  },
  {
   "cell_type": "code",
   "execution_count": 4,
   "metadata": {},
   "outputs": [],
   "source": [
    "image = Image.open(\"../data/Cell_Nuclei.jpg\")\n",
    "pixels = list(image.getdata())\n",
    "width, height = image.size\n",
    "pixels = [pixels[i * width:(i + 1) * width] for i in range(height)]\n",
    "\n",
    "\n",
    "pixels_out = []\n",
    "for row in pixels:\n",
    "    for tup in row:\n",
    "        pixels_out.append(tup)"
   ]
  },
  {
   "cell_type": "code",
   "execution_count": 5,
   "metadata": {},
   "outputs": [],
   "source": [
    "pixelsHSV = []\n",
    "for i in range(0, len(pixels_out)):\n",
    "    r, g, b = pixels_out[i]\n",
    "    h, s, v = rgb_to_hsv(r, g, b)\n",
    "    tupleHSV = (h, s, v)\n",
    "    pixelsHSV.append(tupleHSV)\n",
    "\n"
   ]
  },
  {
   "cell_type": "code",
   "execution_count": 6,
   "metadata": {},
   "outputs": [],
   "source": [
    "image_out = Image.new(\"HSV\", (width, height))\n",
    "image_out.putdata(pixelsHSV)\n",
    "image_out.show()"
   ]
  },
  {
   "cell_type": "markdown",
   "metadata": {},
   "source": [
    "Vergleich mit convert-Funktion von Package cv2"
   ]
  },
  {
   "cell_type": "code",
   "execution_count": 31,
   "metadata": {},
   "outputs": [
    {
     "name": "stdout",
     "output_type": "stream",
     "text": [
      "pip 21.2.4 from c:\\Users\\emi28\\anaconda3\\envs\\environment\\lib\\site-packages\\pip (python 3.9)\n",
      "\n",
      "Note: you may need to restart the kernel to use updated packages.\n"
     ]
    }
   ],
   "source": [
    "pip -V\n"
   ]
  },
  {
   "cell_type": "code",
   "execution_count": 32,
   "metadata": {},
   "outputs": [
    {
     "name": "stdout",
     "output_type": "stream",
     "text": [
      "Collecting opencv-python\n",
      "  Downloading opencv_python-4.5.5.64-cp36-abi3-win_amd64.whl (35.4 MB)\n",
      "Requirement already satisfied: numpy>=1.14.5 in c:\\users\\emi28\\anaconda3\\envs\\environment\\lib\\site-packages (from opencv-python) (1.21.5)\n",
      "Installing collected packages: opencv-python\n",
      "Successfully installed opencv-python-4.5.5.64\n",
      "Note: you may need to restart the kernel to use updated packages.\n"
     ]
    }
   ],
   "source": [
    "pip install opencv-python"
   ]
  },
  {
   "cell_type": "code",
   "execution_count": 35,
   "metadata": {},
   "outputs": [
    {
     "name": "stdout",
     "output_type": "stream",
     "text": [
      "4.5.5\n"
     ]
    }
   ],
   "source": [
    "import cv2\n",
    "print(cv2.__version__)"
   ]
  },
  {
   "cell_type": "code",
   "execution_count": 37,
   "metadata": {},
   "outputs": [],
   "source": [
    "img = cv2.imread(\"../data/Cell_Nuclei.jpg\")\n",
    "hsvImg = cv2.cvtColor(img, cv2.COLOR_BGR2HSV)\n",
    " \n",
    "cv2.imshow('RGB image', img)\n",
    "cv2.imshow('HSV image', hsvImg)\n",
    "cv2.waitKey(0)\n",
    "cv2.destroyAllWindows()"
   ]
  },
  {
   "cell_type": "code",
   "execution_count": null,
   "metadata": {},
   "outputs": [],
   "source": []
  }
 ],
 "metadata": {
  "interpreter": {
   "hash": "9e1a7d2f88ef582704e45252eb30b63eae9d2c037b334948b0bda2fc4648bf73"
  },
  "kernelspec": {
   "display_name": "Python 3.9.12 ('environment')",
   "language": "python",
   "name": "python3"
  },
  "language_info": {
   "codemirror_mode": {
    "name": "ipython",
    "version": 3
   },
   "file_extension": ".py",
   "mimetype": "text/x-python",
   "name": "python",
   "nbconvert_exporter": "python",
   "pygments_lexer": "ipython3",
   "version": "3.9.12"
  },
  "orig_nbformat": 4
 },
 "nbformat": 4,
 "nbformat_minor": 2
}
