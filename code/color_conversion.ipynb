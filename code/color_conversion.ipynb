{
 "cells": [
  {
   "cell_type": "code",
   "execution_count": 11,
   "metadata": {},
   "outputs": [
    {
     "name": "stdout",
     "output_type": "stream",
     "text": [
      "Using matplotlib backend: QtAgg\n",
      "%pylab is deprecated, use %matplotlib inline and import the required libraries.\n",
      "Populating the interactive namespace from numpy and matplotlib\n"
     ]
    }
   ],
   "source": [
    "%pylab\n",
    "%matplotlib inline\n",
    "from PIL import Image"
   ]
  },
  {
   "cell_type": "code",
   "execution_count": 30,
   "metadata": {},
   "outputs": [
    {
     "name": "stdout",
     "output_type": "stream",
     "text": [
      "(107, 100, 84)\n",
      "(114, 44, 20)\n",
      "(120, 100, 84)\n"
     ]
    }
   ],
   "source": [
    "# Python3 program change RGB Color\n",
    "# Model to HSV Color Model\n",
    "\n",
    "def rgb_to_hsv(r,g,b):\n",
    "\n",
    "\t# R, G, B values are divided by 255\n",
    "\t# to change the range from 0..255 to 0..1:\n",
    "\tr, g, b = r / 255.0, g / 255.0, b / 255.0\n",
    "\n",
    "\t# h, s, v = hue, saturation, value\n",
    "\tcmax = max(r, g, b) # maximum of r, g, b\n",
    "\tcmin = min(r, g, b) # minimum of r, g, b\n",
    "\tdiff = cmax-cmin\t # diff of cmax and cmin.\n",
    "\n",
    "\t# if cmax and cmax are equal then h = 0\n",
    "\tif cmax == cmin:\n",
    "\t\th = 0\n",
    "\t\n",
    "\t# if cmax equal r then compute h\n",
    "\telif cmax == r:\n",
    "\t\th = (60 * ((g - b) / diff) + 360) % 360\n",
    "\n",
    "\t# if cmax equal g then compute h\n",
    "\telif cmax == g:\n",
    "\t\th = (60 * ((b - r) / diff) + 120) % 360\n",
    "\n",
    "\t# if cmax equal b then compute h\n",
    "\telif cmax == b:\n",
    "\t\th = (60 * ((r - g) / diff) + 240) % 360\n",
    "\n",
    "\t# if cmax equal zero\n",
    "\tif cmax == 0:\n",
    "\t\ts = 0\n",
    "\telse:\n",
    "\t\ts = (diff / cmax) * 100\n",
    "\n",
    "\t# compute v\n",
    "\tv = cmax * 100\n",
    "\treturn (int(h), int(s), int(v))\n",
    "\n",
    "\n",
    "''' Driver Code '''\n",
    "print(rgb_to_hsv(45, 215, 0))\n",
    "print(rgb_to_hsv(31, 52, 29))\n",
    "\n",
    "print(rgb_to_hsv(0, 215, 0))\n"
   ]
  },
  {
   "cell_type": "code",
   "execution_count": 35,
   "metadata": {},
   "outputs": [],
   "source": [
    "image = Image.open(\"../data/Yeast_Cells.jpg\")\n",
    "pixels = list(image.getdata())\n",
    "width, height = image.size\n"
   ]
  },
  {
   "cell_type": "code",
   "execution_count": 36,
   "metadata": {},
   "outputs": [],
   "source": [
    "pixelsHSV = []\n",
    "for i in range(len(pixels)):\n",
    "    r, g, b = pixels[i]\n",
    "    tupleHSV = rgb_to_hsv(r, g, b)\n",
    "    pixelsHSV.append(tupleHSV)\n"
   ]
  },
  {
   "cell_type": "code",
   "execution_count": 37,
   "metadata": {},
   "outputs": [],
   "source": [
    "image_out = Image.new(\"HSV\", (width, height))\n",
    "image_out.putdata(pixelsHSV)\n",
    "image_out.show()"
   ]
  },
  {
   "cell_type": "markdown",
   "metadata": {},
   "source": [
    "Vergleich mit convert-Funktion von Package cv2"
   ]
  },
  {
   "cell_type": "code",
   "execution_count": 16,
   "metadata": {},
   "outputs": [
    {
     "name": "stdout",
     "output_type": "stream",
     "text": [
      "pip 21.2.4 from c:\\Users\\Cedric\\anaconda3\\envs\\environment\\lib\\site-packages\\pip (python 3.10)\n",
      "\n",
      "Note: you may need to restart the kernel to use updated packages.\n"
     ]
    }
   ],
   "source": [
    "pip -V\n"
   ]
  },
  {
   "cell_type": "code",
   "execution_count": 17,
   "metadata": {},
   "outputs": [
    {
     "name": "stdout",
     "output_type": "stream",
     "text": [
      "Requirement already satisfied: opencv-python in c:\\users\\cedric\\anaconda3\\envs\\environment\\lib\\site-packages (4.5.5.64)\n",
      "Requirement already satisfied: numpy>=1.21.2 in c:\\users\\cedric\\anaconda3\\envs\\environment\\lib\\site-packages (from opencv-python) (1.21.5)\n",
      "Note: you may need to restart the kernel to use updated packages.\n"
     ]
    }
   ],
   "source": [
    "pip install opencv-python"
   ]
  },
  {
   "cell_type": "code",
   "execution_count": 18,
   "metadata": {},
   "outputs": [
    {
     "name": "stdout",
     "output_type": "stream",
     "text": [
      "4.5.5\n"
     ]
    }
   ],
   "source": [
    "import cv2\n",
    "print(cv2.__version__)"
   ]
  },
  {
   "cell_type": "code",
   "execution_count": 19,
   "metadata": {},
   "outputs": [],
   "source": [
    "img = cv2.imread(\"../data/Cell_Nuclei.jpg\")\n",
    "rgbImg = cv2.cvtColor(img, cv2.COLOR_BGR2RGB)\n",
    "hsvImg = cv2.cvtColor(rgbImg, cv2.COLOR_RGB2HSV)\n",
    " \n",
    "cv2.imshow('RGB image', img)\n",
    "cv2.imshow('HSV image', hsvImg)\n",
    "cv2.waitKey(0)\n",
    "cv2.destroyAllWindows()"
   ]
  },
  {
   "cell_type": "markdown",
   "metadata": {},
   "source": [
    "Lab-Conversion"
   ]
  },
  {
   "cell_type": "code",
   "execution_count": 20,
   "metadata": {},
   "outputs": [
    {
     "name": "stdout",
     "output_type": "stream",
     "text": [
      "(6, -13, 3)\n"
     ]
    }
   ],
   "source": [
    "# Python3 program change RGB Color\n",
    "# Model to LAB Color Model\n",
    "\n",
    "def rgb_to_lab(r, g, b):\n",
    "\n",
    "# R, G, B values are divided by 255\n",
    "# to change the range from 0..255 to 0..1:\n",
    "    r, g, b = r / 255.0, g / 255.0, b / 255.0\n",
    "\n",
    "# l, a, b = lightness, green-red, yellow-blue\n",
    "# Conversion via CIE 1931-color model (XYZ-coordinates)\n",
    "    X = 0.4124564 * r + 0.3575761 * g + 0.1804375 * b\n",
    "    Y = 0.2126729 * r + 0.7151522 * g + 0.0721750 * b\n",
    "    Z = 0.0193339 * r + 0.1191920 * g + 0.9503041 * b\n",
    "\n",
    "# Import Numpy\n",
    "    import numpy as np\n",
    "\n",
    "# Convert XYZ to LAB\n",
    "    l = 116 * np.power(Y/100, 1/3) - 16\n",
    "    a = 500 * (np.power(X/95.047, 1/3) - np.power(Y/100, 1/3))\n",
    "    b = 200 * (np.power(Y/100, 1/3) - np.power(Z/108.883, 1/3))\n",
    "\n",
    "    return int(l), int(a), int(b)\n",
    "\n",
    "# Try out\n",
    "print(rgb_to_lab(0, 244, 131))"
   ]
  },
  {
   "cell_type": "code",
   "execution_count": 21,
   "metadata": {},
   "outputs": [],
   "source": [
    "image = Image.open(\"../data/Yeast_Cells.jpg\")\n",
    "pixels = list(image.getdata())\n",
    "width, height = image.size\n",
    "pixels = [pixels[i * width:(i + 1) * width] for i in range(height)]\n",
    "\n",
    "\n",
    "pixels_out = []\n",
    "for row in pixels:\n",
    "    for tup in row:\n",
    "        pixels_out.append(tup)"
   ]
  },
  {
   "cell_type": "code",
   "execution_count": 22,
   "metadata": {},
   "outputs": [],
   "source": [
    "pixelsLAB = []\n",
    "for i in range(0, len(pixels_out)):\n",
    "    r, g, b = pixels_out[i]\n",
    "    l, a, b = rgb_to_lab(r, g, b)\n",
    "    tupleLAB = (l, a, b)\n",
    "    pixelsLAB.append(tupleLAB)"
   ]
  },
  {
   "cell_type": "code",
   "execution_count": 23,
   "metadata": {},
   "outputs": [
    {
     "ename": "ValueError",
     "evalue": "conversion from LAB to RGB not supported",
     "output_type": "error",
     "traceback": [
      "\u001b[1;31m---------------------------------------------------------------------------\u001b[0m",
      "\u001b[1;31mValueError\u001b[0m                                Traceback (most recent call last)",
      "File \u001b[1;32mc:\\Users\\Cedric\\anaconda3\\envs\\environment\\lib\\site-packages\\PIL\\Image.py:1016\u001b[0m, in \u001b[0;36mImage.convert\u001b[1;34m(self, mode, matrix, dither, palette, colors)\u001b[0m\n\u001b[0;32m   <a href='file:///c%3A/Users/Cedric/anaconda3/envs/environment/lib/site-packages/PIL/Image.py?line=1014'>1015</a>\u001b[0m \u001b[39mtry\u001b[39;00m:\n\u001b[1;32m-> <a href='file:///c%3A/Users/Cedric/anaconda3/envs/environment/lib/site-packages/PIL/Image.py?line=1015'>1016</a>\u001b[0m     im \u001b[39m=\u001b[39m \u001b[39mself\u001b[39;49m\u001b[39m.\u001b[39;49mim\u001b[39m.\u001b[39;49mconvert(mode, dither)\n\u001b[0;32m   <a href='file:///c%3A/Users/Cedric/anaconda3/envs/environment/lib/site-packages/PIL/Image.py?line=1016'>1017</a>\u001b[0m \u001b[39mexcept\u001b[39;00m \u001b[39mValueError\u001b[39;00m:\n",
      "\u001b[1;31mValueError\u001b[0m: conversion from LAB to RGB not supported",
      "\nDuring handling of the above exception, another exception occurred:\n",
      "\u001b[1;31mValueError\u001b[0m                                Traceback (most recent call last)",
      "\u001b[1;32mc:\\Users\\Cedric\\Documents\\GitHub\\2022-topic-01-team-05\\code\\color_conversion.ipynb Cell 15'\u001b[0m in \u001b[0;36m<cell line: 3>\u001b[1;34m()\u001b[0m\n\u001b[0;32m      <a href='vscode-notebook-cell:/c%3A/Users/Cedric/Documents/GitHub/2022-topic-01-team-05/code/color_conversion.ipynb#ch0000014?line=0'>1</a>\u001b[0m image_out \u001b[39m=\u001b[39m Image\u001b[39m.\u001b[39mnew(\u001b[39m\"\u001b[39m\u001b[39mLAB\u001b[39m\u001b[39m\"\u001b[39m, (width, height))\n\u001b[0;32m      <a href='vscode-notebook-cell:/c%3A/Users/Cedric/Documents/GitHub/2022-topic-01-team-05/code/color_conversion.ipynb#ch0000014?line=1'>2</a>\u001b[0m image_out\u001b[39m.\u001b[39mputdata(pixelsLAB)\n\u001b[1;32m----> <a href='vscode-notebook-cell:/c%3A/Users/Cedric/Documents/GitHub/2022-topic-01-team-05/code/color_conversion.ipynb#ch0000014?line=2'>3</a>\u001b[0m image_out\u001b[39m.\u001b[39;49mshow()\n",
      "File \u001b[1;32mc:\\Users\\Cedric\\anaconda3\\envs\\environment\\lib\\site-packages\\PIL\\Image.py:2259\u001b[0m, in \u001b[0;36mImage.show\u001b[1;34m(self, title)\u001b[0m\n\u001b[0;32m   <a href='file:///c%3A/Users/Cedric/anaconda3/envs/environment/lib/site-packages/PIL/Image.py?line=2238'>2239</a>\u001b[0m \u001b[39mdef\u001b[39;00m \u001b[39mshow\u001b[39m(\u001b[39mself\u001b[39m, title\u001b[39m=\u001b[39m\u001b[39mNone\u001b[39;00m):\n\u001b[0;32m   <a href='file:///c%3A/Users/Cedric/anaconda3/envs/environment/lib/site-packages/PIL/Image.py?line=2239'>2240</a>\u001b[0m     \u001b[39m\"\"\"\u001b[39;00m\n\u001b[0;32m   <a href='file:///c%3A/Users/Cedric/anaconda3/envs/environment/lib/site-packages/PIL/Image.py?line=2240'>2241</a>\u001b[0m \u001b[39m    Displays this image. This method is mainly intended for debugging purposes.\u001b[39;00m\n\u001b[0;32m   <a href='file:///c%3A/Users/Cedric/anaconda3/envs/environment/lib/site-packages/PIL/Image.py?line=2241'>2242</a>\u001b[0m \n\u001b[1;32m   (...)\u001b[0m\n\u001b[0;32m   <a href='file:///c%3A/Users/Cedric/anaconda3/envs/environment/lib/site-packages/PIL/Image.py?line=2255'>2256</a>\u001b[0m \u001b[39m    :param title: Optional title to use for the image window, where possible.\u001b[39;00m\n\u001b[0;32m   <a href='file:///c%3A/Users/Cedric/anaconda3/envs/environment/lib/site-packages/PIL/Image.py?line=2256'>2257</a>\u001b[0m \u001b[39m    \"\"\"\u001b[39;00m\n\u001b[1;32m-> <a href='file:///c%3A/Users/Cedric/anaconda3/envs/environment/lib/site-packages/PIL/Image.py?line=2258'>2259</a>\u001b[0m     _show(\u001b[39mself\u001b[39;49m, title\u001b[39m=\u001b[39;49mtitle)\n",
      "File \u001b[1;32mc:\\Users\\Cedric\\anaconda3\\envs\\environment\\lib\\site-packages\\PIL\\Image.py:3233\u001b[0m, in \u001b[0;36m_show\u001b[1;34m(image, **options)\u001b[0m\n\u001b[0;32m   <a href='file:///c%3A/Users/Cedric/anaconda3/envs/environment/lib/site-packages/PIL/Image.py?line=3229'>3230</a>\u001b[0m \u001b[39mdef\u001b[39;00m \u001b[39m_show\u001b[39m(image, \u001b[39m*\u001b[39m\u001b[39m*\u001b[39moptions):\n\u001b[0;32m   <a href='file:///c%3A/Users/Cedric/anaconda3/envs/environment/lib/site-packages/PIL/Image.py?line=3230'>3231</a>\u001b[0m     \u001b[39mfrom\u001b[39;00m \u001b[39m.\u001b[39;00m \u001b[39mimport\u001b[39;00m ImageShow\n\u001b[1;32m-> <a href='file:///c%3A/Users/Cedric/anaconda3/envs/environment/lib/site-packages/PIL/Image.py?line=3232'>3233</a>\u001b[0m     ImageShow\u001b[39m.\u001b[39mshow(image, \u001b[39m*\u001b[39m\u001b[39m*\u001b[39moptions)\n",
      "File \u001b[1;32mc:\\Users\\Cedric\\anaconda3\\envs\\environment\\lib\\site-packages\\PIL\\ImageShow.py:55\u001b[0m, in \u001b[0;36mshow\u001b[1;34m(image, title, **options)\u001b[0m\n\u001b[0;32m     <a href='file:///c%3A/Users/Cedric/anaconda3/envs/environment/lib/site-packages/PIL/ImageShow.py?line=45'>46</a>\u001b[0m \u001b[39mr\u001b[39m\u001b[39m\"\"\"\u001b[39;00m\n\u001b[0;32m     <a href='file:///c%3A/Users/Cedric/anaconda3/envs/environment/lib/site-packages/PIL/ImageShow.py?line=46'>47</a>\u001b[0m \u001b[39mDisplay a given image.\u001b[39;00m\n\u001b[0;32m     <a href='file:///c%3A/Users/Cedric/anaconda3/envs/environment/lib/site-packages/PIL/ImageShow.py?line=47'>48</a>\u001b[0m \n\u001b[1;32m   (...)\u001b[0m\n\u001b[0;32m     <a href='file:///c%3A/Users/Cedric/anaconda3/envs/environment/lib/site-packages/PIL/ImageShow.py?line=51'>52</a>\u001b[0m \u001b[39m:returns: ``True`` if a suitable viewer was found, ``False`` otherwise.\u001b[39;00m\n\u001b[0;32m     <a href='file:///c%3A/Users/Cedric/anaconda3/envs/environment/lib/site-packages/PIL/ImageShow.py?line=52'>53</a>\u001b[0m \u001b[39m\"\"\"\u001b[39;00m\n\u001b[0;32m     <a href='file:///c%3A/Users/Cedric/anaconda3/envs/environment/lib/site-packages/PIL/ImageShow.py?line=53'>54</a>\u001b[0m \u001b[39mfor\u001b[39;00m viewer \u001b[39min\u001b[39;00m _viewers:\n\u001b[1;32m---> <a href='file:///c%3A/Users/Cedric/anaconda3/envs/environment/lib/site-packages/PIL/ImageShow.py?line=54'>55</a>\u001b[0m     \u001b[39mif\u001b[39;00m viewer\u001b[39m.\u001b[39mshow(image, title\u001b[39m=\u001b[39mtitle, \u001b[39m*\u001b[39m\u001b[39m*\u001b[39moptions):\n\u001b[0;32m     <a href='file:///c%3A/Users/Cedric/anaconda3/envs/environment/lib/site-packages/PIL/ImageShow.py?line=55'>56</a>\u001b[0m         \u001b[39mreturn\u001b[39;00m \u001b[39m1\u001b[39m\n\u001b[0;32m     <a href='file:///c%3A/Users/Cedric/anaconda3/envs/environment/lib/site-packages/PIL/ImageShow.py?line=56'>57</a>\u001b[0m \u001b[39mreturn\u001b[39;00m \u001b[39m0\u001b[39m\n",
      "File \u001b[1;32mc:\\Users\\Cedric\\anaconda3\\envs\\environment\\lib\\site-packages\\PIL\\ImageShow.py:77\u001b[0m, in \u001b[0;36mViewer.show\u001b[1;34m(self, image, **options)\u001b[0m\n\u001b[0;32m     <a href='file:///c%3A/Users/Cedric/anaconda3/envs/environment/lib/site-packages/PIL/ImageShow.py?line=74'>75</a>\u001b[0m     base \u001b[39m=\u001b[39m Image\u001b[39m.\u001b[39mgetmodebase(image\u001b[39m.\u001b[39mmode)\n\u001b[0;32m     <a href='file:///c%3A/Users/Cedric/anaconda3/envs/environment/lib/site-packages/PIL/ImageShow.py?line=75'>76</a>\u001b[0m     \u001b[39mif\u001b[39;00m image\u001b[39m.\u001b[39mmode \u001b[39m!=\u001b[39m base:\n\u001b[1;32m---> <a href='file:///c%3A/Users/Cedric/anaconda3/envs/environment/lib/site-packages/PIL/ImageShow.py?line=76'>77</a>\u001b[0m         image \u001b[39m=\u001b[39m image\u001b[39m.\u001b[39;49mconvert(base)\n\u001b[0;32m     <a href='file:///c%3A/Users/Cedric/anaconda3/envs/environment/lib/site-packages/PIL/ImageShow.py?line=78'>79</a>\u001b[0m \u001b[39mreturn\u001b[39;00m \u001b[39mself\u001b[39m\u001b[39m.\u001b[39mshow_image(image, \u001b[39m*\u001b[39m\u001b[39m*\u001b[39moptions)\n",
      "File \u001b[1;32mc:\\Users\\Cedric\\anaconda3\\envs\\environment\\lib\\site-packages\\PIL\\Image.py:1020\u001b[0m, in \u001b[0;36mImage.convert\u001b[1;34m(self, mode, matrix, dither, palette, colors)\u001b[0m\n\u001b[0;32m   <a href='file:///c%3A/Users/Cedric/anaconda3/envs/environment/lib/site-packages/PIL/Image.py?line=1016'>1017</a>\u001b[0m \u001b[39mexcept\u001b[39;00m \u001b[39mValueError\u001b[39;00m:\n\u001b[0;32m   <a href='file:///c%3A/Users/Cedric/anaconda3/envs/environment/lib/site-packages/PIL/Image.py?line=1017'>1018</a>\u001b[0m     \u001b[39mtry\u001b[39;00m:\n\u001b[0;32m   <a href='file:///c%3A/Users/Cedric/anaconda3/envs/environment/lib/site-packages/PIL/Image.py?line=1018'>1019</a>\u001b[0m         \u001b[39m# normalize source image and try again\u001b[39;00m\n\u001b[1;32m-> <a href='file:///c%3A/Users/Cedric/anaconda3/envs/environment/lib/site-packages/PIL/Image.py?line=1019'>1020</a>\u001b[0m         im \u001b[39m=\u001b[39m \u001b[39mself\u001b[39;49m\u001b[39m.\u001b[39;49mim\u001b[39m.\u001b[39;49mconvert(getmodebase(\u001b[39mself\u001b[39;49m\u001b[39m.\u001b[39;49mmode))\n\u001b[0;32m   <a href='file:///c%3A/Users/Cedric/anaconda3/envs/environment/lib/site-packages/PIL/Image.py?line=1020'>1021</a>\u001b[0m         im \u001b[39m=\u001b[39m im\u001b[39m.\u001b[39mconvert(mode, dither)\n\u001b[0;32m   <a href='file:///c%3A/Users/Cedric/anaconda3/envs/environment/lib/site-packages/PIL/Image.py?line=1021'>1022</a>\u001b[0m     \u001b[39mexcept\u001b[39;00m \u001b[39mKeyError\u001b[39;00m \u001b[39mas\u001b[39;00m e:\n",
      "\u001b[1;31mValueError\u001b[0m: conversion from LAB to RGB not supported"
     ]
    }
   ],
   "source": [
    "image_out = Image.new(\"LAB\", (width, height))\n",
    "image_out.putdata(pixelsLAB)\n",
    "image_out.show()"
   ]
  }
 ],
 "metadata": {
  "interpreter": {
   "hash": "54b7fcf1bb44cc75fc95c5b2a09216d96d24708150346c5f6bdce168163bfc85"
  },
  "kernelspec": {
   "display_name": "Python 3.10.4 ('environment')",
   "language": "python",
   "name": "python3"
  },
  "language_info": {
   "codemirror_mode": {
    "name": "ipython",
    "version": 3
   },
   "file_extension": ".py",
   "mimetype": "text/x-python",
   "name": "python",
   "nbconvert_exporter": "python",
   "pygments_lexer": "ipython3",
   "version": "3.10.4"
  },
  "orig_nbformat": 4
 },
 "nbformat": 4,
 "nbformat_minor": 2
}
