{
 "cells": [
  {
   "cell_type": "code",
   "execution_count": 1,
   "metadata": {},
   "outputs": [
    {
     "name": "stdout",
     "output_type": "stream",
     "text": [
      "Using matplotlib backend: <object object at 0x00000215C70665C0>\n",
      "%pylab is deprecated, use %matplotlib inline and import the required libraries.\n",
      "Populating the interactive namespace from numpy and matplotlib\n"
     ]
    }
   ],
   "source": [
    "%pylab\n",
    "%matplotlib inline\n",
    "from PIL import Image\n",
    "\n"
   ]
  },
  {
   "cell_type": "code",
   "execution_count": 51,
   "metadata": {},
   "outputs": [
    {
     "name": "stdout",
     "output_type": "stream",
     "text": [
      "(0, 0, 0.0)\n"
     ]
    }
   ],
   "source": [
    "# Python3 program change RGB Color\n",
    "# Model to HSV Color Model\n",
    "\n",
    "def rgb_to_hsv(r, g, b):\n",
    "\n",
    "\t# R, G, B values are divided by 255\n",
    "\t# to change the range from 0..255 to 0..1:\n",
    "\tr, g, b = r / 255.0, g / 255.0, b / 255.0\n",
    "\n",
    "\t# h, s, v = hue, saturation, value\n",
    "\tcmax = max(r, g, b) # maximum of r, g, b\n",
    "\tcmin = min(r, g, b) # minimum of r, g, b\n",
    "\tdiff = cmax-cmin\t # diff of cmax and cmin.\n",
    "\n",
    "\t# if cmax and cmax are equal then h = 0\n",
    "\tif cmax == cmin:\n",
    "\t\th = 0\n",
    "\t\n",
    "\t# if cmax equal r then compute h\n",
    "\telif cmax == r:\n",
    "\t\th = (60 * ((g - b) / diff) + 360) % 360\n",
    "\n",
    "\t# if cmax equal g then compute h\n",
    "\telif cmax == g:\n",
    "\t\th = (60 * ((b - r) / diff) + 120) % 360\n",
    "\n",
    "\t# if cmax equal b then compute h\n",
    "\telif cmax == b:\n",
    "\t\th = (60 * ((r - g) / diff) + 240) % 360\n",
    "\n",
    "\t# if cmax equal zero\n",
    "\tif cmax == 0:\n",
    "\t\ts = 0\n",
    "\telse:\n",
    "\t\ts = (diff / cmax) * 100\n",
    "\n",
    "\t# compute v\n",
    "\tv = cmax * 100\n",
    "\treturn h, s, v\n",
    "\n",
    "\n",
    "''' Driver Code '''\n",
    "# print(rgb_to_hsv(45, 215, 0))\n",
    "# print(rgb_to_hsv(31, 52, 29))\n",
    "\n",
    "print(rgb_to_hsv(0, 0, 0))\n"
   ]
  },
  {
   "cell_type": "code",
   "execution_count": 52,
   "metadata": {},
   "outputs": [],
   "source": [
    "image = Image.open(\"../data/Yeast_Cells.jpg\")\n",
    "pixels = list(image.getdata())\n",
    "width, height = image.size\n",
    "pixels = [pixels[i * width:(i + 1) * width] for i in range(height)]\n",
    "\n",
    "pixels_out = []\n",
    "for row in pixels:\n",
    "    for tup in row:\n",
    "        pixels_out.append(tup)"
   ]
  },
  {
   "cell_type": "code",
   "execution_count": 53,
   "metadata": {},
   "outputs": [],
   "source": [
    "pixelsHSV = []\n",
    "for i in range(0, len(pixels_out)):\n",
    "    r, g, b = pixels_out[i]\n",
    "    h, s, v = rgb_to_hsv(r, g, b)\n",
    "    tupleHSV = (h, s, v)\n",
    "    pixelsHSV.append(tupleHSV)\n",
    "\n"
   ]
  },
  {
   "cell_type": "code",
   "execution_count": 54,
   "metadata": {},
   "outputs": [
    {
     "ename": "TypeError",
     "evalue": "'float' object cannot be interpreted as an integer",
     "output_type": "error",
     "traceback": [
      "\u001b[1;31m---------------------------------------------------------------------------\u001b[0m",
      "\u001b[1;31mTypeError\u001b[0m                                 Traceback (most recent call last)",
      "\u001b[1;32mc:\\Users\\gt200\\Documents\\Documente\\Uni\\4.FS\\Bioinfo\\2022-topic-01-team-05\\code\\color_conversion.ipynb Cell 8'\u001b[0m in \u001b[0;36m<cell line: 2>\u001b[1;34m()\u001b[0m\n\u001b[0;32m      <a href='vscode-notebook-cell:/c%3A/Users/gt200/Documents/Documente/Uni/4.FS/Bioinfo/2022-topic-01-team-05/code/color_conversion.ipynb#ch0000006?line=0'>1</a>\u001b[0m image_out \u001b[39m=\u001b[39m Image\u001b[39m.\u001b[39mnew(\u001b[39m\"\u001b[39m\u001b[39mHSV\u001b[39m\u001b[39m\"\u001b[39m, (\u001b[39m1200\u001b[39m, \u001b[39m1200\u001b[39m))\n\u001b[1;32m----> <a href='vscode-notebook-cell:/c%3A/Users/gt200/Documents/Documente/Uni/4.FS/Bioinfo/2022-topic-01-team-05/code/color_conversion.ipynb#ch0000006?line=1'>2</a>\u001b[0m image_out\u001b[39m.\u001b[39;49mputdata(pixelsHSV)\n\u001b[0;32m      <a href='vscode-notebook-cell:/c%3A/Users/gt200/Documents/Documente/Uni/4.FS/Bioinfo/2022-topic-01-team-05/code/color_conversion.ipynb#ch0000006?line=2'>3</a>\u001b[0m image_out\u001b[39m.\u001b[39mshow()\n",
      "File \u001b[1;32mc:\\Users\\gt200\\anaconda3\\envs\\environment\\lib\\site-packages\\PIL\\Image.py:1723\u001b[0m, in \u001b[0;36mImage.putdata\u001b[1;34m(self, data, scale, offset)\u001b[0m\n\u001b[0;32m   <a href='file:///c%3A/Users/gt200/anaconda3/envs/environment/lib/site-packages/PIL/Image.py?line=1707'>1708</a>\u001b[0m \u001b[39m\"\"\"\u001b[39;00m\n\u001b[0;32m   <a href='file:///c%3A/Users/gt200/anaconda3/envs/environment/lib/site-packages/PIL/Image.py?line=1708'>1709</a>\u001b[0m \u001b[39mCopies pixel data from a flattened sequence object into the image. The\u001b[39;00m\n\u001b[0;32m   <a href='file:///c%3A/Users/gt200/anaconda3/envs/environment/lib/site-packages/PIL/Image.py?line=1709'>1710</a>\u001b[0m \u001b[39mvalues should start at the upper left corner (0, 0), continue to the\u001b[39;00m\n\u001b[1;32m   (...)\u001b[0m\n\u001b[0;32m   <a href='file:///c%3A/Users/gt200/anaconda3/envs/environment/lib/site-packages/PIL/Image.py?line=1717'>1718</a>\u001b[0m \u001b[39m:param offset: An optional offset value.  The default is 0.0.\u001b[39;00m\n\u001b[0;32m   <a href='file:///c%3A/Users/gt200/anaconda3/envs/environment/lib/site-packages/PIL/Image.py?line=1718'>1719</a>\u001b[0m \u001b[39m\"\"\"\u001b[39;00m\n\u001b[0;32m   <a href='file:///c%3A/Users/gt200/anaconda3/envs/environment/lib/site-packages/PIL/Image.py?line=1720'>1721</a>\u001b[0m \u001b[39mself\u001b[39m\u001b[39m.\u001b[39m_ensure_mutable()\n\u001b[1;32m-> <a href='file:///c%3A/Users/gt200/anaconda3/envs/environment/lib/site-packages/PIL/Image.py?line=1722'>1723</a>\u001b[0m \u001b[39mself\u001b[39;49m\u001b[39m.\u001b[39;49mim\u001b[39m.\u001b[39;49mputdata(data, scale, offset)\n",
      "\u001b[1;31mTypeError\u001b[0m: 'float' object cannot be interpreted as an integer"
     ]
    }
   ],
   "source": [
    "image_out = Image.new(\"HSV\", (1200, 1200))\n",
    "image_out.putdata(pixelsHSV)\n",
    "image_out.show()"
   ]
  }
 ],
 "metadata": {
  "interpreter": {
   "hash": "5b83ce1c35a2acaa5544e45d923f82fc98e047241fe593f03a382798a2403f36"
  },
  "kernelspec": {
   "display_name": "Python 3.10.4 ('environment')",
   "language": "python",
   "name": "python3"
  },
  "language_info": {
   "codemirror_mode": {
    "name": "ipython",
    "version": 3
   },
   "file_extension": ".py",
   "mimetype": "text/x-python",
   "name": "python",
   "nbconvert_exporter": "python",
   "pygments_lexer": "ipython3",
   "version": "3.10.4"
  },
  "orig_nbformat": 4
 },
 "nbformat": 4,
 "nbformat_minor": 2
}
