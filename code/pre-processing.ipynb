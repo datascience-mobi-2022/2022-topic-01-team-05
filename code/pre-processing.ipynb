{
 "cells": [
  {
   "cell_type": "code",
   "execution_count": null,
   "metadata": {},
   "outputs": [],
   "source": [
    "%pylab\n",
    "%matplotlib inline"
   ]
  },
  {
   "cell_type": "code",
   "execution_count": null,
   "metadata": {},
   "outputs": [],
   "source": [
    "import scipy.ndimage"
   ]
  },
  {
   "cell_type": "code",
   "execution_count": null,
   "metadata": {},
   "outputs": [],
   "source": [
    "yeast = imread(\"../data/Yeast_Cells.jpg\")\n",
    "figure(figsize = (15, 8))\n",
    "imshow(yeast), colorbar()"
   ]
  },
  {
   "cell_type": "markdown",
   "metadata": {},
   "source": [
    "Meanfilter"
   ]
  },
  {
   "cell_type": "code",
   "execution_count": null,
   "metadata": {},
   "outputs": [],
   "source": [
    "yeast1 = yeast.copy()\n",
    "figure(figsize = (15, 8))\n",
    "imshow(scipy.ndimage.uniform_filter(yeast1, 2))"
   ]
  },
  {
   "cell_type": "markdown",
   "metadata": {},
   "source": [
    "Medianfilter"
   ]
  },
  {
   "cell_type": "code",
   "execution_count": null,
   "metadata": {},
   "outputs": [],
   "source": [
    "yeast2 = yeast.copy()\n",
    "figure(figsize = (15, 8))\n",
    "imshow(scipy.ndimage.median_filter(yeast2, 5))"
   ]
  },
  {
   "cell_type": "markdown",
   "metadata": {},
   "source": [
    "Gaussfilter"
   ]
  },
  {
   "cell_type": "code",
   "execution_count": 3,
   "metadata": {},
   "outputs": [
    {
     "ename": "NameError",
     "evalue": "name 'yeast' is not defined",
     "output_type": "error",
     "traceback": [
      "\u001b[1;31m---------------------------------------------------------------------------\u001b[0m",
      "\u001b[1;31mNameError\u001b[0m                                 Traceback (most recent call last)",
      "\u001b[1;32mc:\\Users\\gt200\\Documents\\Documente\\Uni\\4.FS\\Bioinfo\\2022-topic-01-team-05\\code\\pre-processing.ipynb Zelle 9\u001b[0m in \u001b[0;36m<cell line: 1>\u001b[1;34m()\u001b[0m\n\u001b[1;32m----> <a href='vscode-notebook-cell:/c%3A/Users/gt200/Documents/Documente/Uni/4.FS/Bioinfo/2022-topic-01-team-05/code/pre-processing.ipynb#ch0000008?line=0'>1</a>\u001b[0m yeast3 \u001b[39m=\u001b[39m yeast\u001b[39m.\u001b[39mcopy()\n\u001b[0;32m      <a href='vscode-notebook-cell:/c%3A/Users/gt200/Documents/Documente/Uni/4.FS/Bioinfo/2022-topic-01-team-05/code/pre-processing.ipynb#ch0000008?line=1'>2</a>\u001b[0m figure(figsize \u001b[39m=\u001b[39m (\u001b[39m15\u001b[39m, \u001b[39m8\u001b[39m))\n\u001b[0;32m      <a href='vscode-notebook-cell:/c%3A/Users/gt200/Documents/Documente/Uni/4.FS/Bioinfo/2022-topic-01-team-05/code/pre-processing.ipynb#ch0000008?line=2'>3</a>\u001b[0m imshow(scipy\u001b[39m.\u001b[39mndimage\u001b[39m.\u001b[39mgaussian_filter(yeast3, \u001b[39m0.2\u001b[39m))\n",
      "\u001b[1;31mNameError\u001b[0m: name 'yeast' is not defined"
     ]
    }
   ],
   "source": [
    "yeast3 = yeast.copy()\n",
    "figure(figsize = (15, 8))\n",
    "imshow(scipy.ndimage.gaussian_filter(yeast3, 0.2))"
   ]
  },
  {
   "cell_type": "markdown",
   "metadata": {},
   "source": [
    "## FILTER AUS PIL PACKAGE"
   ]
  },
  {
   "cell_type": "code",
   "execution_count": 11,
   "metadata": {},
   "outputs": [],
   "source": [
    "# import image module\n",
    "from PIL import Image\n",
    "from PIL import ImageFilter, ImageOps, ImageFilter\n",
    "import numpy as np"
   ]
  },
  {
   "cell_type": "markdown",
   "metadata": {},
   "source": [
    "Edge enhancement"
   ]
  },
  {
   "cell_type": "code",
   "execution_count": null,
   "metadata": {},
   "outputs": [],
   "source": [
    "# Open an already existing image\n",
    "imageObject = Image.open(\"../data/Yeast_Cells.jpg\")\n",
    "\n",
    "# Apply edge enhancement filter\n",
    "edgeEnahnced = imageObject.filter(ImageFilter.EDGE_ENHANCE)\n",
    " \n",
    "# Apply increased edge enhancement filter\n",
    "moreEdgeEnahnced = edgeEnahnced.filter(ImageFilter.EDGE_ENHANCE_MORE)\n",
    "moreEdgeEnahnced.save(\"../data/edge_enhancement_yeast.png\")\n",
    "\n",
    "# Show original image - before applying edge enhancement filters\n",
    "imageObject.show() \n",
    " \n",
    "# Show image - after applying edge enhancement filter\n",
    "edgeEnahnced.show()\n",
    "\n",
    "# Show image - after applying increased edge enhancement filter\n",
    "moreEdgeEnahnced.show()"
   ]
  },
  {
   "cell_type": "markdown",
   "metadata": {},
   "source": [
    "Median Filter"
   ]
  },
  {
   "cell_type": "code",
   "execution_count": null,
   "metadata": {},
   "outputs": [],
   "source": [
    "img2 = Image.open(\"../data/Cell_Nuclei.jpg\")\n",
    "img2 = img2.filter(ImageFilter.MedianFilter)\n",
    "img2.show()"
   ]
  },
  {
   "cell_type": "markdown",
   "metadata": {},
   "source": [
    "Gaussian Blur"
   ]
  },
  {
   "cell_type": "code",
   "execution_count": null,
   "metadata": {},
   "outputs": [],
   "source": [
    "img2 = Image.open(\"../data/Cell_Nuclei.jpg\")\n",
    "img2 = img2.filter(ImageFilter.GaussianBlur)\n",
    "img2.show()"
   ]
  },
  {
   "cell_type": "markdown",
   "metadata": {},
   "source": [
    "Sharpen"
   ]
  },
  {
   "cell_type": "code",
   "execution_count": null,
   "metadata": {},
   "outputs": [],
   "source": [
    "img2 = Image.open(\"../data/Yeast_Cells.jpg\")\n",
    "img2 = img2.filter(ImageFilter.SHARPEN)\n",
    "img2.show()"
   ]
  },
  {
   "cell_type": "code",
   "execution_count": null,
   "metadata": {},
   "outputs": [],
   "source": [
    "img2 = Image.open(\"../data/Cell_Nuclei.jpg\")\n",
    "img2 = ImageOps.invert(img2)\n",
    "img2.show()"
   ]
  },
  {
   "cell_type": "markdown",
   "metadata": {},
   "source": [
    "### Grayscale images"
   ]
  },
  {
   "cell_type": "code",
   "execution_count": 5,
   "metadata": {},
   "outputs": [],
   "source": [
    "img0 = Image.open(\"../data/NIH3T3/img/dna-0.png\")\n",
    "img1 = Image.open(\"../data/NIH3T3/img/dna-1.png\")\n",
    "img2 = Image.open(\"../data/NIH3T3/img/dna-26.png\")\n",
    "img3 = Image.open(\"../data/NIH3T3/img/dna-27.png\")\n",
    "img4 = Image.open(\"../data/NIH3T3/img/dna-28.png\")\n",
    "img5 = Image.open(\"../data/NIH3T3/img/dna-29.png\")\n",
    "img6 = Image.open(\"../data/NIH3T3/img/dna-30.png\")\n",
    "img7 = Image.open(\"../data/NIH3T3/img/dna-31.png\")\n",
    "img8 = Image.open(\"../data/NIH3T3/img/dna-32.png\")\n",
    "img9 = Image.open(\"../data/NIH3T3/img/dna-33.png\")\n",
    "img10 = Image.open(\"../data/NIH3T3/img/dna-37.png\")\n",
    "img11 = Image.open(\"../data/NIH3T3/img/dna-40.png\")\n",
    "img12 = Image.open(\"../data/NIH3T3/img/dna-42.png\")\n",
    "img13 = Image.open(\"../data/NIH3T3/img/dna-44.png\")\n",
    "img14 = Image.open(\"../data/NIH3T3/img/dna-45.png\")\n",
    "img15 = Image.open(\"../data/NIH3T3/img/dna-46.png\")\n",
    "img16 = Image.open(\"../data/NIH3T3/img/dna-47.png\")\n",
    "img17 = Image.open(\"../data/NIH3T3/img/dna-49.png\")"
   ]
  },
  {
   "cell_type": "code",
   "execution_count": 6,
   "metadata": {},
   "outputs": [],
   "source": [
    "nofilter_list = [img0, img1, img2, img3, img4, img5, img6, img7, img8, img9, img10, img11, img12, img13, img14, img15, img16, img17]\n"
   ]
  },
  {
   "cell_type": "markdown",
   "metadata": {},
   "source": [
    "Median Filter"
   ]
  },
  {
   "cell_type": "code",
   "execution_count": null,
   "metadata": {},
   "outputs": [],
   "source": [
    "median_filter = []\n",
    "for img in nofilter_list:\n",
    "    median = img.filter(ImageFilter.MedianFilter)\n",
    "    median_filter.append(median)"
   ]
  },
  {
   "cell_type": "code",
   "execution_count": null,
   "metadata": {},
   "outputs": [],
   "source": [
    "for i in range(len(median_filter)):\n",
    "    median_filter[i].show()"
   ]
  },
  {
   "cell_type": "markdown",
   "metadata": {},
   "source": [
    "Edge Enhancement"
   ]
  },
  {
   "cell_type": "code",
   "execution_count": null,
   "metadata": {},
   "outputs": [],
   "source": [
    "edgeenhancement_filter = []\n",
    "for img in nofilter_list:\n",
    "    edgeenhancement = img.filter(ImageFilter.EDGE_ENHANCE).filter(ImageFilter.EDGE_ENHANCE_MORE)\n",
    "    edgeenhancement_filter.append(edgeenhancement)"
   ]
  },
  {
   "cell_type": "code",
   "execution_count": null,
   "metadata": {},
   "outputs": [],
   "source": [
    "for i in range(len(edgeenhancement_filter)):\n",
    "    edgeenhancement_filter[i].show()"
   ]
  },
  {
   "cell_type": "markdown",
   "metadata": {},
   "source": [
    "Gauss Filter"
   ]
  },
  {
   "cell_type": "code",
   "execution_count": null,
   "metadata": {},
   "outputs": [],
   "source": [
    "gauss_filter = []\n",
    "for img in nofilter_list:\n",
    "    gauss = img.filter(ImageFilter.GaussianBlur)\n",
    "    gauss_filter.append(gauss)"
   ]
  },
  {
   "cell_type": "code",
   "execution_count": 38,
   "metadata": {},
   "outputs": [],
   "source": [
    "for i in range(len(gauss_filter)):\n",
    "    gauss_filter[i].show()"
   ]
  },
  {
   "cell_type": "markdown",
   "metadata": {},
   "source": [
    "Sharpen"
   ]
  },
  {
   "cell_type": "code",
   "execution_count": null,
   "metadata": {},
   "outputs": [],
   "source": [
    "sharpen_filter = []\n",
    "for img in nofilter_list:\n",
    "    sharpen = img.filter(ImageFilter.SHARPEN)\n",
    "    sharpen_filter.append(sharpen)"
   ]
  },
  {
   "cell_type": "code",
   "execution_count": null,
   "metadata": {},
   "outputs": [],
   "source": [
    "for i in range(len(sharpen_filter)):\n",
    "    sharpen_filter[i].show()"
   ]
  },
  {
   "cell_type": "markdown",
   "metadata": {},
   "source": [
    "Remove Bright Spots"
   ]
  },
  {
   "cell_type": "code",
   "execution_count": 37,
   "metadata": {},
   "outputs": [],
   "source": [
    "def remove_bright_spots(img, t_bright, t_background):\n",
    "    w, h = img.size\n",
    "    for x in range(w):\n",
    "        for y in range(h):\n",
    "            if img.getpixel((x,y)) > t_bright:\n",
    "                img.putpixel((x,y), t_background)\n",
    "    return img\n",
    "            "
   ]
  },
  {
   "cell_type": "code",
   "execution_count": null,
   "metadata": {},
   "outputs": [],
   "source": [
    "brightspots_filter = []\n",
    "for img in nofilter_list:\n",
    "    clip = remove_bright_spots(img, 170)\n",
    "    brightspots_filter.append(clip)"
   ]
  },
  {
   "cell_type": "code",
   "execution_count": null,
   "metadata": {},
   "outputs": [],
   "source": [
    "for i in range(len(brightspots_filter)):\n",
    "    brightspots_filter[i].show()"
   ]
  },
  {
   "cell_type": "markdown",
   "metadata": {},
   "source": [
    "Remove Bright Spots with Border"
   ]
  },
  {
   "cell_type": "code",
   "execution_count": 25,
   "metadata": {},
   "outputs": [],
   "source": [
    "def add_border_variable(img, border_size):\n",
    "    w, h = img.size\n",
    "    array_with_border = np.zeros((h + 2 * border_size, w + 2 * border_size))\n",
    "    array_with_border[border_size:h + border_size, border_size:w + border_size] = img\n",
    "    img_return = Image.fromarray(array_with_border)\n",
    "    return img_return\n",
    "\n",
    "def remove_border_variable(array, border_size):\n",
    "    array = np.delete(array, np.s_[0:border_size], axis=1)\n",
    "    array = np.delete(array, np.s_[0:border_size], axis=0)\n",
    "    array = np.delete(array, np.s_[array.shape[1] - border_size:array.shape[1]], axis=1)\n",
    "    array = np.delete(array, np.s_[array.shape[0] - border_size:array.shape[0]], axis=0)\n",
    "    img_return = Image.fromarray(array)\n",
    "    return img_return"
   ]
  },
  {
   "cell_type": "code",
   "execution_count": 26,
   "metadata": {},
   "outputs": [],
   "source": [
    "def remove_bright_spots_with_border(img, t_bright, t_background, t_border):\n",
    "    img_copy = img\n",
    "    img_copy = add_border_variable(img_copy, t_border)\n",
    "    w, h = img.size\n",
    "    for x in range(w):\n",
    "        for y in range(h):\n",
    "            if img_copy.getpixel((x,y)) > t_bright:\n",
    "                img_copy.putpixel((x,y), t_background)\n",
    "                for border_number in range(1, t_border + 1):\n",
    "                    img_copy.putpixel((x - border_number, y), t_background)\n",
    "                    img_copy.putpixel((x + border_number, y), t_background)\n",
    "                    img_copy.putpixel((x, y - border_number), t_background)\n",
    "                    img_copy.putpixel((x, y + border_number), t_background)\n",
    "    img_copy = remove_border_variable(img_copy, t_border)\n",
    "    return img_copy\n",
    "    "
   ]
  },
  {
   "cell_type": "code",
   "execution_count": 45,
   "metadata": {},
   "outputs": [],
   "source": [
    "img8_clip = remove_bright_spots(img8, 200, 40)\n",
    "img8.show()\n",
    "remove_bright_spots_with_border(img8_clip, 150, 40, 10).show()"
   ]
  }
 ],
 "metadata": {
  "kernelspec": {
   "display_name": "Python 3.10.4 ('environment')",
   "language": "python",
   "name": "python3"
  },
  "language_info": {
   "codemirror_mode": {
    "name": "ipython",
    "version": 3
   },
   "file_extension": ".py",
   "mimetype": "text/x-python",
   "name": "python",
   "nbconvert_exporter": "python",
   "pygments_lexer": "ipython3",
   "version": "3.10.4"
  },
  "orig_nbformat": 4,
  "vscode": {
   "interpreter": {
    "hash": "5b83ce1c35a2acaa5544e45d923f82fc98e047241fe593f03a382798a2403f36"
   }
  }
 },
 "nbformat": 4,
 "nbformat_minor": 2
}
