{
 "cells": [
  {
   "cell_type": "code",
   "execution_count": 3,
   "metadata": {},
   "outputs": [],
   "source": [
    "import numpy as np\n",
    "from matplotlib.image import imread"
   ]
  },
  {
   "cell_type": "code",
   "execution_count": 6,
   "metadata": {},
   "outputs": [
    {
     "name": "stdout",
     "output_type": "stream",
     "text": [
      "0.0\n"
     ]
    }
   ],
   "source": [
    "def dice_score(pred, gt):\n",
    "    \"\"\"\n",
    "    This function calculates the similarity between two arrays.\n",
    "    :param pred: an array of predicted labels\n",
    "    :param gt: the ground truth of this array\n",
    "    :return: a value between 0 and 1, describing the similarity between those arrays. 1 is the dice score of\n",
    "    similar arrays.\n",
    "    \"\"\"\n",
    "    dice = np.sum(pred[gt == pred]) * 2.0 / (np.sum(gt) + np.sum(pred))\n",
    "    print(dice)\n",
    "\n",
    "\n",
    "if __name__ == '__main__':\n",
    "    img1 = np.asarray(imread(\"../data/NIH3T3/img/dna-0.png\"))\n",
    "    img2 = np.asarray(imread('../data/NIH3T3/gt/0.png'))\n",
    "    dice_score(img1, img2)"
   ]
  }
 ],
 "metadata": {
  "interpreter": {
   "hash": "9e1a7d2f88ef582704e45252eb30b63eae9d2c037b334948b0bda2fc4648bf73"
  },
  "kernelspec": {
   "display_name": "Python 3.9.12 ('environment')",
   "language": "python",
   "name": "python3"
  },
  "language_info": {
   "codemirror_mode": {
    "name": "ipython",
    "version": 3
   },
   "file_extension": ".py",
   "mimetype": "text/x-python",
   "name": "python",
   "nbconvert_exporter": "python",
   "pygments_lexer": "ipython3",
   "version": "3.9.12"
  },
  "orig_nbformat": 4
 },
 "nbformat": 4,
 "nbformat_minor": 2
}
