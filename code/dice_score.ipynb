{
 "cells": [
  {
   "cell_type": "code",
   "execution_count": 2,
   "metadata": {},
   "outputs": [
    {
     "name": "stdout",
     "output_type": "stream",
     "text": [
      "Using matplotlib backend: <object object at 0x00000243BE03A5F0>\n",
      "%pylab is deprecated, use %matplotlib inline and import the required libraries.\n",
      "Populating the interactive namespace from numpy and matplotlib\n"
     ]
    }
   ],
   "source": [
    "%pylab\n",
    "%matplotlib inline"
   ]
  },
  {
   "cell_type": "code",
   "execution_count": 3,
   "metadata": {},
   "outputs": [],
   "source": [
    "import numpy as np\n",
    "from matplotlib.image import imread"
   ]
  },
  {
   "cell_type": "markdown",
   "metadata": {},
   "source": [
    "Der Code funktioniert irgendwie nicht gut, da kommen immer mega kleine Werte raus und ich weiß nicht warum..."
   ]
  },
  {
   "cell_type": "code",
   "execution_count": 20,
   "metadata": {},
   "outputs": [
    {
     "name": "stdout",
     "output_type": "stream",
     "text": [
      "Dice similarity score is 3.360241575383402e-06\n"
     ]
    }
   ],
   "source": [
    "def dice_score(pred, gt):\n",
    "    \"\"\"\n",
    "    This function calculates the similarity between two arrays.\n",
    "    :param pred: an array of predicted labels\n",
    "    :param gt: the ground truth of this array\n",
    "    :return: a value between 0 and 1, describing the similarity between those arrays. 1 is the dice score of\n",
    "    similar arrays.\n",
    "    \"\"\"\n",
    "    dice = np.sum(pred[gt == pred]) * 2.0 / (np.sum(gt) + np.sum(pred))\n",
    "    print(\"Dice similarity score is {}\".format(dice))\n",
    "\n",
    "\n",
    "if __name__ == '__main__':\n",
    "    img1 = np.asarray(imread(\"../data/test_out2.png\"))\n",
    "    img2 = np.asarray(imread('../data/Cell_Nuclei_gt_new2.jpg'))\n",
    "    dice_score(img1, img2)"
   ]
  },
  {
   "cell_type": "markdown",
   "metadata": {},
   "source": [
    "Das funktioniert besser :) (naja, irgendwie ist der Code ja doch komisch....)"
   ]
  },
  {
   "cell_type": "code",
   "execution_count": 26,
   "metadata": {},
   "outputs": [
    {
     "name": "stdout",
     "output_type": "stream",
     "text": [
      "Dice Similarity: 0.9508734266193473\n"
     ]
    }
   ],
   "source": [
    "import cv2\n",
    "import numpy as np\n",
    "\n",
    "#load images\n",
    "y_pred = cv2.imread('../data/test_out2.png')\n",
    "y_true = cv2.imread('../data/Cell_Nuclei_gt_new2.jpg') \n",
    "\n",
    "# Dice similarity function\n",
    "def dice(pred, true, k ):\n",
    "    intersection = np.sum(pred[true==k]) * 2.0\n",
    "    dice = intersection / (np.sum(pred) + np.sum(true))\n",
    "    return dice\n",
    "\n",
    "dice_score = dice(y_pred, y_true, 255) #255: white, 0: black\n",
    "print (\"Dice Similarity: {}\".format(dice_score))"
   ]
  },
  {
   "cell_type": "markdown",
   "metadata": {},
   "source": [
    "An den Histogrammen sieht man, dass es in den gt images graue Pixel gibt -> jetzt sieht man bei den neuen gt-Images, dass die grauen Pixel weg sind juhuuu :)"
   ]
  },
  {
   "cell_type": "code",
   "execution_count": 17,
   "metadata": {},
   "outputs": [
    {
     "data": {
      "text/plain": [
       "(array([1635417.,       0.,       0.,       0.,       0.,       0.,\n",
       "              0.,       0.,       0., 1510311.]),\n",
       " array([  0. ,  25.5,  51. ,  76.5, 102. , 127.5, 153. , 178.5, 204. ,\n",
       "        229.5, 255. ]),\n",
       " <BarContainer object of 10 artists>)"
      ]
     },
     "execution_count": 17,
     "metadata": {},
     "output_type": "execute_result"
    },
    {
     "data": {
      "image/png": "[encoded data removed]",
      "text/plain": [
       "<Figure size 432x288 with 1 Axes>"
      ]
     },
     "metadata": {
      "needs_background": "light"
     },
     "output_type": "display_data"
    }
   ],
   "source": [
    "y_pred = cv2.imread('../data/test_out2.png')\n",
    "y_true = cv2.imread('../data/Yeast_Cells_gt_new.jpg') \n",
    "\n",
    "hist(y_pred.flatten())\n"
   ]
  },
  {
   "cell_type": "code",
   "execution_count": null,
   "metadata": {},
   "outputs": [
    {
     "data": {
      "text/plain": [
       "(array([2.873970e+06, 0.000000e+00, 0.000000e+00, 0.000000e+00,\n",
       "        2.100000e+01, 1.140000e+02, 0.000000e+00, 0.000000e+00,\n",
       "        0.000000e+00, 1.445895e+06]),\n",
       " array([  0. ,  25.5,  51. ,  76.5, 102. , 127.5, 153. , 178.5, 204. ,\n",
       "        229.5, 255. ]),\n",
       " <BarContainer object of 10 artists>)"
      ]
     },
     "execution_count": 6,
     "metadata": {},
     "output_type": "execute_result"
    },
    {
     "data": {
      "image/png": "[encoded data removed]",
      "text/plain": [
       "<Figure size 432x288 with 1 Axes>"
      ]
     },
     "metadata": {
      "needs_background": "light"
     },
     "output_type": "display_data"
    }
   ],
   "source": [
    "hist(y_true.flatten())"
   ]
  },
  {
   "cell_type": "markdown",
   "metadata": {},
   "source": [
    "Version that should actually work :^)"
   ]
  },
  {
   "cell_type": "code",
   "execution_count": 56,
   "metadata": {},
   "outputs": [],
   "source": [
    "def dice1(gt, img):\n",
    "    tp = 0\n",
    "    tn = 0\n",
    "    fp = 0\n",
    "    fn = 0\n",
    "    h = gt.shape[0]\n",
    "    w = gt.shape[1]\n",
    "    for i, j in np.ndindex((h, w)):\n",
    "        if gt[i, j][0] == 255:\n",
    "            if img[i, j][0] == 255:\n",
    "                tp += 1\n",
    "            else:\n",
    "                fn += 1\n",
    "        else:\n",
    "            if img[i, j][0] == 255:\n",
    "                fp += 1\n",
    "            else:\n",
    "                tn += 1\n",
    "    dsc = 2* tp / (2*tp + fn + fp)\n",
    "    return dsc"
   ]
  },
  {
   "cell_type": "code",
   "execution_count": 57,
   "metadata": {},
   "outputs": [
    {
     "data": {
      "text/plain": [
       "0.778036280703594"
      ]
     },
     "execution_count": 57,
     "metadata": {},
     "output_type": "execute_result"
    }
   ],
   "source": [
    "y_pred = cv2.imread('../data/test_out2.png')\n",
    "y_true = cv2.imread('../data/Yeast_Cells_gt_new.jpg') \n",
    "dice1(y_true, y_pred)"
   ]
  }
 ],
 "metadata": {
  "interpreter": {
   "hash": "9e1a7d2f88ef582704e45252eb30b63eae9d2c037b334948b0bda2fc4648bf73"
  },
  "kernelspec": {
   "display_name": "Python 3.9.12 ('environment')",
   "language": "python",
   "name": "python3"
  },
  "language_info": {
   "codemirror_mode": {
    "name": "ipython",
    "version": 3
   },
   "file_extension": ".py",
   "mimetype": "text/x-python",
   "name": "python",
   "nbconvert_exporter": "python",
   "pygments_lexer": "ipython3",
   "version": "3.9.12"
  },
  "orig_nbformat": 4
 },
 "nbformat": 4,
 "nbformat_minor": 2
}
