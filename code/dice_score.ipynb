{
 "cells": [
  {
   "cell_type": "code",
   "execution_count": 4,
   "metadata": {},
   "outputs": [
    {
     "name": "stdout",
     "output_type": "stream",
     "text": [
      "Using matplotlib backend: <object object at 0x00000204A6005600>\n",
      "%pylab is deprecated, use %matplotlib inline and import the required libraries.\n",
      "Populating the interactive namespace from numpy and matplotlib\n"
     ]
    }
   ],
   "source": [
    "%pylab\n",
    "%matplotlib inline"
   ]
  },
  {
   "cell_type": "code",
   "execution_count": 8,
   "metadata": {},
   "outputs": [],
   "source": [
    "import numpy as np\n",
    "from matplotlib.image import imread"
   ]
  },
  {
   "cell_type": "markdown",
   "metadata": {},
   "source": [
    "Der Code funktioniert irgendwie nicht gut, da kommen immer mega kleine Werte raus und ich weiß nicht warum..."
   ]
  },
  {
   "cell_type": "code",
   "execution_count": 6,
   "metadata": {},
   "outputs": [
    {
     "name": "stdout",
     "output_type": "stream",
     "text": [
      "Dice similarity score is 0.0\n"
     ]
    },
    {
     "name": "stderr",
     "output_type": "stream",
     "text": [
      "C:\\Users\\emi28\\AppData\\Local\\Temp\\ipykernel_6288\\2620033171.py:9: DeprecationWarning: elementwise comparison failed; this will raise an error in the future.\n",
      "  dice = np.sum(pred[gt == pred]) * 2.0 / (np.sum(gt) + np.sum(pred))\n"
     ]
    }
   ],
   "source": [
    "def dice_score(pred, gt):\n",
    "    \"\"\"\n",
    "    This function calculates the similarity between two arrays.\n",
    "    :param pred: an array of predicted labels\n",
    "    :param gt: the ground truth of this array\n",
    "    :return: a value between 0 and 1, describing the similarity between those arrays. 1 is the dice score of\n",
    "    similar arrays.\n",
    "    \"\"\"\n",
    "    dice = np.sum(pred[gt == pred]) * 2.0 / (np.sum(gt) + np.sum(pred))\n",
    "    print(\"Dice similarity score is {}\".format(dice))\n",
    "\n",
    "\n",
    "if __name__ == '__main__':\n",
    "    img1 = np.asarray(imread(\"../data/test_out2.png\"))\n",
    "    img2 = np.asarray(imread('../data/Cell_Nuclei_gt_new2.jpg'))\n",
    "    dice_score(img1, img2)"
   ]
  },
  {
   "cell_type": "markdown",
   "metadata": {},
   "source": [
    "Das funktioniert besser :) (naja, irgendwie ist der Code ja doch komisch....)"
   ]
  },
  {
   "cell_type": "code",
   "execution_count": 9,
   "metadata": {},
   "outputs": [
    {
     "ename": "IndexError",
     "evalue": "boolean index did not match indexed array along dimension 0; dimension is 1200 but corresponding boolean dimension is 1024",
     "output_type": "error",
     "traceback": [
      "\u001b[1;31m---------------------------------------------------------------------------\u001b[0m",
      "\u001b[1;31mIndexError\u001b[0m                                Traceback (most recent call last)",
      "\u001b[1;32mc:\\Users\\emi28\\OneDrive\\Desktop\\Uni4real\\Semester 4\\Bioinformatik\\GitHub\\2022-topic-01-team-05\\code\\dice_score.ipynb Cell 6'\u001b[0m in \u001b[0;36m<cell line: 14>\u001b[1;34m()\u001b[0m\n\u001b[0;32m     <a href='vscode-notebook-cell:/c%3A/Users/emi28/OneDrive/Desktop/Uni4real/Semester%204/Bioinformatik/GitHub/2022-topic-01-team-05/code/dice_score.ipynb#ch0000005?line=10'>11</a>\u001b[0m     dice \u001b[39m=\u001b[39m intersection \u001b[39m/\u001b[39m (np\u001b[39m.\u001b[39msum(pred) \u001b[39m+\u001b[39m np\u001b[39m.\u001b[39msum(true))\n\u001b[0;32m     <a href='vscode-notebook-cell:/c%3A/Users/emi28/OneDrive/Desktop/Uni4real/Semester%204/Bioinformatik/GitHub/2022-topic-01-team-05/code/dice_score.ipynb#ch0000005?line=11'>12</a>\u001b[0m     \u001b[39mreturn\u001b[39;00m dice\n\u001b[1;32m---> <a href='vscode-notebook-cell:/c%3A/Users/emi28/OneDrive/Desktop/Uni4real/Semester%204/Bioinformatik/GitHub/2022-topic-01-team-05/code/dice_score.ipynb#ch0000005?line=13'>14</a>\u001b[0m dice_score \u001b[39m=\u001b[39m dice(y_pred, y_true, \u001b[39m255\u001b[39;49m) \u001b[39m#255: white, 0: black\u001b[39;00m\n\u001b[0;32m     <a href='vscode-notebook-cell:/c%3A/Users/emi28/OneDrive/Desktop/Uni4real/Semester%204/Bioinformatik/GitHub/2022-topic-01-team-05/code/dice_score.ipynb#ch0000005?line=14'>15</a>\u001b[0m \u001b[39mprint\u001b[39m (\u001b[39m\"\u001b[39m\u001b[39mDice Similarity: \u001b[39m\u001b[39m{}\u001b[39;00m\u001b[39m\"\u001b[39m\u001b[39m.\u001b[39mformat(dice_score))\n",
      "\u001b[1;32mc:\\Users\\emi28\\OneDrive\\Desktop\\Uni4real\\Semester 4\\Bioinformatik\\GitHub\\2022-topic-01-team-05\\code\\dice_score.ipynb Cell 6'\u001b[0m in \u001b[0;36mdice\u001b[1;34m(pred, true, k)\u001b[0m\n\u001b[0;32m      <a href='vscode-notebook-cell:/c%3A/Users/emi28/OneDrive/Desktop/Uni4real/Semester%204/Bioinformatik/GitHub/2022-topic-01-team-05/code/dice_score.ipynb#ch0000005?line=8'>9</a>\u001b[0m \u001b[39mdef\u001b[39;00m \u001b[39mdice\u001b[39m(pred, true, k ):\n\u001b[1;32m---> <a href='vscode-notebook-cell:/c%3A/Users/emi28/OneDrive/Desktop/Uni4real/Semester%204/Bioinformatik/GitHub/2022-topic-01-team-05/code/dice_score.ipynb#ch0000005?line=9'>10</a>\u001b[0m     intersection \u001b[39m=\u001b[39m np\u001b[39m.\u001b[39msum(pred[true\u001b[39m==\u001b[39;49mk]) \u001b[39m*\u001b[39m \u001b[39m2.0\u001b[39m\n\u001b[0;32m     <a href='vscode-notebook-cell:/c%3A/Users/emi28/OneDrive/Desktop/Uni4real/Semester%204/Bioinformatik/GitHub/2022-topic-01-team-05/code/dice_score.ipynb#ch0000005?line=10'>11</a>\u001b[0m     dice \u001b[39m=\u001b[39m intersection \u001b[39m/\u001b[39m (np\u001b[39m.\u001b[39msum(pred) \u001b[39m+\u001b[39m np\u001b[39m.\u001b[39msum(true))\n\u001b[0;32m     <a href='vscode-notebook-cell:/c%3A/Users/emi28/OneDrive/Desktop/Uni4real/Semester%204/Bioinformatik/GitHub/2022-topic-01-team-05/code/dice_score.ipynb#ch0000005?line=11'>12</a>\u001b[0m     \u001b[39mreturn\u001b[39;00m dice\n",
      "\u001b[1;31mIndexError\u001b[0m: boolean index did not match indexed array along dimension 0; dimension is 1200 but corresponding boolean dimension is 1024"
     ]
    }
   ],
   "source": [
    "import cv2\n",
    "import numpy as np\n",
    "\n",
    "#load images\n",
    "y_pred = cv2.imread('../data/test_out2.png')\n",
    "y_true = cv2.imread('../data/Cell_Nuclei_gt_new2.jpg') \n",
    "\n",
    "# Dice similarity function\n",
    "def dice(pred, true, k ):\n",
    "    intersection = np.sum(pred[true==k]) * 2.0\n",
    "    dice = intersection / (np.sum(pred) + np.sum(true))\n",
    "    return dice\n",
    "\n",
    "dice_score = dice(y_pred, y_true, 255) #255: white, 0: black\n",
    "print (\"Dice Similarity: {}\".format(dice_score))"
   ]
  },
  {
   "cell_type": "markdown",
   "metadata": {},
   "source": [
    "An den Histogrammen sieht man, dass es in den gt images graue Pixel gibt -> jetzt sieht man bei den neuen gt-Images, dass die grauen Pixel weg sind juhuuu :)"
   ]
  },
  {
   "cell_type": "code",
   "execution_count": 15,
   "metadata": {},
   "outputs": [
    {
     "data": {
      "text/plain": [
       "(array([2082516.,       0.,       0.,       0.,       0.,       0.,\n",
       "              0.,       0.,       0., 2237484.]),\n",
       " array([  0. ,  25.5,  51. ,  76.5, 102. , 127.5, 153. , 178.5, 204. ,\n",
       "        229.5, 255. ]),\n",
       " <BarContainer object of 10 artists>)"
      ]
     },
     "execution_count": 15,
     "metadata": {},
     "output_type": "execute_result"
    },
    {
     "data": {
      "image/png": "[encoded data removed]",
      "text/plain": [
       "<Figure size 432x288 with 1 Axes>"
      ]
     },
     "metadata": {
      "needs_background": "light"
     },
     "output_type": "display_data"
    }
   ],
   "source": [
    "y_pred = cv2.imread('../data/test_out2.png')\n",
    "y_true = cv2.imread('../data/Cell_Nuclei_gt_new2.jpg') \n",
    "\n",
    "hist(y_pred.flatten())\n"
   ]
  },
  {
   "cell_type": "code",
   "execution_count": 16,
   "metadata": {},
   "outputs": [
    {
     "data": {
      "text/plain": [
       "(array([1.576155e+06, 0.000000e+00, 3.000000e+00, 0.000000e+00,\n",
       "        0.000000e+00, 0.000000e+00, 0.000000e+00, 6.000000e+00,\n",
       "        3.000000e+00, 1.569561e+06]),\n",
       " array([  0. ,  25.5,  51. ,  76.5, 102. , 127.5, 153. , 178.5, 204. ,\n",
       "        229.5, 255. ]),\n",
       " <BarContainer object of 10 artists>)"
      ]
     },
     "execution_count": 16,
     "metadata": {},
     "output_type": "execute_result"
    },
    {
     "data": {
      "image/png": "[encoded data removed]",
      "text/plain": [
       "<Figure size 432x288 with 1 Axes>"
      ]
     },
     "metadata": {
      "needs_background": "light"
     },
     "output_type": "display_data"
    }
   ],
   "source": [
    "hist(y_true.flatten())"
   ]
  },
  {
   "cell_type": "markdown",
   "metadata": {},
   "source": [
    "Version that should actually work :^)"
   ]
  },
  {
   "cell_type": "code",
   "execution_count": 11,
   "metadata": {},
   "outputs": [],
   "source": [
    "def dice_foreground(gt, img):\n",
    "    tp = 0\n",
    "    tn = 0\n",
    "    fp = 0\n",
    "    fn = 0\n",
    "    h = gt.shape[0]\n",
    "    w = gt.shape[1]\n",
    "    for i, j in np.ndindex((h, w)):\n",
    "        if gt[i, j][0] == 255:\n",
    "            if img[i, j][0] == 255:\n",
    "                tp += 1\n",
    "            else:\n",
    "                fn += 1\n",
    "        else:\n",
    "            if img[i, j][0] == 255:\n",
    "                fp += 1\n",
    "            else:\n",
    "                tn += 1\n",
    "    dsc = 2* tp / (2*tp + fn + fp)\n",
    "    return print(\"Dice similarity score is {}\".format(dsc))"
   ]
  },
  {
   "cell_type": "code",
   "execution_count": 13,
   "metadata": {},
   "outputs": [],
   "source": [
    "def dice_background(gt, img):\n",
    "    tp = 0\n",
    "    tn = 0\n",
    "    fp = 0\n",
    "    fn = 0\n",
    "    h = gt.shape[0]\n",
    "    w = gt.shape[1]\n",
    "    for i, j in np.ndindex((h, w)):\n",
    "        if gt[i, j][0] == 0:\n",
    "            if img[i, j][0] == 0:\n",
    "                tp += 1\n",
    "            else:\n",
    "                fn += 1\n",
    "        else:\n",
    "            if img[i, j][0] == 0:\n",
    "                fp += 1\n",
    "            else:\n",
    "                tn += 1\n",
    "    dsc = 2* tp / (2*tp + fn + fp)\n",
    "    return print(\"Dice similarity score is {}\".format(dsc))"
   ]
  },
  {
   "cell_type": "code",
   "execution_count": 12,
   "metadata": {},
   "outputs": [
    {
     "name": "stdout",
     "output_type": "stream",
     "text": [
      "Dice similarity score is 0.778036280703594\n"
     ]
    }
   ],
   "source": [
    "y_pred = cv2.imread('../data/test_out2.png')\n",
    "y_true = cv2.imread('../data/Yeast_Cells_gt_new.jpg') \n",
    "dice_foreground(y_true, y_pred)\n"
   ]
  },
  {
   "cell_type": "code",
   "execution_count": 14,
   "metadata": {},
   "outputs": [
    {
     "name": "stdout",
     "output_type": "stream",
     "text": [
      "Dice similarity score is 0.8438980862605127\n"
     ]
    }
   ],
   "source": [
    "dice_background(y_true, y_pred)"
   ]
  }
 ],
 "metadata": {
  "interpreter": {
   "hash": "9e1a7d2f88ef582704e45252eb30b63eae9d2c037b334948b0bda2fc4648bf73"
  },
  "kernelspec": {
   "display_name": "Python 3.9.12 ('environment')",
   "language": "python",
   "name": "python3"
  },
  "language_info": {
   "codemirror_mode": {
    "name": "ipython",
    "version": 3
   },
   "file_extension": ".py",
   "mimetype": "text/x-python",
   "name": "python",
   "nbconvert_exporter": "python",
   "pygments_lexer": "ipython3",
   "version": "3.9.12"
  },
  "orig_nbformat": 4
 },
 "nbformat": 4,
 "nbformat_minor": 2
}
