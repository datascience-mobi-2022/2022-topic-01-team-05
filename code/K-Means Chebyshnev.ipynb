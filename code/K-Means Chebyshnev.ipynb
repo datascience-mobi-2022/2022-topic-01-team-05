{
 "cells": [
  {
   "cell_type": "code",
   "execution_count": 8,
   "metadata": {},
   "outputs": [],
   "source": [
    "import numpy \n",
    "import math\n",
    "import random\n",
    "import operator\n",
    "from PIL import Image\n"
   ]
  },
  {
   "cell_type": "code",
   "execution_count": 9,
   "metadata": {},
   "outputs": [],
   "source": [
    "def calculate_distance(a,b):\n",
    "    a = numpy.array(a)\n",
    "    b = numpy.array(b)\n",
    "    distance = max(abs(a-b))\n",
    "    return distance\n",
    "\n",
    "def initiate_centroids(K,image):\n",
    "    imagePixels = list(image.getdata())\n",
    "    initial_centers = list()\n",
    "    for x in range(K):\n",
    "        initial_centers.append(list(imagePixels[random.randint(0,len(imagePixels)-1)]))\n",
    "    return initial_centers\n",
    "\n",
    "def findClosestCentroids(centroids, image):\n",
    "    \n",
    "    imagePixels = list(image.getdata())\n",
    "    assigned_centroid = []\n",
    "    for p in imagePixels:\n",
    "        distance = []\n",
    "        for c in centroids:\n",
    "            distance.append(calculate_distance(c, p))\n",
    "        assigned_centroid.append(numpy.argmin(distance))\n",
    "    return assigned_centroid\n",
    "\n",
    "def responsibility(centroids, image):\n",
    "    imagePixels = list(image.getdata())\n",
    "\n",
    "    x = len(imagePixels)\n",
    "\n",
    "    k = len(centroids)\n",
    "\n",
    "    d = len(centroids[0])\n",
    "\n",
    "    matrix = numpy.zeros((x,k,d))\n",
    "\n",
    "    for p in range(x):\n",
    "\n",
    "        distance = []\n",
    "\n",
    "        for c in centroids:\n",
    "\n",
    "            distance.append(calculate_distance(imagePixels[p], c))\n",
    "        \n",
    "        matrix[p,numpy.argmin(distance)] = [1]*d\n",
    "    return matrix\n",
    "\n",
    "def clustermeans(responsibility, image):\n",
    "\n",
    "    Pixelarray = numpy.array(list(image.getdata()))\n",
    "\n",
    "    clusters = len(responsibility[1])\n",
    "    \n",
    "    new_centroids = []\n",
    "\n",
    "    for k in range(clusters):\n",
    "        new_centroids.append(list(sum(responsibility[:,k] * Pixelarray, axis = 0)/sum(responsibility[:,k,0])))\n",
    "    return new_centroids\n",
    "\n",
    "def k_means2(image, K, iterations):\n",
    "    \n",
    "    centroids = initiate_centroids(K, image)\n",
    "\n",
    "    new_centroids = []\n",
    "    \n",
    "    i = 0\n",
    "\n",
    "    while i < iterations:  # Maximum of 6 iterations\n",
    "\n",
    "        resmat = responsibility(centroids,image) \n",
    "\n",
    "        new_centroids = clustermeans(resmat, image) # New Centroids\n",
    "\n",
    "        if new_centroids == centroids:  # End algortihm, if centroids don't change\n",
    "            break\n",
    "        \n",
    "        centroids = new_centroids\n",
    "\n",
    "        i += 1\n",
    "        \n",
    "    final_assignment = findClosestCentroids(centroids, image)\n",
    "\n",
    "\n",
    "\n",
    "    rgb_array = numpy.array([[255,255,255]]*len(final_assignment))\n",
    "    for i in range(3):\n",
    "        rgb_array[:,i] = rgb_array[:,i]*final_assignment/max(final_assignment)\n",
    "    rgb_array\n",
    "    rgb_list = []\n",
    "    for i in range(len(rgb_array)):\n",
    "        rgb_list.append(tuple(rgb_array[i]))\n",
    "    image_out = Image.new(\"RGB\",image.size)\n",
    "    image_out.putdata(rgb_list)\n",
    "    image_out\n",
    "\n",
    "    return image_out  # Assignment list can be used to create picture"
   ]
  },
  {
   "cell_type": "code",
   "execution_count": 12,
   "metadata": {},
   "outputs": [],
   "source": [
    "image = Image.open(\"../data/Cell_Nuclei.jpg\",'r')\n",
    "\n",
    "segmented_image = k_means2(image, 2, 30)\n",
    "\n",
    "segmented_image # still somewhat inconsistent"
   ]
  },
  {
   "cell_type": "code",
   "execution_count": 11,
   "metadata": {},
   "outputs": [],
   "source": [
    "segmented_image.save(\"../data/RGB_Kmeans_CN_Chebyshnev_30it.tiff\")"
   ]
  }
 ],
 "metadata": {
  "kernelspec": {
   "display_name": "Python 3.9.7 ('base')",
   "language": "python",
   "name": "python3"
  },
  "language_info": {
   "codemirror_mode": {
    "name": "ipython",
    "version": 3
   },
   "file_extension": ".py",
   "mimetype": "text/x-python",
   "name": "python",
   "nbconvert_exporter": "python",
   "pygments_lexer": "ipython3",
   "version": "3.9.7"
  },
  "orig_nbformat": 4,
  "vscode": {
   "interpreter": {
    "hash": "42e27f01b61b9db9b8e37ef119477c1140e145cf056c3c5bd3af721bcc49baa3"
   }
  }
 },
 "nbformat": 4,
 "nbformat_minor": 2
}
