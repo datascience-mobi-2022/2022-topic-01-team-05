{
 "cells": [
  {
   "cell_type": "code",
   "execution_count": 3,
   "metadata": {},
   "outputs": [
    {
     "ename": "NameError",
     "evalue": "name 'get_centroids' is not defined",
     "output_type": "error",
     "traceback": [
      "\u001b[1;31m---------------------------------------------------------------------------\u001b[0m",
      "\u001b[1;31mNameError\u001b[0m                                 Traceback (most recent call last)",
      "\u001b[1;32mc:\\Users\\Cedric\\Documents\\GitHub\\2022-topic-01-team-05\\code\\Temporary.ipynb Cell 1'\u001b[0m in \u001b[0;36m<cell line: 1>\u001b[1;34m()\u001b[0m\n\u001b[1;32m----> <a href='vscode-notebook-cell:/c%3A/Users/Cedric/Documents/GitHub/2022-topic-01-team-05/code/Temporary.ipynb#ch0000001?line=0'>1</a>\u001b[0m assignment_list \u001b[39m=\u001b[39m get_centroids\n\u001b[0;32m      <a href='vscode-notebook-cell:/c%3A/Users/Cedric/Documents/GitHub/2022-topic-01-team-05/code/Temporary.ipynb#ch0000001?line=1'>2</a>\u001b[0m c\u001b[39m=\u001b[39m\u001b[39m1\u001b[39m\n\u001b[0;32m      <a href='vscode-notebook-cell:/c%3A/Users/Cedric/Documents/GitHub/2022-topic-01-team-05/code/Temporary.ipynb#ch0000001?line=2'>3</a>\u001b[0m image\u001b[39m=\u001b[39mImage\u001b[39m.\u001b[39mopen(\u001b[39m\"\u001b[39m\u001b[39m../data/Cell_Nuclei_cut.jpg\u001b[39m\u001b[39m\"\u001b[39m,\u001b[39m'\u001b[39m\u001b[39mr\u001b[39m\u001b[39m'\u001b[39m)\n",
      "\u001b[1;31mNameError\u001b[0m: name 'get_centroids' is not defined"
     ]
    }
   ],
   "source": [
    "assignment_list = get_centroids\n",
    "c=1\n",
    "image=Image.open(\"../data/Cell_Nuclei_cut.jpg\",'r')\n",
    "\n",
    "\n",
    "\n",
    "cluster_specific_assignment_list = assignment_list #initiate the cluster specific assignment list\n",
    "\n",
    "for i in range(len(assignment_list)):\n",
    "    if assignment_list[i] == c:\n",
    "        cluster_specific_assignment_list[i] = 1  #set to 1 if pixel is assigned\n",
    "    else:\n",
    "        cluster_specific_assignment_list[i] = 0  #set to 0 if pixel is not assigned\n",
    "\n",
    "\n",
    "imagePixels = numpy.array(image.getdata()) #loading the Pixels\n",
    "clusterPixels = imagePixels[:,0]*cluster_specific_assignment_list\n",
    "cluster_specific_assignment_list"
   ]
  },
  {
   "cell_type": "code",
   "execution_count": null,
   "metadata": {},
   "outputs": [],
   "source": [
    "def mean_of_cluster(image, assignment_list,c):      #c is the centroid, for which the average is calculated\n",
    "\n",
    "\n",
    "     cluster_specific_assignment_list = assignment_list #initiate the cluster specific assignment list\n",
    "\n",
    "     for i in range(len(assignment_list)):\n",
    "          if assignment_list[i] == c:\n",
    "                    cluster_specific_assignment_list[i] = 1  #set to 1 if pixel is assigned\n",
    "          if assignment_list[i] != c:\n",
    "                    cluster_specific_assignment_list[i] = 0  #set to 0 if pixel is not assigned\n",
    "\n",
    "\n",
    "     imagePixels = numpy.array(image.getdata()) #loading the Pixels\n",
    "     clusterPixels = imagePixels*cluster_specific_assignment_list\n",
    "\n",
    "\n",
    "\n",
    "     \n",
    "     "
   ]
  }
 ],
 "metadata": {
  "interpreter": {
   "hash": "54b7fcf1bb44cc75fc95c5b2a09216d96d24708150346c5f6bdce168163bfc85"
  },
  "kernelspec": {
   "display_name": "Python 3.10.4 ('environment')",
   "language": "python",
   "name": "python3"
  },
  "language_info": {
   "codemirror_mode": {
    "name": "ipython",
    "version": 3
   },
   "file_extension": ".py",
   "mimetype": "text/x-python",
   "name": "python",
   "nbconvert_exporter": "python",
   "pygments_lexer": "ipython3",
   "version": "3.10.4"
  },
  "orig_nbformat": 4
 },
 "nbformat": 4,
 "nbformat_minor": 2
}
