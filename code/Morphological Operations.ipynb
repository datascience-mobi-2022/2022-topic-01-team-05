{
 "cells": [
  {
   "cell_type": "code",
   "execution_count": 9,
   "metadata": {},
   "outputs": [],
   "source": [
    "import cv2\n",
    "import numpy as np"
   ]
  },
  {
   "cell_type": "markdown",
   "metadata": {},
   "source": [
    "Erosion & Dilation (sind das Gegenteil voneinander) \n",
    "Erosion: Foreground wird Background (weiß wird schwarz)\n",
    "Dilation: andersum\n",
    "\n",
    "Bei Cell Nuclei muss man \"dilate\", weil die Zellkerne Löcher haben bzw. am Rand irgendwie nicht konsistent sondern punkförmig sind -> man braucht mehr weiß\n",
    "Bei Yeast Cells muss man \"erode\", weil auch die Übergänge und \"Glow\" von den Hefezellen werden als Zellen geclustert  -> man braucht mehr schwarz\n",
    "\n",
    "Ein Kernel muss erstellt werden. \n",
    "Ich habe es ausprobiert, bei Cell Nuclei sollte (5,5) ausreichen, weil das Clustering schon gut klappt (bei LAB zumindest). Bei Hefezellen hatte ich den besten Dice Score mit (50,50)-Kernel."
   ]
  },
  {
   "cell_type": "code",
   "execution_count": 10,
   "metadata": {},
   "outputs": [],
   "source": [
    "img = cv2.imread(\"../data/LAB_Kmeans_YC.tiff\")\n",
    "kernel = np.ones((50,50), np.uint8)\n",
    "erodila  = cv2.erode(img, kernel, iterations= 1)"
   ]
  },
  {
   "cell_type": "code",
   "execution_count": 11,
   "metadata": {},
   "outputs": [],
   "source": [
    "def dice_foreground(gt, img):\n",
    "    tp = 0\n",
    "    tn = 0\n",
    "    fp = 0\n",
    "    fn = 0\n",
    "    h = gt.shape[0]\n",
    "    w = gt.shape[1]\n",
    "    for i, j in np.ndindex((h, w)):\n",
    "        if gt[i, j][0] == 255:\n",
    "            if img[i, j][0] == 255:\n",
    "                tp += 1\n",
    "            else:\n",
    "                fn += 1\n",
    "        else:\n",
    "            if img[i, j][0] == 255:\n",
    "                fp += 1\n",
    "            else:\n",
    "                tn += 1\n",
    "    dsc = 2* tp / (2*tp + fn + fp)\n",
    "    return print(\"Dice similarity score is {}\".format(dsc))"
   ]
  },
  {
   "cell_type": "code",
   "execution_count": 12,
   "metadata": {},
   "outputs": [],
   "source": [
    "def dice_background(gt, img):\n",
    "    tp = 0\n",
    "    tn = 0\n",
    "    fp = 0\n",
    "    fn = 0\n",
    "    h = gt.shape[0]\n",
    "    w = gt.shape[1]\n",
    "    for i, j in np.ndindex((h, w)):\n",
    "        if gt[i, j][0] == 0:\n",
    "            if img[i, j][0] == 0:\n",
    "                tp += 1\n",
    "            else:\n",
    "                fn += 1\n",
    "        else:\n",
    "            if img[i, j][0] == 0:\n",
    "                fp += 1\n",
    "            else:\n",
    "                tn += 1\n",
    "    dsc = 2* tp / (2*tp + fn + fp)\n",
    "    return print(\"Dice similarity score is {}\".format(dsc))"
   ]
  },
  {
   "cell_type": "code",
   "execution_count": 17,
   "metadata": {},
   "outputs": [],
   "source": [
    "y_pred = erodila\n",
    "y_true = cv2.imread('../data/Yeast_Cells_gt_new.jpg') \n"
   ]
  },
  {
   "cell_type": "code",
   "execution_count": 18,
   "metadata": {},
   "outputs": [
    {
     "name": "stdout",
     "output_type": "stream",
     "text": [
      "Dice similarity score is 0.7958417721572022\n"
     ]
    }
   ],
   "source": [
    "dice_foreground(y_true, y_pred)"
   ]
  },
  {
   "cell_type": "code",
   "execution_count": 15,
   "metadata": {},
   "outputs": [
    {
     "name": "stdout",
     "output_type": "stream",
     "text": [
      "Dice similarity score is 0.933483345864868\n"
     ]
    }
   ],
   "source": [
    "dice_background(y_true, y_pred)"
   ]
  },
  {
   "cell_type": "code",
   "execution_count": 16,
   "metadata": {},
   "outputs": [
    {
     "data": {
      "text/plain": [
       "-1"
      ]
     },
     "execution_count": 16,
     "metadata": {},
     "output_type": "execute_result"
    }
   ],
   "source": [
    "cv2.imshow(\"pic\", erodila)\n",
    "cv2.waitKey(0)"
   ]
  }
 ],
 "metadata": {
  "kernelspec": {
   "display_name": "Python 3.10.4 ('environment')",
   "language": "python",
   "name": "python3"
  },
  "language_info": {
   "codemirror_mode": {
    "name": "ipython",
    "version": 3
   },
   "file_extension": ".py",
   "mimetype": "text/x-python",
   "name": "python",
   "nbconvert_exporter": "python",
   "pygments_lexer": "ipython3",
   "version": "3.10.4"
  },
  "orig_nbformat": 4,
  "vscode": {
   "interpreter": {
    "hash": "5b83ce1c35a2acaa5544e45d923f82fc98e047241fe593f03a382798a2403f36"
   }
  }
 },
 "nbformat": 4,
 "nbformat_minor": 2
}
