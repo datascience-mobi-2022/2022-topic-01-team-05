{
 "cells": [
  {
   "cell_type": "code",
   "execution_count": 15,
   "metadata": {},
   "outputs": [
    {
     "name": "stdout",
     "output_type": "stream",
     "text": [
      "Using matplotlib backend: QtAgg\n",
      "%pylab is deprecated, use %matplotlib inline and import the required libraries.\n",
      "Populating the interactive namespace from numpy and matplotlib\n"
     ]
    }
   ],
   "source": [
    "%pylab\n",
    "%matplotlib inline\n",
    "from PIL import Image"
   ]
  },
  {
   "cell_type": "code",
   "execution_count": 47,
   "metadata": {},
   "outputs": [],
   "source": [
    "def rgb_to_hsv(r, g, b):\n",
    "    maxc = max(r, g, b)\n",
    "    minc = min(r, g, b)\n",
    "    rangec = (maxc-minc)\n",
    "    v = maxc\n",
    "    if minc == maxc:\n",
    "        return 0.0, 0.0, v\n",
    "    s = rangec / maxc\n",
    "    rc = (maxc-r) / rangec\n",
    "    gc = (maxc-g) / rangec\n",
    "    bc = (maxc-b) / rangec\n",
    "    if r == maxc:\n",
    "        h = bc-gc\n",
    "    elif g == maxc:\n",
    "        h = 2.0+rc-bc\n",
    "    else:\n",
    "        h = 4.0+gc-rc\n",
    "    h = (h/6.0) % 1.0\n",
    "    return h, s, v"
   ]
  },
  {
   "cell_type": "code",
   "execution_count": 67,
   "metadata": {},
   "outputs": [],
   "source": [
    "def HSVColor(img):\n",
    "    if isinstance(img, Image.Image):\n",
    "        r,g,b = img.split()\n",
    "        Hdat = []\n",
    "        Sdat = []\n",
    "        Vdat = []\n",
    "        for rd, gn, bl in zip(r.getdata(), g.getdata(), b.getdata()):\n",
    "            h,s,v = rgb_to_hsv(rd/255., gn/255., bl/255.)\n",
    "            Hdat.append(int(h*255.))\n",
    "            Sdat.append(int(s*255.))\n",
    "            Vdat.append(int(v*255.))\n",
    "        r.putdata(Hdat)\n",
    "        g.putdata(Sdat)\n",
    "        b.putdata(Vdat)\n",
    "        return Image.merge(\"RGB\", (r,g,b))\n",
    "    else:\n",
    "        return None\n",
    "\n",
    "\n"
   ]
  },
  {
   "cell_type": "code",
   "execution_count": 68,
   "metadata": {},
   "outputs": [],
   "source": [
    "a = Image.open(\"../data/Cell_Nuclei.tif\")\n",
    "b = HSVColor(a)\n",
    "b.show()"
   ]
  }
 ],
 "metadata": {
  "interpreter": {
   "hash": "5b83ce1c35a2acaa5544e45d923f82fc98e047241fe593f03a382798a2403f36"
  },
  "kernelspec": {
   "display_name": "Python 3.10.4 ('environment')",
   "language": "python",
   "name": "python3"
  },
  "language_info": {
   "codemirror_mode": {
    "name": "ipython",
    "version": 3
   },
   "file_extension": ".py",
   "mimetype": "text/x-python",
   "name": "python",
   "nbconvert_exporter": "python",
   "pygments_lexer": "ipython3",
   "version": "3.10.4"
  },
  "orig_nbformat": 4
 },
 "nbformat": 4,
 "nbformat_minor": 2
}
