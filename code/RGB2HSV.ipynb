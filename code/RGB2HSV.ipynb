{
 "cells": [
  {
   "cell_type": "code",
   "execution_count": 3,
   "metadata": {},
   "outputs": [
    {
     "name": "stdout",
     "output_type": "stream",
     "text": [
      "Using matplotlib backend: <object object at 0x000001DD70812DA0>\n",
      "%pylab is deprecated, use %matplotlib inline and import the required libraries.\n",
      "Populating the interactive namespace from numpy and matplotlib\n"
     ]
    }
   ],
   "source": [
    "%pylab\n",
    "%matplotlib inline\n",
    "from PIL import Image\n",
    "import numpy as np"
   ]
  },
  {
   "cell_type": "markdown",
   "metadata": {},
   "source": [
    "Funktion, die die HSV Werte berechnet. Sie ist komisch und die HSV Werte würden mit denen aus einem Online-Converter nicht übereinstimmen. Nach viel Recherche habe ich herausgefunden, warum es so ist und warum die frühere Funktion (die eigentlich die Wikipedia Formel war) nicht für eine HSV-Farbraumkonversion in Python geeignet war.\n",
    "\n",
    "Normalerweise sind bei HSV die Werte folgendermaßen verteilt: H zwischen 0 und 360, S und V zwischen 0 und 100 -> so werden die HSV Werte auch von Online-Convertern laut der theoretischen Formel berechnet\n",
    "\n",
    "Diese Funktion ist aber anders. So werden die Werte verteilt:\n",
    "H zwischen 0 und 1; \n",
    "S zwischen 0 und 1; \n",
    "V zwischen 0 und 255; \n",
    "\n",
    "zum Beispiel für RGB = (37, 16, 111) würde normalerweise die Formel (253, 85, 43) ergeben, aber die unten stehende Funktion ergibt (0.70, 0.85, 111) (die Werte haben viel mehrere Nachkommastellen, dem Übersicht halber habe ich nur 2 Nachkommastellen gelassen, aber für die folgenden Berechnungen würden alle Nachkommastellen Sinn ergeben)\n",
    "\n",
    "Ein richtiges Output-Bild (nach dem Laufen des ganzen Code von unten) hat für diese RGB Werte folgende HSV Werte: (179, 218, 111).\n",
    "\n",
    "Alles ganz verwirrend, oder? \n",
    "\n",
    "Es ist alles eine Sache der Skalierung:\n",
    "\n",
    "Für H: 0.70... * 360 = 253 (Also die 0-360 Grade wurden auf 0-1 skaliert); \n",
    "Für S: 0.85... * 100 = 85 (Einfach 0-1 statt 0-100); \n",
    "Für V: 111 * 100 / 255 = 43 (*100 weil laut Formel ist V 0-100 und /255 weil laut Funktion V 0-255); \n",
    "\n",
    "Alles genau so wie die Formel, yay!\n",
    "\n",
    "Dann warum hat das Output-Bild diese komischen HSV-Werte???\n",
    "\n",
    "Anscheinend werden die HSV-Werte von allen Packages in Python, inklusive PIL oder matlab, nur in einem \"255-Format\" (so ähnlich wie RGB) unterstützt. Außerdem werden die H und S Werte in z.B. Matlab immer zwischen 0 und 1 angegeben. Deshalb verwendet man die untere Funktion, wo H und S zwischen 0 und 1 sind.\n",
    "Um in \"255-Format\" zu konvertieren, muss man einfach um 255 multiplizieren.\n",
    "\n",
    "H: 0.70... * 255 = 179; \n",
    "S: 0.85... * 255 = 218; \n",
    "V: ist sowieso zwischen 0 und 255; \n"
   ]
  },
  {
   "cell_type": "code",
   "execution_count": 46,
   "metadata": {},
   "outputs": [
    {
     "data": {
      "text/plain": [
       "(0.7035087719298246, 0.8558558558558559, 111)"
      ]
     },
     "execution_count": 46,
     "metadata": {},
     "output_type": "execute_result"
    }
   ],
   "source": [
    "def rgb_to_hsv(r, g, b):\n",
    "    \n",
    "    maxc = max(r, g, b)\n",
    "    minc = min(r, g, b)\n",
    "    rangec = (maxc-minc)\n",
    "    v = maxc\n",
    "    if minc == maxc:\n",
    "        return 0.0, 0.0, float(v)\n",
    "    s = rangec / maxc\n",
    "    rc = (maxc-r) / rangec\n",
    "    gc = (maxc-g) / rangec\n",
    "    bc = (maxc-b) / rangec\n",
    "    if r == maxc:\n",
    "        h = bc-gc\n",
    "    elif g == maxc:\n",
    "        h = 2.0+rc-bc\n",
    "    else:\n",
    "        h = 4.0+gc-rc\n",
    "    h = (h/6.0) % 1.0\n",
    "\n",
    "    return h, s, v\n",
    "\n",
    "rgb_to_hsv(37, 16, 111)"
   ]
  },
  {
   "cell_type": "markdown",
   "metadata": {},
   "source": [
    "Fancy Funktion für die RGB-to-HSV Konversion\n",
    "Erklärung der Fancy Funktion:\n",
    "- isistance: Bild muss als PIL Image eingelesen werden (open Funktion)\n",
    "- RGB channels werden durch split Methode in 3 Banden (r, g und b) gesplittet\n",
    "- leere Listen werden erstellt\n",
    "- rd (von red), gn (green), bl (blue) \n",
    "- zip Methode erstellt Tupeln von den R, G und B Banden --> getdata extrahiert die Werte der jeweiligen Banden (R, G, B) --> so werden die RGB Werte für jedes Pixel in ein Tupel reingepackt\n",
    "- Diese RGB Werte werden zu HSV konvertiert --> \n",
    "!!!\n",
    "hier muss man durch 255 teilen (die theoretische Formel würde die RGB-Werte auf Werte zwischen 0 und 1 normalisieren, die obere Funktion nicht, deshalb teilen...) und dann wieder um 255 multiplizieren (um auf diesem 255 Format zu kommen)\n",
    "!!!\n",
    "- Die Werte der R, G und B Banden werden durch die HSV-Werte ersetzt. Achtung! Es bleiben trotzdem als r, g, b benannt, weil die 3 Banden am Anfang so definiert wurden\n",
    "- Deshalb wird bei merge Funktion r, g, b eingegeben, aber Mode muss HSV sein"
   ]
  },
  {
   "cell_type": "code",
   "execution_count": 50,
   "metadata": {},
   "outputs": [],
   "source": [
    "def HSVColor(img):\n",
    "    if isinstance(img, Image.Image):\n",
    "        r,g,b = img.split()\n",
    "        Hdat = []\n",
    "        Sdat = []\n",
    "        Vdat = []\n",
    "        for rd, gn, bl in zip(r.getdata(), g.getdata(), b.getdata()):\n",
    "            h,s,v = rgb_to_hsv(rd/255., gn/255., bl/255.)\n",
    "            Hdat.append(int(h*255.))\n",
    "            Sdat.append(int(s*255.))\n",
    "            Vdat.append(int(v*255.))\n",
    "        r.putdata(Hdat)\n",
    "        g.putdata(Sdat)\n",
    "        b.putdata(Vdat)\n",
    "        return Image.merge(\"HSV\", (r,g,b))\n",
    "    else:\n",
    "        return None"
   ]
  },
  {
   "cell_type": "markdown",
   "metadata": {},
   "source": [
    "HSV-Bilder können in Python nur angezeigt und !nicht! gespeichert werden! Deshalb muss man sie zuerst in ein Array umwandeln und dann das Array als .NPY speichern"
   ]
  },
  {
   "cell_type": "code",
   "execution_count": 58,
   "metadata": {},
   "outputs": [],
   "source": [
    "RGB_image = Image.open(\"../data/Yeast_Cells.jpg\")\n",
    "HSV_image = HSVColor(RGB_image)\n",
    "HSV_image.show() #anzeigen"
   ]
  },
  {
   "cell_type": "code",
   "execution_count": 59,
   "metadata": {},
   "outputs": [],
   "source": [
    "#no need to run, Array ist schon gespeichert und gepusht\n",
    "HSV_image_array_fancyfunction = np.asarray(HSV_image) #in array umwandeln\n",
    "save(\"../data/HSV_YeastCells_array_fancyfunction\", HSV_image_array_fancyfunction) #als array .npy speichern"
   ]
  },
  {
   "cell_type": "markdown",
   "metadata": {},
   "source": [
    "Nicht so fancy Funktion (aber vielleicht verständlicher) mit array, das Output-Bild ist normal was die Farben angeht, aber an manchen Stellen verpixelter als die Fancy Funktion\n",
    "Erklärung Funktion mit array:\n",
    "- Bild wird in array umgewandelt\n",
    "- Leere Liste wird erstellt\n",
    "- für jedes Pixel werden die RGB Werte aus dem RGB_array in HSV Werte umgewandelt\n",
    "- HSV Werte werden für jedes Pixel der Liste eingefügt (wieder die gleiche Geschichte mit 255 teilen und multiplizieren)\n",
    "- Liste mit HSV Werten wird zu 3D-Array mit den gleichem Shape wie das Bild umgewandelt"
   ]
  },
  {
   "cell_type": "code",
   "execution_count": 54,
   "metadata": {},
   "outputs": [],
   "source": [
    "def image_hsv_conversion_array(RGB_image):\n",
    "    RGB_array = np.array(RGB_image)\n",
    "    width, height = RGB_image.size\n",
    "    HSV_list = []\n",
    "    for x in range(width):\n",
    "        for y in range(height):\n",
    "            r, g, b = RGB_array[x,y]\n",
    "            h, s, v = rgb_to_hsv(r/255., g/255., b/255.)\n",
    "            listHSV = [int(h*255.), int(s*255.), int(v*255.)]\n",
    "            HSV_list.append(listHSV)\n",
    "    HSV_array = np.asarray(HSV_list, dtype=uint8).reshape(width, height, 3)\n",
    "    return HSV_array"
   ]
  },
  {
   "cell_type": "code",
   "execution_count": 60,
   "metadata": {},
   "outputs": [],
   "source": [
    "HSV_image_array_arrayfunction = image_hsv_conversion_array(RGB_image)\n",
    "Image.fromarray(HSV_image_array_arrayfunction, \"HSV\").show() #anzeigen"
   ]
  },
  {
   "cell_type": "code",
   "execution_count": 61,
   "metadata": {},
   "outputs": [],
   "source": [
    "save(\"../data/HSV_YeastCells_array_arrayfunction\", HSV_image_array_arrayfunction) #als array .npy speichern"
   ]
  },
  {
   "cell_type": "code",
   "execution_count": null,
   "metadata": {},
   "outputs": [],
   "source": [
    "#weil das Bild nicht gespeichert und als Array nicht auf K Means angewandt werden kann, muss ein Bild aus dem Array erstellt werden\n",
    "array = np.load(\"../data/HSV_CellNuclei_array_arrayfunction.npy\")\n",
    "image = Image.fromarray(array, \"HSV\")"
   ]
  }
 ],
 "metadata": {
  "interpreter": {
   "hash": "5b83ce1c35a2acaa5544e45d923f82fc98e047241fe593f03a382798a2403f36"
  },
  "kernelspec": {
   "display_name": "Python 3.10.4 ('environment')",
   "language": "python",
   "name": "python3"
  },
  "language_info": {
   "codemirror_mode": {
    "name": "ipython",
    "version": 3
   },
   "file_extension": ".py",
   "mimetype": "text/x-python",
   "name": "python",
   "nbconvert_exporter": "python",
   "pygments_lexer": "ipython3",
   "version": "3.10.4"
  },
  "orig_nbformat": 4
 },
 "nbformat": 4,
 "nbformat_minor": 2
}
