{
 "cells": [
  {
   "cell_type": "markdown",
   "metadata": {},
   "source": [
    "K Means Optimisation\n"
   ]
  },
  {
   "cell_type": "code",
   "execution_count": 1,
   "metadata": {},
   "outputs": [
    {
     "name": "stdout",
     "output_type": "stream",
     "text": [
      "Using matplotlib backend: <object object at 0x000001C084537600>\n",
      "%pylab is deprecated, use %matplotlib inline and import the required libraries.\n",
      "Populating the interactive namespace from numpy and matplotlib\n"
     ]
    }
   ],
   "source": [
    "%pylab\n",
    "%matplotlib inline"
   ]
  },
  {
   "cell_type": "code",
   "execution_count": 2,
   "metadata": {},
   "outputs": [],
   "source": [
    "import numpy \n",
    "import math\n",
    "import random\n",
    "import operator\n",
    "from PIL import Image"
   ]
  },
  {
   "cell_type": "code",
   "execution_count": 3,
   "metadata": {},
   "outputs": [
    {
     "data": {
      "text/plain": [
       "array([[2, 2, 0],\n",
       "       [2, 2, 0],\n",
       "       [5, 1, 0],\n",
       "       ...,\n",
       "       [2, 4, 1],\n",
       "       [2, 4, 1],\n",
       "       [1, 6, 0]])"
      ]
     },
     "execution_count": 3,
     "metadata": {},
     "output_type": "execute_result"
    }
   ],
   "source": [
    "image = Image.open(\"../data/Yeast_Cells.jpg\",'r')\n",
    "width, height=image.size\n",
    "\n",
    "numpy.array(list(image.getdata()))\n"
   ]
  },
  {
   "cell_type": "code",
   "execution_count": 4,
   "metadata": {},
   "outputs": [],
   "source": [
    "def calculate_distance(a,b):\n",
    "\n",
    "    a = numpy.array(a)\n",
    "    b = numpy.array(b)\n",
    "    s = np.corrcoef(a,b)[0, 1]\n",
    "    distance = 0.5*(1-s)\n",
    "    return distance\n",
    "\n",
    "def initiate_centroids(K,image):\n",
    "    imagePixels = list(image.getdata())\n",
    "    initial_centers = list()\n",
    "    for x in range(K):\n",
    "        initial_centers.append(list(imagePixels[random.randint(0,len(imagePixels)-1)]))\n",
    "    return initial_centers\n",
    "\n",
    "def findClosestCentroids(centroids, image):\n",
    "    \n",
    "    imagePixels = list(image.getdata())\n",
    "    assigned_centroid = []\n",
    "    for p in imagePixels:\n",
    "        distance = []\n",
    "        for c in centroids:\n",
    "            distance.append(calculate_distance(c, p))\n",
    "        assigned_centroid.append(numpy.argmin(distance))\n",
    "    return assigned_centroid"
   ]
  },
  {
   "cell_type": "markdown",
   "metadata": {},
   "source": [
    "Unify centroid list and responsibility / only create responsibility matrix in the format  x*k*d (x = number of pixels, k = number of centroids, d = dimensions) as numpy array or list"
   ]
  },
  {
   "cell_type": "code",
   "execution_count": 5,
   "metadata": {},
   "outputs": [],
   "source": [
    "def responsibility(centroids, image):\n",
    "    imagePixels = list(image.getdata())\n",
    "\n",
    "    x = len(imagePixels)\n",
    "\n",
    "    k = len(centroids)\n",
    "\n",
    "    d = len(centroids[0])\n",
    "\n",
    "    matrix = numpy.zeros((x,k,d))\n",
    "\n",
    "    for p in range(x):\n",
    "\n",
    "        distance = []\n",
    "\n",
    "        for c in centroids:\n",
    "\n",
    "            distance.append(calculate_distance(imagePixels[p], c))\n",
    "        \n",
    "        matrix[p,numpy.argmin(distance)] = [1]*d\n",
    "    return matrix\n",
    "        \n"
   ]
  },
  {
   "cell_type": "markdown",
   "metadata": {},
   "source": [
    "Cluster means using the new responsibility matrix"
   ]
  },
  {
   "cell_type": "code",
   "execution_count": 6,
   "metadata": {},
   "outputs": [],
   "source": [
    "def clustermeans(responsibility, image):\n",
    "\n",
    "    Pixelarray = numpy.array(list(image.getdata()))\n",
    "\n",
    "    clusters = len(responsibility[1])\n",
    "    \n",
    "    new_centroids = []\n",
    "\n",
    "    for k in range(clusters):\n",
    "        new_centroids.append(list(sum(responsibility[:,k] * Pixelarray, axis = 0)/sum(responsibility[:,k,0])))\n",
    "    return new_centroids"
   ]
  },
  {
   "cell_type": "markdown",
   "metadata": {},
   "source": [
    "K Means V2"
   ]
  },
  {
   "cell_type": "code",
   "execution_count": 7,
   "metadata": {},
   "outputs": [],
   "source": [
    "def k_means2(image, K, iterations):\n",
    "    \n",
    "    centroids = initiate_centroids(K, image)\n",
    "\n",
    "    new_centroids = []\n",
    "    \n",
    "    i = 0\n",
    "\n",
    "    while i < iterations:  # Maximum of 6 iterations\n",
    "\n",
    "        resmat = responsibility(centroids,image) \n",
    "\n",
    "        new_centroids = clustermeans(resmat, image) # New Centroids\n",
    "\n",
    "        if new_centroids == centroids:  # End algortihm, if centroids don't change\n",
    "            break\n",
    "        \n",
    "        centroids = new_centroids\n",
    "\n",
    "        i += 1\n",
    "        \n",
    "    final_assignment = findClosestCentroids(centroids, image)\n",
    "\n",
    "\n",
    "\n",
    "    rgb_array = numpy.array([[255,255,255]]*len(final_assignment))\n",
    "    for i in range(3):\n",
    "        rgb_array[:,i] = rgb_array[:,i]*final_assignment/max(final_assignment)\n",
    "    rgb_array\n",
    "    rgb_list = []\n",
    "    for i in range(len(rgb_array)):\n",
    "        rgb_list.append(tuple(rgb_array[i]))\n",
    "    image_out = Image.new(image.mode,image.size)\n",
    "    image_out.putdata(rgb_list)\n",
    "    image_out\n",
    "\n",
    "    return image_out  # Assignment list can be used to create picture\n"
   ]
  },
  {
   "cell_type": "code",
   "execution_count": 9,
   "metadata": {},
   "outputs": [
    {
     "data": {
      "image/png": "[encoded data removed]",
      "text/plain": [
       "<PIL.Image.Image image mode=RGB size=1024x1024>"
      ]
     },
     "execution_count": 9,
     "metadata": {},
     "output_type": "execute_result"
    }
   ],
   "source": [
    "image = Image.open(\"../data/Cell_Nuclei.jpg\",'r')\n",
    "\n",
    "\n",
    "segmented_image = k_means2(image, 2, 5)\n",
    "segmented_image.save('../data/test_out_correlation.png')\n",
    "segmented_image # still somewhat inconsistent"
   ]
  }
 ],
 "metadata": {
  "kernelspec": {
   "display_name": "Python 3.9.12 ('environment')",
   "language": "python",
   "name": "python3"
  },
  "language_info": {
   "codemirror_mode": {
    "name": "ipython",
    "version": 3
   },
   "file_extension": ".py",
   "mimetype": "text/x-python",
   "name": "python",
   "nbconvert_exporter": "python",
   "pygments_lexer": "ipython3",
   "version": "3.9.12"
  },
  "orig_nbformat": 4,
  "vscode": {
   "interpreter": {
    "hash": "9e1a7d2f88ef582704e45252eb30b63eae9d2c037b334948b0bda2fc4648bf73"
   }
  }
 },
 "nbformat": 4,
 "nbformat_minor": 2
}
