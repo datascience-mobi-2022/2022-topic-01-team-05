{
 "cells": [
  {
   "cell_type": "code",
   "execution_count": 146,
   "metadata": {},
   "outputs": [
    {
     "name": "stdout",
     "output_type": "stream",
     "text": [
      "Using matplotlib backend: QtAgg\n",
      "%pylab is deprecated, use %matplotlib inline and import the required libraries.\n",
      "Populating the interactive namespace from numpy and matplotlib\n"
     ]
    },
    {
     "name": "stderr",
     "output_type": "stream",
     "text": [
      "c:\\Users\\Cedric\\anaconda3\\envs\\environment\\lib\\site-packages\\IPython\\core\\magics\\pylab.py:162: UserWarning: pylab import has clobbered these variables: ['random']\n",
      "`%matplotlib` prevents importing * from pylab and numpy\n",
      "  warn(\"pylab import has clobbered these variables: %s\"  % clobbered +\n"
     ]
    }
   ],
   "source": [
    "%pylab\n",
    "%matplotlib inline"
   ]
  },
  {
   "cell_type": "code",
   "execution_count": 147,
   "metadata": {},
   "outputs": [],
   "source": [
    "import numpy \n",
    "import math\n",
    "import random\n",
    "import operator\n",
    "from PIL import Image\n",
    "import pandas as pd"
   ]
  },
  {
   "cell_type": "code",
   "execution_count": 148,
   "metadata": {},
   "outputs": [],
   "source": [
    "def calculate_3D_distance(a,b):\n",
    "    a = numpy.array(a)\n",
    "    b = numpy.array(b)\n",
    "    distance_vector = a - b\n",
    "    distance = sqrt(distance_vector.dot(distance_vector))\n",
    "    return distance\n",
    "\n",
    "a = [1,0,0]\n",
    "b = [0,1,0]\n",
    "#print(calculate_3D_distance(a,b))"
   ]
  },
  {
   "cell_type": "code",
   "execution_count": 149,
   "metadata": {},
   "outputs": [],
   "source": [
    "def initiate_centroids(k):\n",
    "    centroids = ([(random.randrange(0, 250), random.randrange(0,250), random.randrange(0, 250)) for i in range(k)])\n",
    "    return centroids"
   ]
  },
  {
   "cell_type": "code",
   "execution_count": 150,
   "metadata": {},
   "outputs": [],
   "source": [
    "def findClosestCentroids(centroids, image):\n",
    "    imagePixels = list(image.getdata())\n",
    "    assigned_centroid = []\n",
    "    for p in imagePixels:\n",
    "        distance = []\n",
    "        for c in centroids:\n",
    "            distance.append(calculate_3D_distance(c, p))\n",
    "        assigned_centroid.append(np.argmin(distance))\n",
    "    return assigned_centroid"
   ]
  },
  {
   "cell_type": "code",
   "execution_count": 151,
   "metadata": {},
   "outputs": [],
   "source": [
    "def img2array(image):\n",
    "    np_img = numpy.array(image)\n",
    "    return np_img"
   ]
  },
  {
   "cell_type": "code",
   "execution_count": 204,
   "metadata": {},
   "outputs": [],
   "source": [
    "#Test\n",
    "image=Image.open(\"../data/Cell_Nuclei_cut.jpg\",'r')\n",
    "centroids = initiate_centroids(2)\n",
    "assigned_centroids = findClosestCentroids(centroids, image)"
   ]
  },
  {
   "cell_type": "code",
   "execution_count": 200,
   "metadata": {},
   "outputs": [],
   "source": [
    "def responsibility_matrix(assigned_centroids):\n",
    "    \n",
    "    matrix = list()\n",
    "    xm = max(assigned_centroids)+1\n",
    "\n",
    "    for i in range(len(assigned_centroids)):\n",
    "        a = [0]*xm\n",
    "        a[assigned_centroids[i]] = 1\n",
    "        matrix.append(a)\n",
    "    return matrix\n",
    "        \n",
    "\n",
    "        "
   ]
  },
  {
   "cell_type": "code",
   "execution_count": 205,
   "metadata": {},
   "outputs": [],
   "source": [
    "def clustermeans(assigned_centroids, image):\n",
    "    resmat = numpy.array(responsibility_matrix(assigned_centroids))\n",
    "    Pixelarray = numpy.array(list(image.getdata()))\n",
    "    clusters = len(resmat[0])\n",
    "    dimensions = len(Pixels[1])\n",
    "    new_centroids = []\n",
    "    for k in range(clusters):\n",
    "        a = []\n",
    "        for d in range(dimensions):\n",
    "            dimensionaverage = np.mean(resmat[:,k]*Pixelarray[:,d])\n",
    "            a.append(dimensionaverage)\n",
    "        new_centroids.append(a)\n",
    "    return new_centroids"
   ]
  },
  {
   "cell_type": "code",
   "execution_count": 206,
   "metadata": {},
   "outputs": [
    {
     "data": {
      "text/plain": [
       "[[57.93818581780538, 61.43869047619047, 79.75895445134576],\n",
       " [9.789673913043478, 21.263341097308487, 7.619578157349896]]"
      ]
     },
     "execution_count": 206,
     "metadata": {},
     "output_type": "execute_result"
    }
   ],
   "source": [
    "clustermeans(assigned_centroids,image)"
   ]
  },
  {
   "cell_type": "code",
   "execution_count": 194,
   "metadata": {},
   "outputs": [
    {
     "data": {
      "text/plain": [
       "array([1, 0])"
      ]
     },
     "execution_count": 194,
     "metadata": {},
     "output_type": "execute_result"
    }
   ],
   "source": [
    "#Test\n",
    "resmat = numpy.array(responsibility_matrix(assigned_centroids))\n",
    "Pixels = numpy.array(list(image.getdata()))\n",
    "resmat[0]"
   ]
  }
 ],
 "metadata": {
  "interpreter": {
   "hash": "54b7fcf1bb44cc75fc95c5b2a09216d96d24708150346c5f6bdce168163bfc85"
  },
  "kernelspec": {
   "display_name": "Python 3.10.4 ('environment')",
   "language": "python",
   "name": "python3"
  },
  "language_info": {
   "codemirror_mode": {
    "name": "ipython",
    "version": 3
   },
   "file_extension": ".py",
   "mimetype": "text/x-python",
   "name": "python",
   "nbconvert_exporter": "python",
   "pygments_lexer": "ipython3",
   "version": "3.10.4"
  },
  "orig_nbformat": 4
 },
 "nbformat": 4,
 "nbformat_minor": 2
}
