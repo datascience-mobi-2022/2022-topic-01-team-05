{
 "cells": [
  {
   "cell_type": "code",
   "execution_count": 13,
   "metadata": {},
   "outputs": [
    {
     "name": "stdout",
     "output_type": "stream",
     "text": [
      "Using matplotlib backend: QtAgg\n",
      "%pylab is deprecated, use %matplotlib inline and import the required libraries.\n",
      "Populating the interactive namespace from numpy and matplotlib\n"
     ]
    }
   ],
   "source": [
    "%pylab\n",
    "%matplotlib inline"
   ]
  },
  {
   "cell_type": "code",
   "execution_count": 14,
   "metadata": {},
   "outputs": [],
   "source": [
    "import numpy \n",
    "import math\n",
    "import random\n",
    "from PIL import Image\n",
    "import random\n",
    "import sys\n",
    "import operator\n",
    "import os"
   ]
  },
  {
   "cell_type": "code",
   "execution_count": 15,
   "metadata": {},
   "outputs": [],
   "source": [
    "image_path = '../data/Cell_Nuclei_cut.jpg'\n",
    "image_name = \"inputimg\"\n",
    "image=Image.open(image_path,'r')\n",
    "width, height=image.size\n",
    "imagePixels=list(image.getdata())\n",
    "K = 2\n",
    "def initiate_centroids(K):\n",
    "    initial_centers = set()\n",
    "    for x in range(K):\n",
    "        initial_centers.add(imagePixels[random.randint(0,len(imagePixels)-1)])\n",
    "    return initial_centers\n"
   ]
  },
  {
   "cell_type": "code",
   "execution_count": 16,
   "metadata": {},
   "outputs": [],
   "source": [
    "old_centers = set()\n",
    "new_centers = initiate_centroids(2)\n",
    "   \n",
    "while old_centers != new_centers:\n",
    "        old_centers = new_centers\n",
    "        clusterDict = dict([(key, []) for key in new_centers])\n",
    "        \n",
    "for eachPixelTupleIndex in range(len(imagePixels)):\n",
    "            distanceDict={}\n",
    "            for eachCenter in new_centers:\n",
    "                pixelValues=imagePixels[eachPixelTupleIndex]\n",
    "                distanceList= numpy.subtract(pixelValues,eachCenter)\n",
    "                distance=0\n",
    "                for eachNumber in distanceList:\n",
    "                    distance+=eachNumber**2\n",
    "                distance= math.sqrt(distance)\n",
    "                distanceDict[eachCenter]=distance\n",
    "            \n",
    "            bestCenter=min(distanceDict.items(), key=operator.itemgetter(1))[0]\n",
    "            clusterDict[bestCenter].append(eachPixelTupleIndex)"
   ]
  },
  {
   "cell_type": "code",
   "execution_count": 17,
   "metadata": {},
   "outputs": [],
   "source": [
    "new_centers = set()\n",
    "for center in clusterDict:\n",
    "    new_center_temp = (0,0,0)\n",
    "    for pixelIndex in clusterDict[center]:\n",
    "        new_center_temp = tuple(map(operator.add, new_center_temp, imagePixels[pixelIndex]))\n",
    "        new_center = tuple(map(lambda x: int(x/len(clusterDict[center])), new_center_temp))\n",
    "        new_centers.add(new_center)"
   ]
  },
  {
   "cell_type": "code",
   "execution_count": 18,
   "metadata": {},
   "outputs": [
    {
     "name": "stdout",
     "output_type": "stream",
     "text": [
      "Hurray!It's Done!\n"
     ]
    }
   ],
   "source": [
    "newIm = Image.new(\"RGB\", (width, height))\n",
    "pix = newIm.load()\n",
    "for i in range(1, height+1):\n",
    "    for j in range(width):\n",
    "        for center in clusterDict:\n",
    "            if ((i - 1) * width + j) in clusterDict[center]:\n",
    "                pix[j,i-1] = center\n",
    "newIm.save(\"segmented_{}_K{}.png\".format(image_name, K), \"PNG\")\n",
    "print(\"Hurray!It's Done!\")"
   ]
  },
  {
   "cell_type": "code",
   "execution_count": 19,
   "metadata": {},
   "outputs": [
    {
     "data": {
      "text/plain": [
       "<matplotlib.image.AxesImage at 0x2c1611392d0>"
      ]
     },
     "execution_count": 19,
     "metadata": {},
     "output_type": "execute_result"
    },
    {
     "data": {
      "image/png": "[encoded data removed]",
      "text/plain": [
       "<Figure size 432x288 with 1 Axes>"
      ]
     },
     "metadata": {
      "needs_background": "light"
     },
     "output_type": "display_data"
    }
   ],
   "source": [
    "imshow(newIm)"
   ]
  },
  {
   "cell_type": "code",
   "execution_count": null,
   "metadata": {},
   "outputs": [],
   "source": []
  }
 ],
 "metadata": {
  "interpreter": {
   "hash": "54b7fcf1bb44cc75fc95c5b2a09216d96d24708150346c5f6bdce168163bfc85"
  },
  "kernelspec": {
   "display_name": "Python 3.10.4 ('environment')",
   "language": "python",
   "name": "python3"
  },
  "language_info": {
   "codemirror_mode": {
    "name": "ipython",
    "version": 3
   },
   "file_extension": ".py",
   "mimetype": "text/x-python",
   "name": "python",
   "nbconvert_exporter": "python",
   "pygments_lexer": "ipython3",
   "version": "3.10.4"
  },
  "orig_nbformat": 4
 },
 "nbformat": 4,
 "nbformat_minor": 2
}
