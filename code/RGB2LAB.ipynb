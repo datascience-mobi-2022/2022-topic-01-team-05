{
 "cells": [
  {
   "cell_type": "code",
   "execution_count": 57,
   "metadata": {},
   "outputs": [
    {
     "name": "stdout",
     "output_type": "stream",
     "text": [
      "Using matplotlib backend: QtAgg\n",
      "%pylab is deprecated, use %matplotlib inline and import the required libraries.\n",
      "Populating the interactive namespace from numpy and matplotlib\n"
     ]
    }
   ],
   "source": [
    "%pylab\n",
    "%matplotlib inline\n",
    "from PIL import Image\n",
    "import numpy as np"
   ]
  },
  {
   "cell_type": "code",
   "execution_count": 58,
   "metadata": {},
   "outputs": [
    {
     "data": {
      "text/plain": [
       "(70.89607739403526, -65.75030489750277, 47.6334090693872)"
      ]
     },
     "execution_count": 58,
     "metadata": {},
     "output_type": "execute_result"
    }
   ],
   "source": [
    "# Python3 program change RGB Color\n",
    "# Model to LAB Color Model\n",
    "\n",
    "def rgb_to_lab(r, g, b):\n",
    "    RGB = [r,g,b]\n",
    "    num = 0\n",
    "    for value in RGB:\n",
    "        value = float(value)/255\n",
    "        if value > 0.04045:\n",
    "            value = ((value + 0.055) / 1.055) ** 2.4\n",
    "        else:\n",
    "            value = value / 12.92\n",
    "        \n",
    "        RGB[num] = value *100\n",
    "        num = num + 1\n",
    "    \n",
    "    XYZ = [0,0,0]\n",
    "\n",
    "    X = RGB[0] * 0.4124 + RGB[1] * 0.3576 + RGB[2] * 0.1805\n",
    "    Y = RGB[0] * 0.2126 + RGB[1] * 0.7152 + RGB[2] * 0.0722\n",
    "    Z = RGB[0] * 0.0193 + RGB[1] * 0.1192 + RGB[2] * 0.9505\n",
    "\n",
    "    XYZ[0] = round(X, 4)\n",
    "    XYZ[1] = round(Y, 4)\n",
    "    XYZ[2] = round(Z, 4)\n",
    "\n",
    "    XYZ[0] = float(XYZ[0]) / 95.047         # ref_X =  95.047   Observer= 2°, Illuminant= D65\n",
    "    XYZ[1] = float(XYZ[1]) / 100.0          # ref_Y = 100.000\n",
    "    XYZ[2] = float(XYZ[2]) / 108.883        # ref_Z = 108.883\n",
    "\n",
    "    num = 0\n",
    "    for value in XYZ :\n",
    "\n",
    "       if value > 0.008856 :\n",
    "           value = value ** (1/3)\n",
    "       else :\n",
    "           value = ( 7.787 * value ) + ( 16 / 116 )\n",
    "\n",
    "       XYZ[num] = value\n",
    "       num = num + 1\n",
    "\n",
    "  \n",
    "\n",
    "    L = (116 * XYZ[1]) - 16\n",
    "    A = 500 * (XYZ[0] - XYZ[1])\n",
    "    B = 200 * (XYZ[1] - XYZ[2])\n",
    "\n",
    "    return L, A, B\n",
    "\n",
    "rgb_to_lab(20, 200, 80)"
   ]
  },
  {
   "cell_type": "code",
   "execution_count": 59,
   "metadata": {},
   "outputs": [],
   "source": [
    "def LABColor(img):\n",
    "    if isinstance(img, Image.Image):\n",
    "        r,g,b = img.split()\n",
    "        Ldat = []\n",
    "        Adat = []\n",
    "        Bdat = []\n",
    "        for rd, gn, bl in zip(r.getdata(), g.getdata(), b.getdata()):\n",
    "            L,A,B = rgb_to_lab(rd, gn, bl)\n",
    "            Ldat.append(L)\n",
    "            Adat.append(A)\n",
    "            Bdat.append(B)\n",
    "        r.putdata(Ldat)\n",
    "        g.putdata(Adat)\n",
    "        b.putdata(Bdat)\n",
    "        return Image.merge(\"LAB\", (r,g,b))\n",
    "    else:\n",
    "        return None\n"
   ]
  },
  {
   "cell_type": "code",
   "execution_count": 60,
   "metadata": {},
   "outputs": [],
   "source": [
    "a = Image.open(\"../data/Cell_Nuclei.jpg\")\n",
    "b = LABColor(a)\n",
    "b.save(\"Cell_Nuclei_LAB_fail.tiff\")"
   ]
  },
  {
   "cell_type": "code",
   "execution_count": 61,
   "metadata": {},
   "outputs": [],
   "source": [
    "import cv2\n",
    "img = cv2.imread(\"../data/Cell_Nuclei.jpg\")\n",
    "labImg = cv2.cvtColor(img, cv2.COLOR_BGR2LAB)\n",
    "\n",
    "cv2.imshow('LAB image', labImg)\n",
    "cv2.waitKey(0)\n",
    "cv2.destroyAllWindows()"
   ]
  }
 ],
 "metadata": {
  "interpreter": {
   "hash": "5b83ce1c35a2acaa5544e45d923f82fc98e047241fe593f03a382798a2403f36"
  },
  "kernelspec": {
   "display_name": "Python 3.10.4 ('environment')",
   "language": "python",
   "name": "python3"
  },
  "language_info": {
   "codemirror_mode": {
    "name": "ipython",
    "version": 3
   },
   "file_extension": ".py",
   "mimetype": "text/x-python",
   "name": "python",
   "nbconvert_exporter": "python",
   "pygments_lexer": "ipython3",
   "version": "3.10.4"
  },
  "orig_nbformat": 4
 },
 "nbformat": 4,
 "nbformat_minor": 2
}
