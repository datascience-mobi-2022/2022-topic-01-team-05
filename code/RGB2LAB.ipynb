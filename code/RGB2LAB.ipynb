{
 "cells": [
  {
   "cell_type": "code",
   "execution_count": 3,
   "metadata": {},
   "outputs": [
    {
     "name": "stdout",
     "output_type": "stream",
     "text": [
      "Using matplotlib backend: QtAgg\n",
      "%pylab is deprecated, use %matplotlib inline and import the required libraries.\n",
      "Populating the interactive namespace from numpy and matplotlib\n"
     ]
    }
   ],
   "source": [
    "%pylab\n",
    "%matplotlib inline\n",
    "from PIL import Image\n",
    "import numpy as np"
   ]
  },
  {
   "cell_type": "code",
   "execution_count": 88,
   "metadata": {},
   "outputs": [],
   "source": [
    "import cv2\n",
    "img = cv2.imread(\"../data/Yeast_Cells.jpg\")\n",
    "rgbImg = cv2.cvtColor(img, cv2.COLOR_BGR2RGB)\n",
    "labImg = cv2.cvtColor(rgbImg, cv2.COLOR_RGB2LAB)\n",
    "\n",
    "cv2.imshow('LAB image', labImg)\n",
    "cv2.waitKey(0)\n",
    "cv2.destroyAllWindows()"
   ]
  },
  {
   "cell_type": "code",
   "execution_count": 91,
   "metadata": {},
   "outputs": [],
   "source": [
    "# Python3 program change RGB Color\n",
    "# Model to LAB Color Model\n",
    "\n",
    "def rgb_to_lab(r, g, b):\n",
    "\n",
    "# l, a, b = lightness, green-red, yellow-blue\n",
    "# Conversion via CIE 1931-color model (XYZ-coordinates)\n",
    "    X = 0.4124564 * r + 0.3575761 * g + 0.1804375 * b\n",
    "    Y = 0.2126729 * r + 0.7151522 * g + 0.0721750 * b\n",
    "    Z = 0.0193339 * r + 0.1191920 * g + 0.9503041 * b\n",
    "\n",
    "# Import Numpy\n",
    "    import numpy as np\n",
    "\n",
    "# Convert XYZ to LAB\n",
    "    L = 116 * np.power(Y/100, 1/3) - 16\n",
    "    A = 500 * (np.power(X/95.047, 1/3) - np.power(Y/100, 1/3))\n",
    "    B = 200 * (np.power(Y/100, 1/3) - np.power(Z/108.883, 1/3))\n",
    "\n",
    "    return L, A, B"
   ]
  },
  {
   "cell_type": "code",
   "execution_count": 92,
   "metadata": {},
   "outputs": [],
   "source": [
    "def LABColor(img):\n",
    "    if isinstance(img, Image.Image):\n",
    "        r,g,b = img.split()\n",
    "        Ldat = []\n",
    "        Adat = []\n",
    "        Bdat = []\n",
    "        for rd, gn, bl in zip(r.getdata(), g.getdata(), b.getdata()):\n",
    "            L,A,B = rgb_to_lab(rd/255., gn/255., bl/255.)\n",
    "            Ldat.append(int(L*255.))\n",
    "            Adat.append(int(A*255.))\n",
    "            Bdat.append(int(B*255.))\n",
    "        r.putdata(Ldat)\n",
    "        g.putdata(Adat)\n",
    "        b.putdata(Bdat)\n",
    "        return Image.merge(\"RGB\", (r,g,b))\n",
    "    else:\n",
    "        return None\n"
   ]
  },
  {
   "cell_type": "code",
   "execution_count": 94,
   "metadata": {},
   "outputs": [],
   "source": [
    "a = Image.open(\"../data/Cell_Nuclei.jpg\")\n",
    "b = LABColor(a)\n",
    "b.show()"
   ]
  }
 ],
 "metadata": {
  "interpreter": {
   "hash": "5b83ce1c35a2acaa5544e45d923f82fc98e047241fe593f03a382798a2403f36"
  },
  "kernelspec": {
   "display_name": "Python 3.10.4 ('environment')",
   "language": "python",
   "name": "python3"
  },
  "language_info": {
   "codemirror_mode": {
    "name": "ipython",
    "version": 3
   },
   "file_extension": ".py",
   "mimetype": "text/x-python",
   "name": "python",
   "nbconvert_exporter": "python",
   "pygments_lexer": "ipython3",
   "version": "3.10.4"
  },
  "orig_nbformat": 4
 },
 "nbformat": 4,
 "nbformat_minor": 2
}
