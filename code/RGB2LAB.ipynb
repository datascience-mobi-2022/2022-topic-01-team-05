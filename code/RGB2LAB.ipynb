{
 "cells": [
  {
   "cell_type": "code",
   "execution_count": 2,
   "metadata": {},
   "outputs": [
    {
     "name": "stdout",
     "output_type": "stream",
     "text": [
      "Using matplotlib backend: <object object at 0x000001AA00022D70>\n",
      "%pylab is deprecated, use %matplotlib inline and import the required libraries.\n",
      "Populating the interactive namespace from numpy and matplotlib\n"
     ]
    }
   ],
   "source": [
    "%pylab\n",
    "%matplotlib inline\n",
    "from PIL import Image\n",
    "import numpy as np"
   ]
  },
  {
   "cell_type": "markdown",
   "metadata": {},
   "source": [
    "Funktion, die die LAB-Werte richtig ausrechnet (LAB Werte können im Vergleich zu RGB und HSV auch negativ sein!)"
   ]
  },
  {
   "cell_type": "code",
   "execution_count": 3,
   "metadata": {},
   "outputs": [
    {
     "data": {
      "text/plain": [
       "(70.89607739403526, -65.75030489750277, 47.6334090693872)"
      ]
     },
     "execution_count": 3,
     "metadata": {},
     "output_type": "execute_result"
    }
   ],
   "source": [
    "# Python3 program change RGB Color\n",
    "# Model to LAB Color Model\n",
    "\n",
    "\n",
    "def rgb_to_lab(r, g, b):\n",
    "    RGB = [r,g,b]\n",
    "    num = 0\n",
    "    for value in RGB:\n",
    "        value = float(value)/255\n",
    "        if value > 0.04045:\n",
    "            value = ((value + 0.055) / 1.055) ** 2.4\n",
    "        else:\n",
    "            value = value / 12.92\n",
    "        \n",
    "        RGB[num] = value *100\n",
    "        num = num + 1\n",
    "    \n",
    "    XYZ = [0,0,0]\n",
    "\n",
    "    X = RGB[0] * 0.4124 + RGB[1] * 0.3576 + RGB[2] * 0.1805\n",
    "    Y = RGB[0] * 0.2126 + RGB[1] * 0.7152 + RGB[2] * 0.0722\n",
    "    Z = RGB[0] * 0.0193 + RGB[1] * 0.1192 + RGB[2] * 0.9505\n",
    "\n",
    "    XYZ[0] = round(X, 4)\n",
    "    XYZ[1] = round(Y, 4)\n",
    "    XYZ[2] = round(Z, 4)\n",
    "\n",
    "    XYZ[0] = float(XYZ[0]) / 95.047         # ref_X =  95.047   Observer= 2°, Illuminant= D65\n",
    "    XYZ[1] = float(XYZ[1]) / 100.0          # ref_Y = 100.000\n",
    "    XYZ[2] = float(XYZ[2]) / 108.883        # ref_Z = 108.883\n",
    "\n",
    "    num = 0\n",
    "    for value in XYZ :\n",
    "\n",
    "       if value > 0.008856 :\n",
    "           value = value ** (1/3)\n",
    "       else :\n",
    "           value = ( 7.787 * value ) + ( 16 / 116 )\n",
    "\n",
    "       XYZ[num] = value\n",
    "       num = num + 1\n",
    "\n",
    "  \n",
    "\n",
    "    L = (116 * XYZ[1]) - 16\n",
    "    A = 500 * (XYZ[0] - XYZ[1])\n",
    "    B = 200 * (XYZ[1] - XYZ[2])\n",
    "\n",
    "    return L, A, B\n",
    "\n",
    "rgb_to_lab(20, 200, 80)"
   ]
  },
  {
   "cell_type": "markdown",
   "metadata": {},
   "source": [
    "Fancy Funktion für die RGB-to-LAB Konversion\n",
    "Erklärung der Fancy Funktion:\n",
    "- isistance: Bild muss als PIL Image eingelesen werden (open Funktion)\n",
    "- RGB channels werden durch split Methode in 3 Banden (r, g und b) gesplittet\n",
    "- leere Listen werden erstellt\n",
    "- rd (von red), gn (green), bl (blue) \n",
    "- zip Methode erstellt Tupeln von den R, G und B Banden --> getdata extrahiert die Werte der jeweiligen Banden (R, G, B) --> so werden die RGB Werte für jedes Pixel in ein Tupel reingepackt\n",
    "- Diese RGB Werte werden zu LAB konvertiert\n",
    "- Die Werte der R, G und B Banden werden durch die LAB-Werte ersetzt. Achtung! Es bleiben trotzdem als r, g, b benannt, weil die 3 Banden am Anfang so definiert wurden\n",
    "- Deshalb wird bei merge Funktion r, g, b eingegeben, aber Mode muss LAB sein\n",
    "\n",
    "NACHTEIL: das Bild ist aber zu blau (Negative Werte werden zu 0, vermutlich putdata-Methode ist fehlerhaft\n",
    "VORTEIL: aber genau so scharf wie Input-Bild. Output-Bild funktioniert auch gut auf dem K-Means Clustering Algorithmus\n"
   ]
  },
  {
   "cell_type": "code",
   "execution_count": 4,
   "metadata": {},
   "outputs": [],
   "source": [
    "def LABColor(img):\n",
    "    if isinstance(img, Image.Image):\n",
    "        r,g,b = img.split()\n",
    "        Ldat = []\n",
    "        Adat = []\n",
    "        Bdat = []\n",
    "        for rd, gn, bl in zip(r.getdata(), g.getdata(), b.getdata()):\n",
    "            L,A,B = rgb_to_lab(rd, gn, bl)\n",
    "            Ldat.append(L)\n",
    "            Adat.append(A)\n",
    "            Bdat.append(B)\n",
    "        r.putdata(Ldat)\n",
    "        g.putdata(Adat)\n",
    "        b.putdata(Bdat)\n",
    "        return Image.merge(\"LAB\", (r,g,b))\n",
    "    else:\n",
    "        return None\n"
   ]
  },
  {
   "cell_type": "code",
   "execution_count": 5,
   "metadata": {},
   "outputs": [],
   "source": [
    "RGB_image = Image.open(\"../data/Yeast_Cells.jpg\")\n",
    "RGB_array = np.array(RGB_image)\n",
    "LAB_image_fancy = LABColor(RGB_image)\n",
    "LAB_image_fancy.save(\"../data/LAB_YeastCells_fancy.tiff\")"
   ]
  },
  {
   "cell_type": "markdown",
   "metadata": {},
   "source": [
    "Nicht so fancy Funktion (aber vielleicht verständlicher) mit array, das Output-Bild ist normal was die Farben angeht, aber an manchen Stellen verpixelter als die Fancy Funktion\n",
    "Erklärung Funktion mit array:\n",
    "- Bild wird in array umgewandelt\n",
    "- Leere Liste wird erstellt\n",
    "- für jedes Pixel werden die RGB Werte aus dem RGB_array in LAB Werte umgewandelt\n",
    "- LAB Werte werden für jedes Pixel der Liste eingefügt\n",
    "- Liste mit LAB Werten wird zu 3D-Array mit den gleichem Shape wie das Bild umgewandelt\n",
    "\n",
    "NACHTEIL: Bild nicht so scharf (Information geht irgendwie verloren); Bild auch bisschen dunkler; Output von K Means ganz blöd\n",
    "VORTEIL: nicht blau, Farben sind generell normal"
   ]
  },
  {
   "cell_type": "code",
   "execution_count": 6,
   "metadata": {},
   "outputs": [],
   "source": [
    "def image_lab_conversion_array(RGB_image):\n",
    "    width, height = RGB_image.size\n",
    "    RGB_array = np.array(RGB_image)\n",
    "    LAB_list = []\n",
    "    for x in range(width):\n",
    "        for y in range(height):\n",
    "            r, g, b = RGB_array[x,y]\n",
    "            L, A, B = rgb_to_lab(r, g, b)\n",
    "            listLAB = [int(L), int(A), int(B)]\n",
    "            LAB_list.append(listLAB)\n",
    "    LAB_array = np.asarray(LAB_list, dtype=uint8).reshape(width, height,3)\n",
    "    return LAB_array\n",
    "\n"
   ]
  },
  {
   "cell_type": "markdown",
   "metadata": {},
   "source": [
    "LAB-Bilder können nicht direkt in Python angezeigt werden, sie müssen direkt im TIFF Format (andere Formate anscheinend nicht unterstützt) gespeichert werden!"
   ]
  },
  {
   "cell_type": "code",
   "execution_count": 7,
   "metadata": {},
   "outputs": [],
   "source": [
    "#no need to run, Bild ist schon gespeichert und gepusht\n",
    "LAB_array = image_lab_conversion_array(RGB_image)\n",
    "LAB_image_from_array = Image.fromarray(LAB_array, \"LAB\").save(\"../data/LAB_YeastCells_from_array.tiff\")"
   ]
  },
  {
   "cell_type": "markdown",
   "metadata": {},
   "source": []
  },
  {
   "cell_type": "markdown",
   "metadata": {},
   "source": [
    "Ihr könnt euch im Data Folder die LAB Bilder anschauen und sie mit den normalen Bildern vergleichen!"
   ]
  }
 ],
 "metadata": {
  "interpreter": {
   "hash": "5b83ce1c35a2acaa5544e45d923f82fc98e047241fe593f03a382798a2403f36"
  },
  "kernelspec": {
   "display_name": "Python 3.10.4 ('environment')",
   "language": "python",
   "name": "python3"
  },
  "language_info": {
   "codemirror_mode": {
    "name": "ipython",
    "version": 3
   },
   "file_extension": ".py",
   "mimetype": "text/x-python",
   "name": "python",
   "nbconvert_exporter": "python",
   "pygments_lexer": "ipython3",
   "version": "3.10.4"
  },
  "orig_nbformat": 4
 },
 "nbformat": 4,
 "nbformat_minor": 2
}
