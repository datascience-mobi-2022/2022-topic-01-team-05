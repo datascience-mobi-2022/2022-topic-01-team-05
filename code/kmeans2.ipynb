{
 "cells": [
  {
   "cell_type": "code",
   "execution_count": 1,
   "metadata": {},
   "outputs": [
    {
     "name": "stdout",
     "output_type": "stream",
     "text": [
      "Using matplotlib backend: <object object at 0x0000020B1F3765E0>\n",
      "%pylab is deprecated, use %matplotlib inline and import the required libraries.\n",
      "Populating the interactive namespace from numpy and matplotlib\n"
     ]
    }
   ],
   "source": [
    "%pylab\n",
    "%matplotlib inline"
   ]
  },
  {
   "cell_type": "code",
   "execution_count": 2,
   "metadata": {},
   "outputs": [],
   "source": [
    "from __future__ import absolute_import\n",
    "from __future__ import print_function\n",
    "from __future__ import division\n",
    "\n",
    "import sys\n",
    "import matplotlib\n",
    "import numpy as np\n",
    "import matplotlib.pyplot as plt\n",
    "from mpl_toolkits.mplot3d import axes3d"
   ]
  },
  {
   "cell_type": "code",
   "execution_count": 3,
   "metadata": {},
   "outputs": [],
   "source": [
    "# Load image\n",
    "yeast_cut = imread(\"../data/Yeast_Cells_cut.jpg\")"
   ]
  },
  {
   "cell_type": "code",
   "execution_count": 4,
   "metadata": {},
   "outputs": [],
   "source": [
    "# Set random seed so output is all same\n",
    "np.random.seed(1)\n",
    "\n",
    "\n",
    "class KMeans(object):\n",
    "\n",
    "    def __init__(self):  # No need to implement\n",
    "        pass\n",
    "\n",
    "    def pairwise_dist(self, x, y):  # [5 pts]\n",
    "        \"\"\"\n",
    "        Args:\n",
    "            x: N x D numpy array\n",
    "            y: M x D numpy array\n",
    "        Return:\n",
    "                dist: N x M array, where dist2[i, j] is the euclidean distance between \n",
    "                x[i, :] and y[j, :]\n",
    "                \"\"\"\n",
    "        xSumSquare = np.sum(np.square(x),axis=1);\n",
    "        ySumSquare = np.sum(np.square(y),axis=1);\n",
    "        mul = np.dot(x, y.T);\n",
    "        dists = np.sqrt(abs(xSumSquare[:, np.newaxis] + ySumSquare-2*mul))\n",
    "        return dists\n",
    "\n",
    "    def _init_centers(self, points, K, **kwargs):  # [5 pts]\n",
    "        \"\"\"\n",
    "        Args:\n",
    "            points: NxD numpy array, where N is # points and D is the dimensionality\n",
    "            K: number of clusters\n",
    "            kwargs: any additional arguments you want\n",
    "        Return:\n",
    "            centers: K x D numpy array, the centers. \n",
    "        \"\"\"\n",
    "        row, col = points.shape\n",
    "        retArr = np.empty([K, col])\n",
    "        for number in range(K):\n",
    "            randIndex = np.random.randint(row)\n",
    "            retArr[number] = points[randIndex]\n",
    "        \n",
    "        return retArr\n",
    "\n",
    "    def _update_assignment(self, centers, points):  # [10 pts]\n",
    "        \"\"\"\n",
    "        Args:\n",
    "            centers: KxD numpy array, where K is the number of clusters, and D is the dimension\n",
    "            points: NxD numpy array, the observations\n",
    "        Return:\n",
    "            cluster_idx: numpy array of length N, the cluster assignment for each point\n",
    "\n",
    "        Hint: You could call pairwise_dist() function.\n",
    "        \"\"\"\n",
    "        row, col = points.shape\n",
    "        cluster_idx = np.empty([row])\n",
    "        distances = self.pairwise_dist(points, centers)\n",
    "        cluster_idx = np.argmin(distances, axis=1)\n",
    "\n",
    "        return cluster_idx\n",
    "\n",
    "    def _update_centers(self, old_centers, cluster_idx, points):  # [10 pts]\n",
    "        \"\"\"\n",
    "        Args:\n",
    "            old_centers: old centers KxD numpy array, where K is the number of clusters, and D is the dimension\n",
    "            cluster_idx: numpy array of length N, the cluster assignment for each point\n",
    "            points: NxD numpy array, the observations\n",
    "        Return:\n",
    "            centers: new centers, K x D numpy array, where K is the number of clusters, and D is the dimension.\n",
    "        \"\"\"\n",
    "        K, D = old_centers.shape\n",
    "        new_centers = np.empty(old_centers.shape)\n",
    "        for i in range(K):\n",
    "            new_centers[i] = np.mean(points[cluster_idx == i], axis = 0)\n",
    "        return new_centers\n",
    "\n",
    "    def _get_loss(self, centers, cluster_idx, points):  # [5 pts]\n",
    "        \"\"\"\n",
    "        Args:\n",
    "            centers: KxD numpy array, where K is the number of clusters, and D is the dimension\n",
    "            cluster_idx: numpy array of length N, the cluster assignment for each point\n",
    "            points: NxD numpy array, the observations\n",
    "        Return:\n",
    "            loss: a single float number, which is the objective function of KMeans. \n",
    "        \"\"\"\n",
    "        dists = self.pairwise_dist(points, centers)\n",
    "        loss = 0.0\n",
    "        N, D = points.shape\n",
    "        for i in range(N):\n",
    "            loss = loss + np.square(dists[i][cluster_idx[i]])\n",
    "        \n",
    "        return loss\n",
    "\n",
    "    def __call__(self, points, K, max_iters=100, abs_tol=1e-16, rel_tol=1e-16, verbose=False, **kwargs):\n",
    "        \"\"\"\n",
    "        Args:\n",
    "            points: NxD numpy array, where N is # points and D is the dimensionality\n",
    "            K: number of clusters\n",
    "            max_iters: maximum number of iterations (Hint: You could change it when debugging)\n",
    "            abs_tol: convergence criteria w.r.t absolute change of loss\n",
    "            rel_tol: convergence criteria w.r.t relative change of loss\n",
    "            verbose: boolean to set whether method should print loss (Hint: helpful for debugging)\n",
    "            kwargs: any additional arguments you want\n",
    "        Return:\n",
    "            cluster assignments: Nx1 int numpy array\n",
    "            cluster centers: K x D numpy array, the centers\n",
    "            loss: final loss value of the objective function of KMeans\n",
    "        \"\"\"\n",
    "        centers = self._init_centers(points, K, **kwargs)\n",
    "        for it in range(max_iters):\n",
    "            cluster_idx = self._update_assignment(centers, points)\n",
    "            centers = self._update_centers(centers, cluster_idx, points)\n",
    "            loss = self._get_loss(centers, cluster_idx, points)\n",
    "            K = centers.shape[0]\n",
    "            if it:\n",
    "                diff = np.abs(prev_loss - loss)\n",
    "                if diff < abs_tol and diff / prev_loss < rel_tol:\n",
    "                    break\n",
    "            prev_loss = loss\n",
    "            if verbose:\n",
    "                print('iter %d, loss: %.4f' % (it, loss))\n",
    "        return cluster_idx, centers, loss"
   ]
  },
  {
   "cell_type": "code",
   "execution_count": 5,
   "metadata": {},
   "outputs": [],
   "source": [
    "def image_to_matrix(image_file, grays=False):\n",
    "    \"\"\"\n",
    "    Convert .png image to matrix\n",
    "    of values.\n",
    "    params:\n",
    "    image_file = str\n",
    "    grays = Boolean\n",
    "    returns:\n",
    "    img = (color) np.ndarray[np.ndarray[np.ndarray[float]]]\n",
    "    or (grayscale) np.ndarray[np.ndarray[float]]\n",
    "    \"\"\"\n",
    "    img = plt.imread(image_file)\n",
    "    # in case of transparency values\n",
    "    if len(img.shape) == 3 and img.shape[2] > 3:\n",
    "        height, width, depth = img.shape\n",
    "        new_img = np.zeros([height, width, 3])\n",
    "        for r in range(height):\n",
    "            for c in range(width):\n",
    "                new_img[r, c, :] = img[r, c, 0:3]\n",
    "        img = np.copy(new_img)\n",
    "    if grays and len(img.shape) == 3:\n",
    "        height, width = img.shape[0:2]\n",
    "        new_img = np.zeros([height, width])\n",
    "        for r in range(height):\n",
    "            for c in range(width):\n",
    "                new_img[r, c] = img[r, c, 0]\n",
    "        img = new_img\n",
    "    return img"
   ]
  },
  {
   "cell_type": "code",
   "execution_count": 7,
   "metadata": {},
   "outputs": [
    {
     "data": {
      "image/png": "[encoded data removed]",
      "text/plain": [
       "<Figure size 648x864 with 1 Axes>"
      ]
     },
     "metadata": {
      "needs_background": "light"
     },
     "output_type": "display_data"
    }
   ],
   "source": [
    "image_values = image_to_matrix(\"../data/Yeast_Cells_cut.jpg\")\n",
    "\n",
    "\n",
    "r = image_values.shape[0]\n",
    "c = image_values.shape[1]\n",
    "ch = image_values.shape[2]\n",
    "# flatten the image_values\n",
    "image_values = image_values.reshape(r*c, ch)\n",
    "\n",
    "k = 2 # feel free to change this value\n",
    "cluster_idx, centers, loss = KMeans()(image_values, k)\n",
    "updated_image_values = np.copy(image_values)\n",
    "\n",
    "# assign each pixel to cluster mean\n",
    "for i in range(0,k):\n",
    "    indices_current_cluster = np.where(cluster_idx == i)[0]\n",
    "    updated_image_values[indices_current_cluster] = centers[i]\n",
    "    \n",
    "updated_image_values = updated_image_values.reshape(r,c,ch)\n",
    "\n",
    "plt.figure(None,figsize=(9,12))\n",
    "plt.imshow(updated_image_values)\n",
    "plt.show()"
   ]
  },
  {
   "cell_type": "code",
   "execution_count": null,
   "metadata": {},
   "outputs": [],
   "source": [
    "#ich hoffe es geht"
   ]
  }
 ],
 "metadata": {
  "interpreter": {
   "hash": "5b83ce1c35a2acaa5544e45d923f82fc98e047241fe593f03a382798a2403f36"
  },
  "kernelspec": {
   "display_name": "Python 3.10.4 ('environment')",
   "language": "python",
   "name": "python3"
  },
  "language_info": {
   "codemirror_mode": {
    "name": "ipython",
    "version": 3
   },
   "file_extension": ".py",
   "mimetype": "text/x-python",
   "name": "python",
   "nbconvert_exporter": "python",
   "pygments_lexer": "ipython3",
   "version": "3.10.4"
  },
  "orig_nbformat": 4
 },
 "nbformat": 4,
 "nbformat_minor": 2
}
