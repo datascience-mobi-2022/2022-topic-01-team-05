{
 "cells": [
  {
   "cell_type": "code",
   "execution_count": 17,
   "metadata": {},
   "outputs": [
    {
     "name": "stdout",
     "output_type": "stream",
     "text": [
      "Using matplotlib backend: QtAgg\n",
      "%pylab is deprecated, use %matplotlib inline and import the required libraries.\n",
      "Populating the interactive namespace from numpy and matplotlib\n"
     ]
    }
   ],
   "source": [
    "%pylab\n",
    "%matplotlib inline\n",
    "from PIL import Image\n",
    "import numpy as np"
   ]
  },
  {
   "cell_type": "markdown",
   "metadata": {},
   "source": [
    "Funktion, die die YCbCr Werte ausrechnet. Formel für JPEG-Konversion, daher muss das Bild idealerweise als .jpg gespeichert werden.\n",
    "Wikipedia: JFIF usage of JPEG supports a modified Rec. 601 Y′CbCr where Y′, CB and CR have the full 8-bit range of [0...255].[9] Below are the conversion equations expressed to six decimal digits of precision. (For ideal equations, see ITU-T T.871.[10]) Note that for the following formulae, the range of each input (R,G,B) is also the full 8-bit range of [0...255].\n"
   ]
  },
  {
   "cell_type": "code",
   "execution_count": 18,
   "metadata": {},
   "outputs": [
    {
     "data": {
      "text/plain": [
       "(33.108999999999995, 171.954944, 130.77536)"
      ]
     },
     "execution_count": 18,
     "metadata": {},
     "output_type": "execute_result"
    }
   ],
   "source": [
    "def rgb_to_ycbcr(r, g, b): # in (0,255) range\n",
    "    y = .299*r + .587*g + .114*b\n",
    "    cb = 128 -.168736*r -.331364*g + .5*b\n",
    "    cr = 128 +.5*r - .418688*g - .081312*b\n",
    "    return y, cb, cr\n",
    "\n",
    "rgb_to_ycbcr(37, 16, 111)"
   ]
  },
  {
   "cell_type": "markdown",
   "metadata": {},
   "source": [
    "Fancy Funktion für die RGB-to-YCbCr Konversion\n",
    "Erklärung der Fancy Funktion:\n",
    "- isistance: Bild muss als PIL Image eingelesen werden (open Funktion)\n",
    "- RGB channels werden durch split Methode in 3 Banden (r, g und b) gesplittet\n",
    "- leere Listen werden erstellt\n",
    "- rd (von red), gn (green), bl (blue) \n",
    "- zip Methode erstellt Tupeln von den R, G und B Banden --> getdata extrahiert die Werte der jeweiligen Banden (R, G, B) --> so werden die RGB Werte für jedes Pixel in ein Tupel reingepackt\n",
    "- Diese RGB Werte werden zu YCbCr konvertiert --> \n",
    "- Die Werte der R, G und B Banden werden durch die YCbCr-Werte ersetzt. Achtung! Es bleiben trotzdem als r, g, b benannt, weil die 3 Banden am Anfang so definiert wurden\n",
    "- Deshalb wird bei merge Funktion r, g, b eingegeben, aber Mode muss YCbCr sein"
   ]
  },
  {
   "cell_type": "code",
   "execution_count": 28,
   "metadata": {},
   "outputs": [],
   "source": [
    "def YCbCrColor(img):\n",
    "    if isinstance(img, Image.Image):\n",
    "        r,g,b = img.split()\n",
    "        Ydat = []\n",
    "        Cbdat = []\n",
    "        Crdat = []\n",
    "        for rd, gn, bl in zip(r.getdata(), g.getdata(), b.getdata()):\n",
    "            Y,Cb,Cr = rgb_to_ycbcr(rd, gn, bl)\n",
    "            Ydat.append(int(Y))\n",
    "            Cbdat.append(int(Cb))\n",
    "            Crdat.append(int(Cr))\n",
    "        r.putdata(Ydat)\n",
    "        g.putdata(Cbdat)\n",
    "        b.putdata(Crdat)\n",
    "        return Image.merge(\"YCbCr\", (r,g,b))\n",
    "    else:\n",
    "        return None"
   ]
  },
  {
   "cell_type": "markdown",
   "metadata": {},
   "source": [
    "YCbCr Bilder sind für .JPG gedacht, deshalb in diesem Format speichern"
   ]
  },
  {
   "cell_type": "code",
   "execution_count": 35,
   "metadata": {},
   "outputs": [],
   "source": [
    "RGB_image = Image.open(\"../data/Cell_Nuclei.jpg\")\n",
    "YCbCr_image = YCbCrColor(RGB_image)\n",
    "YCbCr_image.show() #anzeigen"
   ]
  },
  {
   "cell_type": "code",
   "execution_count": 12,
   "metadata": {},
   "outputs": [
    {
     "name": "stdout",
     "output_type": "stream",
     "text": [
      "(1, 126, 128) (2, 2, 0)\n"
     ]
    }
   ],
   "source": [
    "print(YCbCr_image.getpixel((0,0)), RGB_image.getpixel((0,0)))"
   ]
  },
  {
   "cell_type": "code",
   "execution_count": 30,
   "metadata": {},
   "outputs": [],
   "source": [
    "YCbCr_image_array_fancyfunction = np.asarray(YCbCr_image) #in array umwandeln"
   ]
  },
  {
   "cell_type": "markdown",
   "metadata": {},
   "source": [
    "Nicht so fancy Funktion (aber vielleicht verständlicher) mit array, das Output-Bild ist normal was die Farben angeht, aber an manchen Stellen verpixelter als die Fancy Funktion\n",
    "Erklärung Funktion mit array:\n",
    "- Bild wird in array umgewandelt\n",
    "- Leere Liste wird erstellt\n",
    "- für jedes Pixel werden die RGB Werte aus dem RGB_array in YCbCr Werte umgewandelt\n",
    "- YCbCr Werte werden für jedes Pixel der Liste eingefügt\n",
    "- Liste mit YCbCr Werten wird zu 3D-Array mit den gleichem Shape wie das Bild umgewandelt"
   ]
  },
  {
   "cell_type": "code",
   "execution_count": 33,
   "metadata": {},
   "outputs": [],
   "source": [
    "def image_ycbcr_conversion_array(RGB_image):\n",
    "    RGB_array = np.array(RGB_image)\n",
    "    width, height = RGB_image.size\n",
    "    YCbCr_list = []\n",
    "    for x in range(width):\n",
    "        for y in range(height):\n",
    "            r, g, b = RGB_array[x,y]\n",
    "            Y, Cb, Cr = rgb_to_ycbcr(r, g, b)\n",
    "            listYCbCr = [int(Y), int(Cb), int(Cr)]\n",
    "            YCbCr_list.append(listYCbCr)\n",
    "    YCbCr_array = np.asarray(YCbCr_list, dtype=uint8).reshape(width, height, 3)\n",
    "    return YCbCr_array"
   ]
  },
  {
   "cell_type": "code",
   "execution_count": 39,
   "metadata": {},
   "outputs": [],
   "source": [
    "YCbCr_image_array_arrayfunction = image_ycbcr_conversion_array(RGB_image)\n",
    "Image.fromarray(YCbCr_image_array_arrayfunction, \"YCbCr\").save(\"../data/YCbCr_CellNuclei_array.jpg\") #anzeigen"
   ]
  }
 ],
 "metadata": {
  "interpreter": {
   "hash": "5b83ce1c35a2acaa5544e45d923f82fc98e047241fe593f03a382798a2403f36"
  },
  "kernelspec": {
   "display_name": "Python 3.10.4 ('environment')",
   "language": "python",
   "name": "python3"
  },
  "language_info": {
   "codemirror_mode": {
    "name": "ipython",
    "version": 3
   },
   "file_extension": ".py",
   "mimetype": "text/x-python",
   "name": "python",
   "nbconvert_exporter": "python",
   "pygments_lexer": "ipython3",
   "version": "3.10.4"
  },
  "orig_nbformat": 4
 },
 "nbformat": 4,
 "nbformat_minor": 2
}
